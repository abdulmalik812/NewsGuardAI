{
 "cells": [
  {
   "cell_type": "markdown",
   "metadata": {},
   "source": [
    "# Combining Data sources"
   ]
  },
  {
   "cell_type": "code",
   "execution_count": 79,
   "metadata": {},
   "outputs": [],
   "source": [
    "import os\n",
    "import numpy as np\n",
    "import pandas as pd\n",
    "import matplotlib.pyplot as plt\n",
    "import seaborn as sns\n",
    "sns.set_style('whitegrid')\n",
    "from langdetect import detect\n",
    "from langdetect import DetectorFactory\n",
    "from tqdm import tqdm\n",
    "import warnings\n",
    "warnings.filterwarnings('ignore')\n",
    "import re\n",
    "import nltk\n",
    "from nltk.corpus import stopwords\n",
    "from nltk.stem.snowball import SnowballStemmer\n",
    "from nltk.stem import WordNetLemmatizer"
   ]
  },
  {
   "cell_type": "markdown",
   "metadata": {},
   "source": [
    "## Dataset 1 (kaggle-1)\n",
    "\n",
    "Datset: https://www.kaggle.com/c/fake-news/data"
   ]
  },
  {
   "cell_type": "code",
   "execution_count": 2,
   "metadata": {},
   "outputs": [],
   "source": [
    "kaggle_1 = pd.read_csv('E:\\Major project\\data\\kaggle_1_tr.csv')"
   ]
  },
  {
   "cell_type": "code",
   "execution_count": 3,
   "metadata": {},
   "outputs": [
    {
     "data": {
      "text/html": [
       "<div>\n",
       "<style scoped>\n",
       "    .dataframe tbody tr th:only-of-type {\n",
       "        vertical-align: middle;\n",
       "    }\n",
       "\n",
       "    .dataframe tbody tr th {\n",
       "        vertical-align: top;\n",
       "    }\n",
       "\n",
       "    .dataframe thead th {\n",
       "        text-align: right;\n",
       "    }\n",
       "</style>\n",
       "<table border=\"1\" class=\"dataframe\">\n",
       "  <thead>\n",
       "    <tr style=\"text-align: right;\">\n",
       "      <th></th>\n",
       "      <th>id</th>\n",
       "      <th>title</th>\n",
       "      <th>author</th>\n",
       "      <th>text</th>\n",
       "      <th>label</th>\n",
       "    </tr>\n",
       "  </thead>\n",
       "  <tbody>\n",
       "    <tr>\n",
       "      <th>0</th>\n",
       "      <td>0</td>\n",
       "      <td>House Dem Aide: We Didn’t Even See Comey’s Let...</td>\n",
       "      <td>Darrell Lucus</td>\n",
       "      <td>House Dem Aide: We Didn’t Even See Comey’s Let...</td>\n",
       "      <td>1</td>\n",
       "    </tr>\n",
       "    <tr>\n",
       "      <th>1</th>\n",
       "      <td>1</td>\n",
       "      <td>FLYNN: Hillary Clinton, Big Woman on Campus - ...</td>\n",
       "      <td>Daniel J. Flynn</td>\n",
       "      <td>Ever get the feeling your life circles the rou...</td>\n",
       "      <td>0</td>\n",
       "    </tr>\n",
       "    <tr>\n",
       "      <th>2</th>\n",
       "      <td>2</td>\n",
       "      <td>Why the Truth Might Get You Fired</td>\n",
       "      <td>Consortiumnews.com</td>\n",
       "      <td>Why the Truth Might Get You Fired October 29, ...</td>\n",
       "      <td>1</td>\n",
       "    </tr>\n",
       "    <tr>\n",
       "      <th>3</th>\n",
       "      <td>3</td>\n",
       "      <td>15 Civilians Killed In Single US Airstrike Hav...</td>\n",
       "      <td>Jessica Purkiss</td>\n",
       "      <td>Videos 15 Civilians Killed In Single US Airstr...</td>\n",
       "      <td>1</td>\n",
       "    </tr>\n",
       "    <tr>\n",
       "      <th>4</th>\n",
       "      <td>4</td>\n",
       "      <td>Iranian woman jailed for fictional unpublished...</td>\n",
       "      <td>Howard Portnoy</td>\n",
       "      <td>Print \\nAn Iranian woman has been sentenced to...</td>\n",
       "      <td>1</td>\n",
       "    </tr>\n",
       "  </tbody>\n",
       "</table>\n",
       "</div>"
      ],
      "text/plain": [
       "   id                                              title              author  \\\n",
       "0   0  House Dem Aide: We Didn’t Even See Comey’s Let...       Darrell Lucus   \n",
       "1   1  FLYNN: Hillary Clinton, Big Woman on Campus - ...     Daniel J. Flynn   \n",
       "2   2                  Why the Truth Might Get You Fired  Consortiumnews.com   \n",
       "3   3  15 Civilians Killed In Single US Airstrike Hav...     Jessica Purkiss   \n",
       "4   4  Iranian woman jailed for fictional unpublished...      Howard Portnoy   \n",
       "\n",
       "                                                text  label  \n",
       "0  House Dem Aide: We Didn’t Even See Comey’s Let...      1  \n",
       "1  Ever get the feeling your life circles the rou...      0  \n",
       "2  Why the Truth Might Get You Fired October 29, ...      1  \n",
       "3  Videos 15 Civilians Killed In Single US Airstr...      1  \n",
       "4  Print \\nAn Iranian woman has been sentenced to...      1  "
      ]
     },
     "execution_count": 3,
     "metadata": {},
     "output_type": "execute_result"
    }
   ],
   "source": [
    "kaggle_1.head()"
   ]
  },
  {
   "cell_type": "code",
   "execution_count": 5,
   "metadata": {},
   "outputs": [
    {
     "name": "stdout",
     "output_type": "stream",
     "text": [
      "Datapoints in train-data for kaggle-1 dataset: 20800\n"
     ]
    }
   ],
   "source": [
    "print(f'Datapoints in train-data for kaggle-1 dataset: {kaggle_1.shape[0]}')"
   ]
  },
  {
   "cell_type": "markdown",
   "metadata": {},
   "source": [
    "\n",
    "\n",
    "* We've about 20,800 datapoints coming from the kaggle-1 dataset"
   ]
  },
  {
   "cell_type": "code",
   "execution_count": 14,
   "metadata": {},
   "outputs": [
    {
     "data": {
      "text/plain": [
       "id           0\n",
       "title      558\n",
       "author    1957\n",
       "text        39\n",
       "label        0\n",
       "dtype: int64"
      ]
     },
     "execution_count": 14,
     "metadata": {},
     "output_type": "execute_result"
    }
   ],
   "source": [
    "# Checking for missing data \n",
    "\n",
    "kaggle_1.isna().sum()"
   ]
  },
  {
   "cell_type": "markdown",
   "metadata": {},
   "source": [
    "* There are few instances where the author, title and body are missing which we'l try taking care of later\n",
    "* It'll make sense to drop the 'author' feature since the other datasets do not have the 'author' feature\n",
    "* Another important thing that can be done is to use common feature names across all the datasets like 'title', 'body' and 'label'"
   ]
  },
  {
   "cell_type": "code",
   "execution_count": 26,
   "metadata": {},
   "outputs": [
    {
     "data": {
      "text/html": [
       "<div>\n",
       "<style scoped>\n",
       "    .dataframe tbody tr th:only-of-type {\n",
       "        vertical-align: middle;\n",
       "    }\n",
       "\n",
       "    .dataframe tbody tr th {\n",
       "        vertical-align: top;\n",
       "    }\n",
       "\n",
       "    .dataframe thead th {\n",
       "        text-align: right;\n",
       "    }\n",
       "</style>\n",
       "<table border=\"1\" class=\"dataframe\">\n",
       "  <thead>\n",
       "    <tr style=\"text-align: right;\">\n",
       "      <th></th>\n",
       "      <th>title</th>\n",
       "      <th>body</th>\n",
       "      <th>label</th>\n",
       "    </tr>\n",
       "  </thead>\n",
       "  <tbody>\n",
       "    <tr>\n",
       "      <th>0</th>\n",
       "      <td>House Dem Aide: We Didn’t Even See Comey’s Let...</td>\n",
       "      <td>House Dem Aide: We Didn’t Even See Comey’s Let...</td>\n",
       "      <td>1</td>\n",
       "    </tr>\n",
       "    <tr>\n",
       "      <th>1</th>\n",
       "      <td>FLYNN: Hillary Clinton, Big Woman on Campus - ...</td>\n",
       "      <td>Ever get the feeling your life circles the rou...</td>\n",
       "      <td>0</td>\n",
       "    </tr>\n",
       "    <tr>\n",
       "      <th>2</th>\n",
       "      <td>Why the Truth Might Get You Fired</td>\n",
       "      <td>Why the Truth Might Get You Fired October 29, ...</td>\n",
       "      <td>1</td>\n",
       "    </tr>\n",
       "    <tr>\n",
       "      <th>3</th>\n",
       "      <td>15 Civilians Killed In Single US Airstrike Hav...</td>\n",
       "      <td>Videos 15 Civilians Killed In Single US Airstr...</td>\n",
       "      <td>1</td>\n",
       "    </tr>\n",
       "    <tr>\n",
       "      <th>4</th>\n",
       "      <td>Iranian woman jailed for fictional unpublished...</td>\n",
       "      <td>Print \\nAn Iranian woman has been sentenced to...</td>\n",
       "      <td>1</td>\n",
       "    </tr>\n",
       "  </tbody>\n",
       "</table>\n",
       "</div>"
      ],
      "text/plain": [
       "                                               title  \\\n",
       "0  House Dem Aide: We Didn’t Even See Comey’s Let...   \n",
       "1  FLYNN: Hillary Clinton, Big Woman on Campus - ...   \n",
       "2                  Why the Truth Might Get You Fired   \n",
       "3  15 Civilians Killed In Single US Airstrike Hav...   \n",
       "4  Iranian woman jailed for fictional unpublished...   \n",
       "\n",
       "                                                body  label  \n",
       "0  House Dem Aide: We Didn’t Even See Comey’s Let...      1  \n",
       "1  Ever get the feeling your life circles the rou...      0  \n",
       "2  Why the Truth Might Get You Fired October 29, ...      1  \n",
       "3  Videos 15 Civilians Killed In Single US Airstr...      1  \n",
       "4  Print \\nAn Iranian woman has been sentenced to...      1  "
      ]
     },
     "execution_count": 26,
     "metadata": {},
     "output_type": "execute_result"
    }
   ],
   "source": [
    "kaggle_1 = kaggle_1.rename(columns={'text': 'body'})\n",
    "kaggle_1.drop(['author', 'id'], axis=1, inplace=True)\n",
    "kaggle_1.head()"
   ]
  },
  {
   "cell_type": "code",
   "execution_count": 2,
   "metadata": {},
   "outputs": [],
   "source": [
    "# Defining a function that gets lengths of all instances in a series (title and body for instance)\n",
    "# While the same task can simply be achieved using a simply apply(len) function on the feature whose length be want, it fails when there are NaN values. \n",
    "# We could always remove the instaces with NaN values but for later analysis it can be helpful. Thus its better to write a custom function that works even when NaN's are present\n",
    "\n",
    "def get_length(series):\n",
    "    \n",
    "    \"\"\"\n",
    "        Given a series, the function returns the length of text for all instances in the series in a list. \n",
    "        This function works well even when NaNs are present in the series.\n",
    "        \n",
    "        Parameter: Takes in a series that contains text data.\n",
    "        \n",
    "        Output: Returns two lists such that one contains the number of words per sentence and the other returns the number of letters in the sentence\n",
    "    \"\"\"\n",
    "    \n",
    "    series_list = series.values # Converting the series to a list\n",
    "    length_of_words = []   # List to store all the lengths. Here length refers to the number of words in each sentence\n",
    "    total_letters = []     # List to store all the number of letters per sentence\n",
    "    \n",
    "    for sentence in series_list:\n",
    "        # Checking whether the sentence is np.nan. Since we're dealing with text data, the only case where the type of a sentence would be float is when its NaN\n",
    "        if type(sentence) == float:   \n",
    "            length_of_words.append(np.nan)\n",
    "            total_letters.append(np.nan)\n",
    "        else: \n",
    "            total_letters.append(len(sentence))   # Number of letters in the sentence\n",
    "            length_of_words.append(len(sentence.split()))  # Length of the sentence as in number of words in the sentence\n",
    "            \n",
    "    return length_of_words, total_letters"
   ]
  },
  {
   "cell_type": "code",
   "execution_count": 85,
   "metadata": {},
   "outputs": [],
   "source": [
    "title_num_words, title_num_letters = get_length(kaggle_1['title'])\n",
    "body_num_words, body_num_letters = get_length(kaggle_1['body'])\n",
    "\n",
    "kaggle_1['title_num_words'] = title_num_words\n",
    "kaggle_1['title_num_letters'] = title_num_letters\n",
    "kaggle_1['body_num_words'] = body_num_words\n",
    "kaggle_1['body_num_letters'] = body_num_letters"
   ]
  },
  {
   "cell_type": "code",
   "execution_count": 86,
   "metadata": {},
   "outputs": [
    {
     "data": {
      "text/html": [
       "<div>\n",
       "<style scoped>\n",
       "    .dataframe tbody tr th:only-of-type {\n",
       "        vertical-align: middle;\n",
       "    }\n",
       "\n",
       "    .dataframe tbody tr th {\n",
       "        vertical-align: top;\n",
       "    }\n",
       "\n",
       "    .dataframe thead th {\n",
       "        text-align: right;\n",
       "    }\n",
       "</style>\n",
       "<table border=\"1\" class=\"dataframe\">\n",
       "  <thead>\n",
       "    <tr style=\"text-align: right;\">\n",
       "      <th></th>\n",
       "      <th>title</th>\n",
       "      <th>body</th>\n",
       "      <th>label</th>\n",
       "      <th>title_num_words</th>\n",
       "      <th>title_num_letters</th>\n",
       "      <th>body_num_words</th>\n",
       "      <th>body_num_letters</th>\n",
       "    </tr>\n",
       "  </thead>\n",
       "  <tbody>\n",
       "    <tr>\n",
       "      <th>0</th>\n",
       "      <td>House Dem Aide: We Didn’t Even See Comey’s Let...</td>\n",
       "      <td>House Dem Aide: We Didn’t Even See Comey’s Let...</td>\n",
       "      <td>1</td>\n",
       "      <td>14.0</td>\n",
       "      <td>81.0</td>\n",
       "      <td>820.0</td>\n",
       "      <td>4930.0</td>\n",
       "    </tr>\n",
       "    <tr>\n",
       "      <th>1</th>\n",
       "      <td>FLYNN: Hillary Clinton, Big Woman on Campus - ...</td>\n",
       "      <td>Ever get the feeling your life circles the rou...</td>\n",
       "      <td>0</td>\n",
       "      <td>9.0</td>\n",
       "      <td>55.0</td>\n",
       "      <td>710.0</td>\n",
       "      <td>4160.0</td>\n",
       "    </tr>\n",
       "    <tr>\n",
       "      <th>2</th>\n",
       "      <td>Why the Truth Might Get You Fired</td>\n",
       "      <td>Why the Truth Might Get You Fired October 29, ...</td>\n",
       "      <td>1</td>\n",
       "      <td>7.0</td>\n",
       "      <td>33.0</td>\n",
       "      <td>1266.0</td>\n",
       "      <td>7692.0</td>\n",
       "    </tr>\n",
       "    <tr>\n",
       "      <th>3</th>\n",
       "      <td>15 Civilians Killed In Single US Airstrike Hav...</td>\n",
       "      <td>Videos 15 Civilians Killed In Single US Airstr...</td>\n",
       "      <td>1</td>\n",
       "      <td>10.0</td>\n",
       "      <td>63.0</td>\n",
       "      <td>557.0</td>\n",
       "      <td>3237.0</td>\n",
       "    </tr>\n",
       "    <tr>\n",
       "      <th>4</th>\n",
       "      <td>Iranian woman jailed for fictional unpublished...</td>\n",
       "      <td>Print \\nAn Iranian woman has been sentenced to...</td>\n",
       "      <td>1</td>\n",
       "      <td>14.0</td>\n",
       "      <td>93.0</td>\n",
       "      <td>154.0</td>\n",
       "      <td>938.0</td>\n",
       "    </tr>\n",
       "  </tbody>\n",
       "</table>\n",
       "</div>"
      ],
      "text/plain": [
       "                                               title  \\\n",
       "0  House Dem Aide: We Didn’t Even See Comey’s Let...   \n",
       "1  FLYNN: Hillary Clinton, Big Woman on Campus - ...   \n",
       "2                  Why the Truth Might Get You Fired   \n",
       "3  15 Civilians Killed In Single US Airstrike Hav...   \n",
       "4  Iranian woman jailed for fictional unpublished...   \n",
       "\n",
       "                                                body  label  title_num_words  \\\n",
       "0  House Dem Aide: We Didn’t Even See Comey’s Let...      1             14.0   \n",
       "1  Ever get the feeling your life circles the rou...      0              9.0   \n",
       "2  Why the Truth Might Get You Fired October 29, ...      1              7.0   \n",
       "3  Videos 15 Civilians Killed In Single US Airstr...      1             10.0   \n",
       "4  Print \\nAn Iranian woman has been sentenced to...      1             14.0   \n",
       "\n",
       "   title_num_letters  body_num_words  body_num_letters  \n",
       "0               81.0           820.0            4930.0  \n",
       "1               55.0           710.0            4160.0  \n",
       "2               33.0          1266.0            7692.0  \n",
       "3               63.0           557.0            3237.0  \n",
       "4               93.0           154.0             938.0  "
      ]
     },
     "execution_count": 86,
     "metadata": {},
     "output_type": "execute_result"
    }
   ],
   "source": [
    "kaggle_1.head()"
   ]
  },
  {
   "cell_type": "code",
   "execution_count": 87,
   "metadata": {},
   "outputs": [
    {
     "data": {
      "text/html": [
       "<div>\n",
       "<style scoped>\n",
       "    .dataframe tbody tr th:only-of-type {\n",
       "        vertical-align: middle;\n",
       "    }\n",
       "\n",
       "    .dataframe tbody tr th {\n",
       "        vertical-align: top;\n",
       "    }\n",
       "\n",
       "    .dataframe thead th {\n",
       "        text-align: right;\n",
       "    }\n",
       "</style>\n",
       "<table border=\"1\" class=\"dataframe\">\n",
       "  <thead>\n",
       "    <tr style=\"text-align: right;\">\n",
       "      <th></th>\n",
       "      <th>title_num_words</th>\n",
       "      <th>title_num_letters</th>\n",
       "      <th>body_num_words</th>\n",
       "      <th>body_num_letters</th>\n",
       "    </tr>\n",
       "  </thead>\n",
       "  <tbody>\n",
       "    <tr>\n",
       "      <th>count</th>\n",
       "      <td>20242.000000</td>\n",
       "      <td>20242.000000</td>\n",
       "      <td>20761.000000</td>\n",
       "      <td>20761.000000</td>\n",
       "    </tr>\n",
       "    <tr>\n",
       "      <th>mean</th>\n",
       "      <td>12.420709</td>\n",
       "      <td>74.319336</td>\n",
       "      <td>760.308126</td>\n",
       "      <td>4552.715380</td>\n",
       "    </tr>\n",
       "    <tr>\n",
       "      <th>std</th>\n",
       "      <td>4.098735</td>\n",
       "      <td>23.161910</td>\n",
       "      <td>869.525988</td>\n",
       "      <td>5130.563491</td>\n",
       "    </tr>\n",
       "    <tr>\n",
       "      <th>min</th>\n",
       "      <td>1.000000</td>\n",
       "      <td>3.000000</td>\n",
       "      <td>0.000000</td>\n",
       "      <td>1.000000</td>\n",
       "    </tr>\n",
       "    <tr>\n",
       "      <th>25%</th>\n",
       "      <td>10.000000</td>\n",
       "      <td>60.000000</td>\n",
       "      <td>269.000000</td>\n",
       "      <td>1628.000000</td>\n",
       "    </tr>\n",
       "    <tr>\n",
       "      <th>50%</th>\n",
       "      <td>13.000000</td>\n",
       "      <td>75.000000</td>\n",
       "      <td>556.000000</td>\n",
       "      <td>3361.000000</td>\n",
       "    </tr>\n",
       "    <tr>\n",
       "      <th>75%</th>\n",
       "      <td>15.000000</td>\n",
       "      <td>88.000000</td>\n",
       "      <td>1052.000000</td>\n",
       "      <td>6275.000000</td>\n",
       "    </tr>\n",
       "    <tr>\n",
       "      <th>max</th>\n",
       "      <td>72.000000</td>\n",
       "      <td>456.000000</td>\n",
       "      <td>24234.000000</td>\n",
       "      <td>142961.000000</td>\n",
       "    </tr>\n",
       "  </tbody>\n",
       "</table>\n",
       "</div>"
      ],
      "text/plain": [
       "       title_num_words  title_num_letters  body_num_words  body_num_letters\n",
       "count     20242.000000       20242.000000    20761.000000      20761.000000\n",
       "mean         12.420709          74.319336      760.308126       4552.715380\n",
       "std           4.098735          23.161910      869.525988       5130.563491\n",
       "min           1.000000           3.000000        0.000000          1.000000\n",
       "25%          10.000000          60.000000      269.000000       1628.000000\n",
       "50%          13.000000          75.000000      556.000000       3361.000000\n",
       "75%          15.000000          88.000000     1052.000000       6275.000000\n",
       "max          72.000000         456.000000    24234.000000     142961.000000"
      ]
     },
     "execution_count": 87,
     "metadata": {},
     "output_type": "execute_result"
    }
   ],
   "source": [
    "# Now that we have the lengths, we can do some basic analysis \n",
    "\n",
    "kaggle_1.drop('label', axis=1).describe()"
   ]
  },
  {
   "cell_type": "code",
   "execution_count": 97,
   "metadata": {},
   "outputs": [
    {
     "data": {
      "text/plain": [
       "'The Hard Working American vs. The Government Parasite By Michael Snyder, on April 10th, 2012 \\nWhich '"
      ]
     },
     "execution_count": 97,
     "metadata": {},
     "output_type": "execute_result"
    }
   ],
   "source": [
    "# It would make sense to have a look at the article with 24234 words and also the article which has 142,961 letters in it since these numbers are insanely high!\n",
    "\n",
    "# Checking the first 100 words\n",
    "kaggle_1.iloc[kaggle_1['body_num_words'].argmax()]['body'][:100]"
   ]
  },
  {
   "cell_type": "code",
   "execution_count": 96,
   "metadata": {},
   "outputs": [
    {
     "data": {
      "text/plain": [
       "'Заседание Международного дискуссионного клуба «Валдай» Владимир В. Путин Сеть Вольтер | Сочи (Россия'"
      ]
     },
     "execution_count": 96,
     "metadata": {},
     "output_type": "execute_result"
    }
   ],
   "source": [
    "# First 100 words of the article containing most number of letters\n",
    "\n",
    "kaggle_1.iloc[kaggle_1['body_num_letters'].argmax()]['body'][:100]"
   ]
  },
  {
   "cell_type": "markdown",
   "metadata": {},
   "source": [
    "#### Observation:\n",
    "* On expanding the article with most number of words, it is revealed that the articles can contain emojis as well. We'll have to take care of this later\n",
    "* On expanding the article with most number of letters, we see a different language all together. By putting the sentence into Google Translate, it looks like the language is Russian.\n",
    "This means that the data also contains\n",
    "articles of different languages which we'll have to get rid off later\n",
    "* There also are instances where there's only one word in the title and zero words in the body"
   ]
  },
  {
   "cell_type": "code",
   "execution_count": 201,
   "metadata": {},
   "outputs": [],
   "source": [
    "# In order to detect whether articles are in english or not, we can use a really nice library called 'langdetect' https://pypi.org/project/langdetect/\n",
    "# langdetect best detects language when there are atleast a few words in the sentence\n",
    "# Thus we split the data into data having less than 3 words and data having more than 3 words\n",
    "\n",
    "less_than_3_words = kaggle_1[kaggle_1['body_num_words'] < 3].reset_index()  # Contains all instances where there are less than 3 words in the body\n",
    "more_than_3_words = kaggle_1[kaggle_1['body_num_words'] > 3].reset_index()  # Contains all instances where there are more than 3 words in the body"
   ]
  },
  {
   "cell_type": "code",
   "execution_count": 113,
   "metadata": {},
   "outputs": [
    {
     "data": {
      "text/plain": [
       "114"
      ]
     },
     "execution_count": 113,
     "metadata": {},
     "output_type": "execute_result"
    }
   ],
   "source": [
    "len(less_than_3_words)  # there are 114 articles with less than 3 words"
   ]
  },
  {
   "cell_type": "code",
   "execution_count": 202,
   "metadata": {},
   "outputs": [
    {
     "name": "stderr",
     "output_type": "stream",
     "text": [
      "100%|████████████████████████████████████████████████████████████████████████████| 20626/20626 [05:06<00:00, 67.28it/s]\n"
     ]
    }
   ],
   "source": [
    "# The code below goes over all the articles in the dataframe having more than 3 words in the body and checks whether they're english or not\n",
    "\n",
    "DetectorFactory.seed = 0\n",
    "\n",
    "non_english_articles = 0  \n",
    "idx_list = []  # List to store the indices of the non-english articles\n",
    "langs = []  # list to store all languages encountered that aren't english\n",
    "for idx in tqdm(range(len(more_than_3_words['body']))):\n",
    "#, article_body in enumerate(tqdm(more_than_3_words['body'])):   \n",
    "    language_of_text = detect(more_than_3_words['body'][idx])\n",
    "    if language_of_text != 'en':\n",
    "        non_english_articles += 1\n",
    "        langs.append(language_of_text)\n",
    "        idx_list.append(idx)"
   ]
  },
  {
   "cell_type": "code",
   "execution_count": 203,
   "metadata": {},
   "outputs": [
    {
     "name": "stdout",
     "output_type": "stream",
     "text": [
      "{'no', 'tl', 'cy', 'id', 'zh-cn', 'hr', 'tr', 'pl', 'el', 'ar', 'es', 'nl', 'fr', 'pt', 'it', 'fi', 'de', 'ru'}\n",
      "\n",
      "There are 18 languages apart from English\n",
      "\n",
      "There are 482 articles in the dataset that are Non-English\n"
     ]
    }
   ],
   "source": [
    "# Printing all the non-enlish languages\n",
    "\n",
    "print(set(langs))\n",
    "print(f'\\nThere are {len(set(langs))} languages apart from English')\n",
    "print(f'\\nThere are {non_english_articles} articles in the dataset that are Non-English')"
   ]
  },
  {
   "cell_type": "code",
   "execution_count": 210,
   "metadata": {},
   "outputs": [
    {
     "name": "stdout",
     "output_type": "stream",
     "text": [
      "\n",
      "Article 1: 0 комментариев 0 поделились Фото: AP \n",
      "Однако глава правительства Сербии Александр Вучич отказался ко\n",
      "Language in article 1: ru\n",
      "------------------------------------------------------------------------------------------------------------------------\n",
      "\n",
      "Article 2: Страна: Китай Заявления КНДР о завершении своей программы развития ядерного оружия вызвали всплеск д\n",
      "Language in article 2: ru\n",
      "------------------------------------------------------------------------------------------------------------------------\n",
      "\n",
      "Article 3: La expresión “no, lo siguiente” ya es la más utilizada no, lo siguiente, en el castellano SE HA HECH\n",
      "Language in article 3: es\n",
      "------------------------------------------------------------------------------------------------------------------------\n",
      "\n",
      "Article 4: +++ Hände weg vom Alkohol: Schreiner rührt nach Arbeitsunfall keine Spirituosen mehr an +++ +++ An d\n",
      "Language in article 4: de\n",
      "------------------------------------------------------------------------------------------------------------------------\n",
      "\n",
      "Article 5: Ya hay más reencuentros de “Operación Triunfo” que ediciones de “Operación Triunfo” SE ESTÁN REENCON\n",
      "Language in article 5: es\n",
      "------------------------------------------------------------------------------------------------------------------------\n",
      "\n",
      "Article 6: Páginas Libres\n",
      "¡Demoledor amparo contra Salgado, Keiko y 72 congresistas más! Socios | 5 de noviembr\n",
      "Language in article 6: es\n",
      "------------------------------------------------------------------------------------------------------------------------\n",
      "\n",
      "Article 7: Las frases más destacadas del debate de investidura RESUMIMOS LA AGITADA JORNADA DE HOY EN EL CONGRE\n",
      "Language in article 7: es\n",
      "------------------------------------------------------------------------------------------------------------------------\n",
      "\n",
      "Article 8: 0 комментариев 7 поделились \n",
      "Отвечая на соответствующий вопрос участника форума Виктора Тарасова, гл\n",
      "Language in article 8: ru\n",
      "------------------------------------------------------------------------------------------------------------------------\n",
      "\n",
      "Article 9: Reunión del Consejo de Seguridad de 28 de octubre de 2016\n",
      "Nota conceptual para la presidencia de Rus\n",
      "Language in article 9: es\n",
      "------------------------------------------------------------------------------------------------------------------------\n",
      "\n",
      "Article 10: В ноябре 2016 г. Мажилис Парламента Республики Казахстан одобрил создание на территории страны Банка\n",
      "Language in article 10: ru\n",
      "------------------------------------------------------------------------------------------------------------------------\n"
     ]
    }
   ],
   "source": [
    "# Printing the first 10 Non-English articles \n",
    "\n",
    "for i,idx in enumerate(idx_list[:10]):\n",
    "    text = more_than_3_words['body'][idx][:100]\n",
    "    print(f'\\nArticle {i+1}: {text}')\n",
    "    print(f'Language in article {i+1}: {langs[i]}')\n",
    "    print('-'*120)"
   ]
  },
  {
   "cell_type": "code",
   "execution_count": 218,
   "metadata": {},
   "outputs": [
    {
     "name": "stdout",
     "output_type": "stream",
     "text": [
      "20144\n"
     ]
    }
   ],
   "source": [
    "# Now that we have all the indices of all the articles that are non English, we can also obtain the indices for the articles that are English\n",
    "\n",
    "all_indices = list(np.arange(more_than_3_words.shape[0]))  # Has all indices in the dataframe more_than_3_words. The indices go from 0 to 20,625\n",
    "filtered_indices = []  # To store the filtered English articles only\n",
    "\n",
    "for idx in all_indices:\n",
    "    if idx not in idx_list:  # If index not present in the list of indices belonging to non-english articles\n",
    "        filtered_indices.append(idx)\n",
    "print(len(filtered_indices))  "
   ]
  },
  {
   "cell_type": "code",
   "execution_count": 221,
   "metadata": {},
   "outputs": [],
   "source": [
    "# Now that we have all the indices of the english articles, we can update the initial dataframe to \n",
    "\n",
    "more_than_3_words = more_than_3_words.iloc[filtered_indices]"
   ]
  },
  {
   "cell_type": "code",
   "execution_count": 229,
   "metadata": {},
   "outputs": [],
   "source": [
    "# Since at the start we had split the data into 2 parts: more_than_3_words and less_than_3_words, we need to combine them again now\n",
    "\n",
    "kaggle_1 = more_than_3_words.append(less_than_3_words, ignore_index=True) "
   ]
  },
  {
   "cell_type": "code",
   "execution_count": 241,
   "metadata": {},
   "outputs": [
    {
     "data": {
      "text/html": [
       "<div>\n",
       "<style scoped>\n",
       "    .dataframe tbody tr th:only-of-type {\n",
       "        vertical-align: middle;\n",
       "    }\n",
       "\n",
       "    .dataframe tbody tr th {\n",
       "        vertical-align: top;\n",
       "    }\n",
       "\n",
       "    .dataframe thead th {\n",
       "        text-align: right;\n",
       "    }\n",
       "</style>\n",
       "<table border=\"1\" class=\"dataframe\">\n",
       "  <thead>\n",
       "    <tr style=\"text-align: right;\">\n",
       "      <th></th>\n",
       "      <th>index</th>\n",
       "      <th>title</th>\n",
       "      <th>body</th>\n",
       "      <th>label</th>\n",
       "      <th>title_num_words</th>\n",
       "      <th>title_num_letters</th>\n",
       "      <th>body_num_words</th>\n",
       "      <th>body_num_letters</th>\n",
       "    </tr>\n",
       "  </thead>\n",
       "  <tbody>\n",
       "    <tr>\n",
       "      <th>0</th>\n",
       "      <td>0</td>\n",
       "      <td>House Dem Aide: We Didn’t Even See Comey’s Let...</td>\n",
       "      <td>House Dem Aide: We Didn’t Even See Comey’s Let...</td>\n",
       "      <td>1</td>\n",
       "      <td>14.0</td>\n",
       "      <td>81.0</td>\n",
       "      <td>820.0</td>\n",
       "      <td>4930.0</td>\n",
       "    </tr>\n",
       "    <tr>\n",
       "      <th>1</th>\n",
       "      <td>1</td>\n",
       "      <td>FLYNN: Hillary Clinton, Big Woman on Campus - ...</td>\n",
       "      <td>Ever get the feeling your life circles the rou...</td>\n",
       "      <td>0</td>\n",
       "      <td>9.0</td>\n",
       "      <td>55.0</td>\n",
       "      <td>710.0</td>\n",
       "      <td>4160.0</td>\n",
       "    </tr>\n",
       "    <tr>\n",
       "      <th>2</th>\n",
       "      <td>2</td>\n",
       "      <td>Why the Truth Might Get You Fired</td>\n",
       "      <td>Why the Truth Might Get You Fired October 29, ...</td>\n",
       "      <td>1</td>\n",
       "      <td>7.0</td>\n",
       "      <td>33.0</td>\n",
       "      <td>1266.0</td>\n",
       "      <td>7692.0</td>\n",
       "    </tr>\n",
       "    <tr>\n",
       "      <th>3</th>\n",
       "      <td>3</td>\n",
       "      <td>15 Civilians Killed In Single US Airstrike Hav...</td>\n",
       "      <td>Videos 15 Civilians Killed In Single US Airstr...</td>\n",
       "      <td>1</td>\n",
       "      <td>10.0</td>\n",
       "      <td>63.0</td>\n",
       "      <td>557.0</td>\n",
       "      <td>3237.0</td>\n",
       "    </tr>\n",
       "    <tr>\n",
       "      <th>4</th>\n",
       "      <td>4</td>\n",
       "      <td>Iranian woman jailed for fictional unpublished...</td>\n",
       "      <td>Print \\nAn Iranian woman has been sentenced to...</td>\n",
       "      <td>1</td>\n",
       "      <td>14.0</td>\n",
       "      <td>93.0</td>\n",
       "      <td>154.0</td>\n",
       "      <td>938.0</td>\n",
       "    </tr>\n",
       "  </tbody>\n",
       "</table>\n",
       "</div>"
      ],
      "text/plain": [
       "   index                                              title  \\\n",
       "0      0  House Dem Aide: We Didn’t Even See Comey’s Let...   \n",
       "1      1  FLYNN: Hillary Clinton, Big Woman on Campus - ...   \n",
       "2      2                  Why the Truth Might Get You Fired   \n",
       "3      3  15 Civilians Killed In Single US Airstrike Hav...   \n",
       "4      4  Iranian woman jailed for fictional unpublished...   \n",
       "\n",
       "                                                body  label  title_num_words  \\\n",
       "0  House Dem Aide: We Didn’t Even See Comey’s Let...      1             14.0   \n",
       "1  Ever get the feeling your life circles the rou...      0              9.0   \n",
       "2  Why the Truth Might Get You Fired October 29, ...      1              7.0   \n",
       "3  Videos 15 Civilians Killed In Single US Airstr...      1             10.0   \n",
       "4  Print \\nAn Iranian woman has been sentenced to...      1             14.0   \n",
       "\n",
       "   title_num_letters  body_num_words  body_num_letters  \n",
       "0               81.0           820.0            4930.0  \n",
       "1               55.0           710.0            4160.0  \n",
       "2               33.0          1266.0            7692.0  \n",
       "3               63.0           557.0            3237.0  \n",
       "4               93.0           154.0             938.0  "
      ]
     },
     "execution_count": 241,
     "metadata": {},
     "output_type": "execute_result"
    }
   ],
   "source": [
    "kaggle_1.head()"
   ]
  },
  {
   "cell_type": "code",
   "execution_count": 242,
   "metadata": {},
   "outputs": [],
   "source": [
    "# Saving the csv file\n",
    "\n",
    "kaggle_1.drop('index', axis=1, inplace=True)\n",
    "kaggle_1.to_csv('E:\\Major project\\data\\kaggle_1_filtered', index=False)"
   ]
  },
  {
   "cell_type": "markdown",
   "metadata": {},
   "source": [
    "## Dataset 2 (kaggle-2)\n",
    "    \n",
    "   Dataset: https://www.kaggle.com/jruvika/fake-news-detection\n",
    "    \n",
    "   The problem with dataset 2 is that unlike dataset 1 and dataset 3, the source of the data doesn't mention / specify anywhere what class labels 1 and 0 mean. By the convention that we're going with, we want class 1 to mean Fake article and class 0 to mean True article. \n",
    "    One thing we could do is assume that the data makers have by default made class 1 to mean fake articles. But that would be a big gamble and could lead to the model learning false information. After searching up a bit about this problem, a fellow kaggler used a nice analysis to make an educated guess at what is what. \n",
    "    \n",
    "   Reference Link: https://www.kaggle.com/quentinfu/word2vec-and-lstm-98-accuracy\n",
    "    \n",
    "   We would use part of the work to simplify our process of understanding the class label\n",
    "    \n",
    "   The approach is that we can use the URLs of the articles and extract the website from which the article originated from to better make guesses about the labels. This is a better way of knowing which label means Fake as reading the articles in class 0 and 1 to guess the class label didn't turn out so well for us as its pretty hard to differentite Fake articles from the True ones "
   ]
  },
  {
   "cell_type": "code",
   "execution_count": 2,
   "metadata": {},
   "outputs": [],
   "source": [
    "kaggle_2 = pd.read_csv('E:\\Major project\\data\\kaggle_2_csv.csv')"
   ]
  },
  {
   "cell_type": "code",
   "execution_count": 3,
   "metadata": {},
   "outputs": [
    {
     "data": {
      "text/html": [
       "<div>\n",
       "<style scoped>\n",
       "    .dataframe tbody tr th:only-of-type {\n",
       "        vertical-align: middle;\n",
       "    }\n",
       "\n",
       "    .dataframe tbody tr th {\n",
       "        vertical-align: top;\n",
       "    }\n",
       "\n",
       "    .dataframe thead th {\n",
       "        text-align: right;\n",
       "    }\n",
       "</style>\n",
       "<table border=\"1\" class=\"dataframe\">\n",
       "  <thead>\n",
       "    <tr style=\"text-align: right;\">\n",
       "      <th></th>\n",
       "      <th>URLs</th>\n",
       "      <th>Headline</th>\n",
       "      <th>Body</th>\n",
       "      <th>Label</th>\n",
       "    </tr>\n",
       "  </thead>\n",
       "  <tbody>\n",
       "    <tr>\n",
       "      <th>0</th>\n",
       "      <td>http://www.bbc.com/news/world-us-canada-414191...</td>\n",
       "      <td>Four ways Bob Corker skewered Donald Trump</td>\n",
       "      <td>Image copyright Getty Images\\nOn Sunday mornin...</td>\n",
       "      <td>1</td>\n",
       "    </tr>\n",
       "    <tr>\n",
       "      <th>1</th>\n",
       "      <td>https://www.reuters.com/article/us-filmfestiva...</td>\n",
       "      <td>Linklater's war veteran comedy speaks to moder...</td>\n",
       "      <td>LONDON (Reuters) - “Last Flag Flying”, a comed...</td>\n",
       "      <td>1</td>\n",
       "    </tr>\n",
       "    <tr>\n",
       "      <th>2</th>\n",
       "      <td>https://www.nytimes.com/2017/10/09/us/politics...</td>\n",
       "      <td>Trump’s Fight With Corker Jeopardizes His Legi...</td>\n",
       "      <td>The feud broke into public view last week when...</td>\n",
       "      <td>1</td>\n",
       "    </tr>\n",
       "    <tr>\n",
       "      <th>3</th>\n",
       "      <td>https://www.reuters.com/article/us-mexico-oil-...</td>\n",
       "      <td>Egypt's Cheiron wins tie-up with Pemex for Mex...</td>\n",
       "      <td>MEXICO CITY (Reuters) - Egypt’s Cheiron Holdin...</td>\n",
       "      <td>1</td>\n",
       "    </tr>\n",
       "    <tr>\n",
       "      <th>4</th>\n",
       "      <td>http://www.cnn.com/videos/cnnmoney/2017/10/08/...</td>\n",
       "      <td>Jason Aldean opens 'SNL' with Vegas tribute</td>\n",
       "      <td>Country singer Jason Aldean, who was performin...</td>\n",
       "      <td>1</td>\n",
       "    </tr>\n",
       "  </tbody>\n",
       "</table>\n",
       "</div>"
      ],
      "text/plain": [
       "                                                URLs  \\\n",
       "0  http://www.bbc.com/news/world-us-canada-414191...   \n",
       "1  https://www.reuters.com/article/us-filmfestiva...   \n",
       "2  https://www.nytimes.com/2017/10/09/us/politics...   \n",
       "3  https://www.reuters.com/article/us-mexico-oil-...   \n",
       "4  http://www.cnn.com/videos/cnnmoney/2017/10/08/...   \n",
       "\n",
       "                                            Headline  \\\n",
       "0         Four ways Bob Corker skewered Donald Trump   \n",
       "1  Linklater's war veteran comedy speaks to moder...   \n",
       "2  Trump’s Fight With Corker Jeopardizes His Legi...   \n",
       "3  Egypt's Cheiron wins tie-up with Pemex for Mex...   \n",
       "4        Jason Aldean opens 'SNL' with Vegas tribute   \n",
       "\n",
       "                                                Body  Label  \n",
       "0  Image copyright Getty Images\\nOn Sunday mornin...      1  \n",
       "1  LONDON (Reuters) - “Last Flag Flying”, a comed...      1  \n",
       "2  The feud broke into public view last week when...      1  \n",
       "3  MEXICO CITY (Reuters) - Egypt’s Cheiron Holdin...      1  \n",
       "4  Country singer Jason Aldean, who was performin...      1  "
      ]
     },
     "execution_count": 3,
     "metadata": {},
     "output_type": "execute_result"
    }
   ],
   "source": [
    "kaggle_2.head()"
   ]
  },
  {
   "cell_type": "code",
   "execution_count": 4,
   "metadata": {},
   "outputs": [
    {
     "name": "stdout",
     "output_type": "stream",
     "text": [
      "Datapoints in data for kaggle-2 dataset: 4009\n"
     ]
    }
   ],
   "source": [
    "print(f'Datapoints in data for kaggle-2 dataset: {kaggle_2.shape[0]}')"
   ]
  },
  {
   "cell_type": "markdown",
   "metadata": {},
   "source": [
    "* We've 4009 datapoints present in the kaggle-2 dataset"
   ]
  },
  {
   "cell_type": "code",
   "execution_count": 24,
   "metadata": {},
   "outputs": [],
   "source": [
    "# Verifying what the labels signify \n",
    "# Reference : https://www.kaggle.com/quentinfu/word2vec-and-lstm-98-accuracy\n",
    "\n",
    "kaggle_2['website'] = kaggle_2['URLs'].apply(lambda url: url.split('/')[2])"
   ]
  },
  {
   "cell_type": "code",
   "execution_count": 25,
   "metadata": {},
   "outputs": [
    {
     "data": {
      "text/html": [
       "<div>\n",
       "<style scoped>\n",
       "    .dataframe tbody tr th:only-of-type {\n",
       "        vertical-align: middle;\n",
       "    }\n",
       "\n",
       "    .dataframe tbody tr th {\n",
       "        vertical-align: top;\n",
       "    }\n",
       "\n",
       "    .dataframe thead th {\n",
       "        text-align: right;\n",
       "    }\n",
       "</style>\n",
       "<table border=\"1\" class=\"dataframe\">\n",
       "  <thead>\n",
       "    <tr style=\"text-align: right;\">\n",
       "      <th></th>\n",
       "      <th>URLs</th>\n",
       "      <th>Headline</th>\n",
       "      <th>Body</th>\n",
       "      <th>Label</th>\n",
       "      <th>website</th>\n",
       "    </tr>\n",
       "  </thead>\n",
       "  <tbody>\n",
       "    <tr>\n",
       "      <th>0</th>\n",
       "      <td>http://www.bbc.com/news/world-us-canada-414191...</td>\n",
       "      <td>Four ways Bob Corker skewered Donald Trump</td>\n",
       "      <td>Image copyright Getty Images\\nOn Sunday mornin...</td>\n",
       "      <td>1</td>\n",
       "      <td>www.bbc.com</td>\n",
       "    </tr>\n",
       "    <tr>\n",
       "      <th>1</th>\n",
       "      <td>https://www.reuters.com/article/us-filmfestiva...</td>\n",
       "      <td>Linklater's war veteran comedy speaks to moder...</td>\n",
       "      <td>LONDON (Reuters) - “Last Flag Flying”, a comed...</td>\n",
       "      <td>1</td>\n",
       "      <td>www.reuters.com</td>\n",
       "    </tr>\n",
       "    <tr>\n",
       "      <th>2</th>\n",
       "      <td>https://www.nytimes.com/2017/10/09/us/politics...</td>\n",
       "      <td>Trump’s Fight With Corker Jeopardizes His Legi...</td>\n",
       "      <td>The feud broke into public view last week when...</td>\n",
       "      <td>1</td>\n",
       "      <td>www.nytimes.com</td>\n",
       "    </tr>\n",
       "    <tr>\n",
       "      <th>3</th>\n",
       "      <td>https://www.reuters.com/article/us-mexico-oil-...</td>\n",
       "      <td>Egypt's Cheiron wins tie-up with Pemex for Mex...</td>\n",
       "      <td>MEXICO CITY (Reuters) - Egypt’s Cheiron Holdin...</td>\n",
       "      <td>1</td>\n",
       "      <td>www.reuters.com</td>\n",
       "    </tr>\n",
       "    <tr>\n",
       "      <th>4</th>\n",
       "      <td>http://www.cnn.com/videos/cnnmoney/2017/10/08/...</td>\n",
       "      <td>Jason Aldean opens 'SNL' with Vegas tribute</td>\n",
       "      <td>Country singer Jason Aldean, who was performin...</td>\n",
       "      <td>1</td>\n",
       "      <td>www.cnn.com</td>\n",
       "    </tr>\n",
       "  </tbody>\n",
       "</table>\n",
       "</div>"
      ],
      "text/plain": [
       "                                                URLs  \\\n",
       "0  http://www.bbc.com/news/world-us-canada-414191...   \n",
       "1  https://www.reuters.com/article/us-filmfestiva...   \n",
       "2  https://www.nytimes.com/2017/10/09/us/politics...   \n",
       "3  https://www.reuters.com/article/us-mexico-oil-...   \n",
       "4  http://www.cnn.com/videos/cnnmoney/2017/10/08/...   \n",
       "\n",
       "                                            Headline  \\\n",
       "0         Four ways Bob Corker skewered Donald Trump   \n",
       "1  Linklater's war veteran comedy speaks to moder...   \n",
       "2  Trump’s Fight With Corker Jeopardizes His Legi...   \n",
       "3  Egypt's Cheiron wins tie-up with Pemex for Mex...   \n",
       "4        Jason Aldean opens 'SNL' with Vegas tribute   \n",
       "\n",
       "                                                Body  Label          website  \n",
       "0  Image copyright Getty Images\\nOn Sunday mornin...      1      www.bbc.com  \n",
       "1  LONDON (Reuters) - “Last Flag Flying”, a comed...      1  www.reuters.com  \n",
       "2  The feud broke into public view last week when...      1  www.nytimes.com  \n",
       "3  MEXICO CITY (Reuters) - Egypt’s Cheiron Holdin...      1  www.reuters.com  \n",
       "4  Country singer Jason Aldean, who was performin...      1      www.cnn.com  "
      ]
     },
     "execution_count": 25,
     "metadata": {},
     "output_type": "execute_result"
    }
   ],
   "source": [
    "# Now we have the websites from which the articles originated from\n",
    "\n",
    "kaggle_2.head()  "
   ]
  },
  {
   "cell_type": "code",
   "execution_count": 26,
   "metadata": {},
   "outputs": [
    {
     "data": {
      "text/html": [
       "<div>\n",
       "<style scoped>\n",
       "    .dataframe tbody tr th:only-of-type {\n",
       "        vertical-align: middle;\n",
       "    }\n",
       "\n",
       "    .dataframe tbody tr th {\n",
       "        vertical-align: top;\n",
       "    }\n",
       "\n",
       "    .dataframe thead th {\n",
       "        text-align: right;\n",
       "    }\n",
       "</style>\n",
       "<table border=\"1\" class=\"dataframe\">\n",
       "  <thead>\n",
       "    <tr style=\"text-align: right;\">\n",
       "      <th>Label</th>\n",
       "      <th>0</th>\n",
       "      <th>1</th>\n",
       "    </tr>\n",
       "    <tr>\n",
       "      <th>website</th>\n",
       "      <th></th>\n",
       "      <th></th>\n",
       "    </tr>\n",
       "  </thead>\n",
       "  <tbody>\n",
       "    <tr>\n",
       "      <th>abcnews.go.com</th>\n",
       "      <td>0</td>\n",
       "      <td>57</td>\n",
       "    </tr>\n",
       "    <tr>\n",
       "      <th>api.content-ad.net</th>\n",
       "      <td>2</td>\n",
       "      <td>0</td>\n",
       "    </tr>\n",
       "    <tr>\n",
       "      <th>beforeitsnews.com</th>\n",
       "      <td>1694</td>\n",
       "      <td>0</td>\n",
       "    </tr>\n",
       "    <tr>\n",
       "      <th>bleacherreport.com</th>\n",
       "      <td>0</td>\n",
       "      <td>8</td>\n",
       "    </tr>\n",
       "    <tr>\n",
       "      <th>clarivate.com</th>\n",
       "      <td>0</td>\n",
       "      <td>3</td>\n",
       "    </tr>\n",
       "    <tr>\n",
       "      <th>cnn.it</th>\n",
       "      <td>0</td>\n",
       "      <td>1</td>\n",
       "    </tr>\n",
       "    <tr>\n",
       "      <th>dailybuzzlive.com</th>\n",
       "      <td>99</td>\n",
       "      <td>0</td>\n",
       "    </tr>\n",
       "    <tr>\n",
       "      <th>edition.cnn.com</th>\n",
       "      <td>0</td>\n",
       "      <td>16</td>\n",
       "    </tr>\n",
       "    <tr>\n",
       "      <th>inhealth.cnn.com</th>\n",
       "      <td>0</td>\n",
       "      <td>14</td>\n",
       "    </tr>\n",
       "    <tr>\n",
       "      <th>money.cnn.com</th>\n",
       "      <td>0</td>\n",
       "      <td>49</td>\n",
       "    </tr>\n",
       "    <tr>\n",
       "      <th>reuters.com</th>\n",
       "      <td>0</td>\n",
       "      <td>1</td>\n",
       "    </tr>\n",
       "    <tr>\n",
       "      <th>thelab.bleacherreport.com</th>\n",
       "      <td>0</td>\n",
       "      <td>1</td>\n",
       "    </tr>\n",
       "    <tr>\n",
       "      <th>www.activistpost.com</th>\n",
       "      <td>271</td>\n",
       "      <td>0</td>\n",
       "    </tr>\n",
       "    <tr>\n",
       "      <th>www.bbc.co.uk</th>\n",
       "      <td>0</td>\n",
       "      <td>10</td>\n",
       "    </tr>\n",
       "    <tr>\n",
       "      <th>www.bbc.com</th>\n",
       "      <td>0</td>\n",
       "      <td>333</td>\n",
       "    </tr>\n",
       "    <tr>\n",
       "      <th>www.cnn.com</th>\n",
       "      <td>0</td>\n",
       "      <td>389</td>\n",
       "    </tr>\n",
       "    <tr>\n",
       "      <th>www.disclose.tv</th>\n",
       "      <td>71</td>\n",
       "      <td>0</td>\n",
       "    </tr>\n",
       "    <tr>\n",
       "      <th>www.nytimes.com</th>\n",
       "      <td>0</td>\n",
       "      <td>344</td>\n",
       "    </tr>\n",
       "    <tr>\n",
       "      <th>www.reuters.com</th>\n",
       "      <td>0</td>\n",
       "      <td>646</td>\n",
       "    </tr>\n",
       "  </tbody>\n",
       "</table>\n",
       "</div>"
      ],
      "text/plain": [
       "Label                         0    1\n",
       "website                             \n",
       "abcnews.go.com                0   57\n",
       "api.content-ad.net            2    0\n",
       "beforeitsnews.com          1694    0\n",
       "bleacherreport.com            0    8\n",
       "clarivate.com                 0    3\n",
       "cnn.it                        0    1\n",
       "dailybuzzlive.com            99    0\n",
       "edition.cnn.com               0   16\n",
       "inhealth.cnn.com              0   14\n",
       "money.cnn.com                 0   49\n",
       "reuters.com                   0    1\n",
       "thelab.bleacherreport.com     0    1\n",
       "www.activistpost.com        271    0\n",
       "www.bbc.co.uk                 0   10\n",
       "www.bbc.com                   0  333\n",
       "www.cnn.com                   0  389\n",
       "www.disclose.tv              71    0\n",
       "www.nytimes.com               0  344\n",
       "www.reuters.com               0  646"
      ]
     },
     "execution_count": 26,
     "metadata": {},
     "output_type": "execute_result"
    }
   ],
   "source": [
    "kaggle_2.pivot_table(index='website', columns='Label', values='URLs', aggfunc='count').fillna(0).astype(int)"
   ]
  },
  {
   "cell_type": "markdown",
   "metadata": {},
   "source": [
    "The following conclusions can be drawn from the table above:\n",
    "* Its clear that articles that are present in the data from the same websites only belong to class 0 or class 1\n",
    "* For example known / reputed sources like bbc, bleacher report, reuters etc. all have articles that only belong to class 1 whereas sites like 'before its news' and 'activist post' have articles that have been labelled as class 0\n",
    "* This heavily points to the fact that:     \n",
    "\n",
    "        class 0 ==> Fake news \n",
    "        class 1 ==> Real news\n",
    "        \n",
    "        \n",
    "    This is contrary to the assumption we'd have had that class 1 is Fake and class 0 is True. Now that we're sure, we can go forward with reversing the class labels "
   ]
  },
  {
   "cell_type": "code",
   "execution_count": 27,
   "metadata": {},
   "outputs": [],
   "source": [
    "# Reverse the labels\n",
    "\n",
    "kaggle_2['Label'] = kaggle_2['Label'].map({1:0, 0:1})"
   ]
  },
  {
   "cell_type": "code",
   "execution_count": 29,
   "metadata": {},
   "outputs": [
    {
     "data": {
      "text/html": [
       "<div>\n",
       "<style scoped>\n",
       "    .dataframe tbody tr th:only-of-type {\n",
       "        vertical-align: middle;\n",
       "    }\n",
       "\n",
       "    .dataframe tbody tr th {\n",
       "        vertical-align: top;\n",
       "    }\n",
       "\n",
       "    .dataframe thead th {\n",
       "        text-align: right;\n",
       "    }\n",
       "</style>\n",
       "<table border=\"1\" class=\"dataframe\">\n",
       "  <thead>\n",
       "    <tr style=\"text-align: right;\">\n",
       "      <th></th>\n",
       "      <th>title</th>\n",
       "      <th>body</th>\n",
       "      <th>label</th>\n",
       "    </tr>\n",
       "  </thead>\n",
       "  <tbody>\n",
       "    <tr>\n",
       "      <th>0</th>\n",
       "      <td>Four ways Bob Corker skewered Donald Trump</td>\n",
       "      <td>Image copyright Getty Images\\nOn Sunday mornin...</td>\n",
       "      <td>0</td>\n",
       "    </tr>\n",
       "    <tr>\n",
       "      <th>1</th>\n",
       "      <td>Linklater's war veteran comedy speaks to moder...</td>\n",
       "      <td>LONDON (Reuters) - “Last Flag Flying”, a comed...</td>\n",
       "      <td>0</td>\n",
       "    </tr>\n",
       "    <tr>\n",
       "      <th>2</th>\n",
       "      <td>Trump’s Fight With Corker Jeopardizes His Legi...</td>\n",
       "      <td>The feud broke into public view last week when...</td>\n",
       "      <td>0</td>\n",
       "    </tr>\n",
       "    <tr>\n",
       "      <th>3</th>\n",
       "      <td>Egypt's Cheiron wins tie-up with Pemex for Mex...</td>\n",
       "      <td>MEXICO CITY (Reuters) - Egypt’s Cheiron Holdin...</td>\n",
       "      <td>0</td>\n",
       "    </tr>\n",
       "    <tr>\n",
       "      <th>4</th>\n",
       "      <td>Jason Aldean opens 'SNL' with Vegas tribute</td>\n",
       "      <td>Country singer Jason Aldean, who was performin...</td>\n",
       "      <td>0</td>\n",
       "    </tr>\n",
       "  </tbody>\n",
       "</table>\n",
       "</div>"
      ],
      "text/plain": [
       "                                               title  \\\n",
       "0         Four ways Bob Corker skewered Donald Trump   \n",
       "1  Linklater's war veteran comedy speaks to moder...   \n",
       "2  Trump’s Fight With Corker Jeopardizes His Legi...   \n",
       "3  Egypt's Cheiron wins tie-up with Pemex for Mex...   \n",
       "4        Jason Aldean opens 'SNL' with Vegas tribute   \n",
       "\n",
       "                                                body  label  \n",
       "0  Image copyright Getty Images\\nOn Sunday mornin...      0  \n",
       "1  LONDON (Reuters) - “Last Flag Flying”, a comed...      0  \n",
       "2  The feud broke into public view last week when...      0  \n",
       "3  MEXICO CITY (Reuters) - Egypt’s Cheiron Holdin...      0  \n",
       "4  Country singer Jason Aldean, who was performin...      0  "
      ]
     },
     "execution_count": 29,
     "metadata": {},
     "output_type": "execute_result"
    }
   ],
   "source": [
    "# Renaming the columns of the dataset to enforce uniformity across all the datasets\n",
    "\n",
    "kaggle_2 = kaggle_2.rename(columns={'Headline': 'title', 'Body': 'body', 'Label': 'label'})\n",
    "kaggle_2.drop(['URLs', 'website'], axis=1, inplace=True)  # Dropping columns we won't be needing now on\n",
    "kaggle_2.head()"
   ]
  },
  {
   "cell_type": "code",
   "execution_count": 32,
   "metadata": {},
   "outputs": [],
   "source": [
    "# Adding lengths of the title and body features in the same way they were added for dataset 1\n",
    "\n",
    "title_num_words, title_num_letters = get_length(kaggle_2['title'])\n",
    "body_num_words, body_num_letters = get_length(kaggle_2['body'])\n",
    "\n",
    "kaggle_2['title_num_words'] = title_num_words\n",
    "kaggle_2['title_num_letters'] = title_num_letters\n",
    "kaggle_2['body_num_words'] = body_num_words\n",
    "kaggle_2['body_num_letters'] = body_num_letters"
   ]
  },
  {
   "cell_type": "code",
   "execution_count": 34,
   "metadata": {},
   "outputs": [
    {
     "data": {
      "text/html": [
       "<div>\n",
       "<style scoped>\n",
       "    .dataframe tbody tr th:only-of-type {\n",
       "        vertical-align: middle;\n",
       "    }\n",
       "\n",
       "    .dataframe tbody tr th {\n",
       "        vertical-align: top;\n",
       "    }\n",
       "\n",
       "    .dataframe thead th {\n",
       "        text-align: right;\n",
       "    }\n",
       "</style>\n",
       "<table border=\"1\" class=\"dataframe\">\n",
       "  <thead>\n",
       "    <tr style=\"text-align: right;\">\n",
       "      <th></th>\n",
       "      <th>title_num_words</th>\n",
       "      <th>title_num_letters</th>\n",
       "      <th>body_num_words</th>\n",
       "      <th>body_num_letters</th>\n",
       "    </tr>\n",
       "  </thead>\n",
       "  <tbody>\n",
       "    <tr>\n",
       "      <th>count</th>\n",
       "      <td>4009.000000</td>\n",
       "      <td>4009.000000</td>\n",
       "      <td>3988.000000</td>\n",
       "      <td>3988.000000</td>\n",
       "    </tr>\n",
       "    <tr>\n",
       "      <th>mean</th>\n",
       "      <td>9.800698</td>\n",
       "      <td>60.104016</td>\n",
       "      <td>488.887663</td>\n",
       "      <td>2941.288365</td>\n",
       "    </tr>\n",
       "    <tr>\n",
       "      <th>std</th>\n",
       "      <td>3.848936</td>\n",
       "      <td>22.660900</td>\n",
       "      <td>514.447982</td>\n",
       "      <td>3076.316585</td>\n",
       "    </tr>\n",
       "    <tr>\n",
       "      <th>min</th>\n",
       "      <td>1.000000</td>\n",
       "      <td>6.000000</td>\n",
       "      <td>10.000000</td>\n",
       "      <td>66.000000</td>\n",
       "    </tr>\n",
       "    <tr>\n",
       "      <th>25%</th>\n",
       "      <td>8.000000</td>\n",
       "      <td>48.000000</td>\n",
       "      <td>85.000000</td>\n",
       "      <td>557.500000</td>\n",
       "    </tr>\n",
       "    <tr>\n",
       "      <th>50%</th>\n",
       "      <td>10.000000</td>\n",
       "      <td>60.000000</td>\n",
       "      <td>351.500000</td>\n",
       "      <td>2115.000000</td>\n",
       "    </tr>\n",
       "    <tr>\n",
       "      <th>75%</th>\n",
       "      <td>11.000000</td>\n",
       "      <td>69.000000</td>\n",
       "      <td>725.250000</td>\n",
       "      <td>4311.250000</td>\n",
       "    </tr>\n",
       "    <tr>\n",
       "      <th>max</th>\n",
       "      <td>110.000000</td>\n",
       "      <td>653.000000</td>\n",
       "      <td>5610.000000</td>\n",
       "      <td>32767.000000</td>\n",
       "    </tr>\n",
       "  </tbody>\n",
       "</table>\n",
       "</div>"
      ],
      "text/plain": [
       "       title_num_words  title_num_letters  body_num_words  body_num_letters\n",
       "count      4009.000000        4009.000000     3988.000000       3988.000000\n",
       "mean          9.800698          60.104016      488.887663       2941.288365\n",
       "std           3.848936          22.660900      514.447982       3076.316585\n",
       "min           1.000000           6.000000       10.000000         66.000000\n",
       "25%           8.000000          48.000000       85.000000        557.500000\n",
       "50%          10.000000          60.000000      351.500000       2115.000000\n",
       "75%          11.000000          69.000000      725.250000       4311.250000\n",
       "max         110.000000         653.000000     5610.000000      32767.000000"
      ]
     },
     "execution_count": 34,
     "metadata": {},
     "output_type": "execute_result"
    }
   ],
   "source": [
    "kaggle_2.drop('label', axis=1).describe()"
   ]
  },
  {
   "cell_type": "code",
   "execution_count": 36,
   "metadata": {},
   "outputs": [
    {
     "name": "stdout",
     "output_type": "stream",
     "text": [
      "(CNN) One was a man who died shielding his wife from gunfire on their wedding anniversary. Another was a city of Las Vegas employee who died in his boyfriend's arms. And two others were a veteran corrections officer and his girlfriend who died on the trip they had planned for weeks.\n",
      "At least 58 people were killed and nearly 500 others were injured Sunday night, authorities say, when a gunman fired on an outdoor country musical festival from the 32nd floor of a Las Vegas hotel in the deadliest mass shooting in modern American history.\n",
      "Here are some of the victims' stories:\n",
      "Teresa Nicol Kimura\n",
      "Teresa Nicol Kimura, known as Nicol, was at the concert with six friends, said Ryan Miller, pastor at For His Glory Community Church in Fullerton, California.\n",
      "Miller was among those friends. He said they all scattered when the shooting started. After the rest of the group reconnected, the friends learned Kimura had died.\n",
      "Kimura, 38, of Placentia, California, worked for the California Department of \n"
     ]
    }
   ],
   "source": [
    "# Having a look at the largest articles \n",
    "\n",
    "print(kaggle_2.iloc[kaggle_2['body_num_words'].argmax()]['body'][:1000]) # First 1000 characters"
   ]
  },
  {
   "cell_type": "code",
   "execution_count": 38,
   "metadata": {},
   "outputs": [
    {
     "data": {
      "text/plain": [
       "title                 0\n",
       "body                 21\n",
       "label                 0\n",
       "title_num_words       0\n",
       "title_num_letters     0\n",
       "body_num_words       21\n",
       "body_num_letters     21\n",
       "dtype: int64"
      ]
     },
     "execution_count": 38,
     "metadata": {},
     "output_type": "execute_result"
    }
   ],
   "source": [
    "# Checking for missing values\n",
    "\n",
    "kaggle_2.isna().sum()"
   ]
  },
  {
   "cell_type": "code",
   "execution_count": 44,
   "metadata": {},
   "outputs": [
    {
     "name": "stdout",
     "output_type": "stream",
     "text": [
      "Percentage of missing articles: 0.52 %\n"
     ]
    }
   ],
   "source": [
    "print(f'Percentage of missing articles: {round((21 / kaggle_2.shape[0] * 100),2)} %')"
   ]
  },
  {
   "cell_type": "code",
   "execution_count": 46,
   "metadata": {},
   "outputs": [],
   "source": [
    "# Since there are very few instance of missing data, it'll be better to get rid of these 21 articles instead of coming up with some way of filling something in\n",
    "\n",
    "kaggle_2.dropna(inplace=True)"
   ]
  },
  {
   "cell_type": "code",
   "execution_count": 49,
   "metadata": {},
   "outputs": [],
   "source": [
    "# Saving the csv file\n",
    "\n",
    "kaggle_2.to_csv('E:\\Major project\\data\\kaggle_2_filtered', index=False)"
   ]
  },
  {
   "cell_type": "markdown",
   "metadata": {},
   "source": [
    "## Dataset 3 (ISOT)\n",
    "\n",
    "Dataset: https://www.uvic.ca/engineering/ece/isot/datasets/fake-news/index.php"
   ]
  },
  {
   "cell_type": "code",
   "execution_count": 55,
   "metadata": {},
   "outputs": [],
   "source": [
    "isot_data_true = pd.read_csv('E:\\Major project\\data\\isot_true.csv')  # Class 0 --> True news\n",
    "isot_data_fake = pd.read_csv('E:\\Major project\\data\\isot_fake.csv')  # Class 1 --> Fake news"
   ]
  },
  {
   "cell_type": "code",
   "execution_count": 56,
   "metadata": {},
   "outputs": [
    {
     "data": {
      "text/html": [
       "<div>\n",
       "<style scoped>\n",
       "    .dataframe tbody tr th:only-of-type {\n",
       "        vertical-align: middle;\n",
       "    }\n",
       "\n",
       "    .dataframe tbody tr th {\n",
       "        vertical-align: top;\n",
       "    }\n",
       "\n",
       "    .dataframe thead th {\n",
       "        text-align: right;\n",
       "    }\n",
       "</style>\n",
       "<table border=\"1\" class=\"dataframe\">\n",
       "  <thead>\n",
       "    <tr style=\"text-align: right;\">\n",
       "      <th></th>\n",
       "      <th>title</th>\n",
       "      <th>text</th>\n",
       "      <th>subject</th>\n",
       "      <th>date</th>\n",
       "    </tr>\n",
       "  </thead>\n",
       "  <tbody>\n",
       "    <tr>\n",
       "      <th>0</th>\n",
       "      <td>As U.S. budget fight looms, Republicans flip t...</td>\n",
       "      <td>WASHINGTON (Reuters) - The head of a conservat...</td>\n",
       "      <td>politicsNews</td>\n",
       "      <td>December 31, 2017</td>\n",
       "    </tr>\n",
       "    <tr>\n",
       "      <th>1</th>\n",
       "      <td>U.S. military to accept transgender recruits o...</td>\n",
       "      <td>WASHINGTON (Reuters) - Transgender people will...</td>\n",
       "      <td>politicsNews</td>\n",
       "      <td>December 29, 2017</td>\n",
       "    </tr>\n",
       "    <tr>\n",
       "      <th>2</th>\n",
       "      <td>Senior U.S. Republican senator: 'Let Mr. Muell...</td>\n",
       "      <td>WASHINGTON (Reuters) - The special counsel inv...</td>\n",
       "      <td>politicsNews</td>\n",
       "      <td>December 31, 2017</td>\n",
       "    </tr>\n",
       "    <tr>\n",
       "      <th>3</th>\n",
       "      <td>FBI Russia probe helped by Australian diplomat...</td>\n",
       "      <td>WASHINGTON (Reuters) - Trump campaign adviser ...</td>\n",
       "      <td>politicsNews</td>\n",
       "      <td>December 30, 2017</td>\n",
       "    </tr>\n",
       "    <tr>\n",
       "      <th>4</th>\n",
       "      <td>Trump wants Postal Service to charge 'much mor...</td>\n",
       "      <td>SEATTLE/WASHINGTON (Reuters) - President Donal...</td>\n",
       "      <td>politicsNews</td>\n",
       "      <td>December 29, 2017</td>\n",
       "    </tr>\n",
       "  </tbody>\n",
       "</table>\n",
       "</div>"
      ],
      "text/plain": [
       "                                               title  \\\n",
       "0  As U.S. budget fight looms, Republicans flip t...   \n",
       "1  U.S. military to accept transgender recruits o...   \n",
       "2  Senior U.S. Republican senator: 'Let Mr. Muell...   \n",
       "3  FBI Russia probe helped by Australian diplomat...   \n",
       "4  Trump wants Postal Service to charge 'much mor...   \n",
       "\n",
       "                                                text       subject  \\\n",
       "0  WASHINGTON (Reuters) - The head of a conservat...  politicsNews   \n",
       "1  WASHINGTON (Reuters) - Transgender people will...  politicsNews   \n",
       "2  WASHINGTON (Reuters) - The special counsel inv...  politicsNews   \n",
       "3  WASHINGTON (Reuters) - Trump campaign adviser ...  politicsNews   \n",
       "4  SEATTLE/WASHINGTON (Reuters) - President Donal...  politicsNews   \n",
       "\n",
       "                 date  \n",
       "0  December 31, 2017   \n",
       "1  December 29, 2017   \n",
       "2  December 31, 2017   \n",
       "3  December 30, 2017   \n",
       "4  December 29, 2017   "
      ]
     },
     "execution_count": 56,
     "metadata": {},
     "output_type": "execute_result"
    }
   ],
   "source": [
    "isot_data_true.head()"
   ]
  },
  {
   "cell_type": "code",
   "execution_count": 57,
   "metadata": {},
   "outputs": [
    {
     "data": {
      "text/html": [
       "<div>\n",
       "<style scoped>\n",
       "    .dataframe tbody tr th:only-of-type {\n",
       "        vertical-align: middle;\n",
       "    }\n",
       "\n",
       "    .dataframe tbody tr th {\n",
       "        vertical-align: top;\n",
       "    }\n",
       "\n",
       "    .dataframe thead th {\n",
       "        text-align: right;\n",
       "    }\n",
       "</style>\n",
       "<table border=\"1\" class=\"dataframe\">\n",
       "  <thead>\n",
       "    <tr style=\"text-align: right;\">\n",
       "      <th></th>\n",
       "      <th>title</th>\n",
       "      <th>text</th>\n",
       "      <th>subject</th>\n",
       "      <th>date</th>\n",
       "    </tr>\n",
       "  </thead>\n",
       "  <tbody>\n",
       "    <tr>\n",
       "      <th>0</th>\n",
       "      <td>Donald Trump Sends Out Embarrassing New Year’...</td>\n",
       "      <td>Donald Trump just couldn t wish all Americans ...</td>\n",
       "      <td>News</td>\n",
       "      <td>December 31, 2017</td>\n",
       "    </tr>\n",
       "    <tr>\n",
       "      <th>1</th>\n",
       "      <td>Drunk Bragging Trump Staffer Started Russian ...</td>\n",
       "      <td>House Intelligence Committee Chairman Devin Nu...</td>\n",
       "      <td>News</td>\n",
       "      <td>December 31, 2017</td>\n",
       "    </tr>\n",
       "    <tr>\n",
       "      <th>2</th>\n",
       "      <td>Sheriff David Clarke Becomes An Internet Joke...</td>\n",
       "      <td>On Friday, it was revealed that former Milwauk...</td>\n",
       "      <td>News</td>\n",
       "      <td>December 30, 2017</td>\n",
       "    </tr>\n",
       "    <tr>\n",
       "      <th>3</th>\n",
       "      <td>Trump Is So Obsessed He Even Has Obama’s Name...</td>\n",
       "      <td>On Christmas day, Donald Trump announced that ...</td>\n",
       "      <td>News</td>\n",
       "      <td>December 29, 2017</td>\n",
       "    </tr>\n",
       "    <tr>\n",
       "      <th>4</th>\n",
       "      <td>Pope Francis Just Called Out Donald Trump Dur...</td>\n",
       "      <td>Pope Francis used his annual Christmas Day mes...</td>\n",
       "      <td>News</td>\n",
       "      <td>December 25, 2017</td>\n",
       "    </tr>\n",
       "  </tbody>\n",
       "</table>\n",
       "</div>"
      ],
      "text/plain": [
       "                                               title  \\\n",
       "0   Donald Trump Sends Out Embarrassing New Year’...   \n",
       "1   Drunk Bragging Trump Staffer Started Russian ...   \n",
       "2   Sheriff David Clarke Becomes An Internet Joke...   \n",
       "3   Trump Is So Obsessed He Even Has Obama’s Name...   \n",
       "4   Pope Francis Just Called Out Donald Trump Dur...   \n",
       "\n",
       "                                                text subject  \\\n",
       "0  Donald Trump just couldn t wish all Americans ...    News   \n",
       "1  House Intelligence Committee Chairman Devin Nu...    News   \n",
       "2  On Friday, it was revealed that former Milwauk...    News   \n",
       "3  On Christmas day, Donald Trump announced that ...    News   \n",
       "4  Pope Francis used his annual Christmas Day mes...    News   \n",
       "\n",
       "                date  \n",
       "0  December 31, 2017  \n",
       "1  December 31, 2017  \n",
       "2  December 30, 2017  \n",
       "3  December 29, 2017  \n",
       "4  December 25, 2017  "
      ]
     },
     "execution_count": 57,
     "metadata": {},
     "output_type": "execute_result"
    }
   ],
   "source": [
    "isot_data_fake.head()"
   ]
  },
  {
   "cell_type": "code",
   "execution_count": 53,
   "metadata": {},
   "outputs": [
    {
     "name": "stdout",
     "output_type": "stream",
     "text": [
      "Number of True articles in ISOT dataset: 21417\n",
      "Number of Fake articles in ISOT dataset: 23481\n"
     ]
    }
   ],
   "source": [
    "print(f'Number of True articles in ISOT dataset: {isot_data_true.shape[0]}')\n",
    "print(f'Number of Fake articles in ISOT dataset: {isot_data_fake.shape[0]}')"
   ]
  },
  {
   "cell_type": "markdown",
   "metadata": {},
   "source": [
    "* There are about 44898 datapoints present in the ISOT dataset"
   ]
  },
  {
   "cell_type": "code",
   "execution_count": 58,
   "metadata": {},
   "outputs": [],
   "source": [
    "# Assigning lables to the true and fake dataframes\n",
    "# The convention being followed here is that class 1 implies a fake article whereas class 0 means the article is not fake\n",
    "\n",
    "isot_data_true['label'] = 0\n",
    "isot_data_fake['label'] = 1   "
   ]
  },
  {
   "cell_type": "code",
   "execution_count": 59,
   "metadata": {},
   "outputs": [
    {
     "data": {
      "text/html": [
       "<div>\n",
       "<style scoped>\n",
       "    .dataframe tbody tr th:only-of-type {\n",
       "        vertical-align: middle;\n",
       "    }\n",
       "\n",
       "    .dataframe tbody tr th {\n",
       "        vertical-align: top;\n",
       "    }\n",
       "\n",
       "    .dataframe thead th {\n",
       "        text-align: right;\n",
       "    }\n",
       "</style>\n",
       "<table border=\"1\" class=\"dataframe\">\n",
       "  <thead>\n",
       "    <tr style=\"text-align: right;\">\n",
       "      <th></th>\n",
       "      <th>title</th>\n",
       "      <th>text</th>\n",
       "      <th>subject</th>\n",
       "      <th>date</th>\n",
       "      <th>label</th>\n",
       "    </tr>\n",
       "  </thead>\n",
       "  <tbody>\n",
       "    <tr>\n",
       "      <th>0</th>\n",
       "      <td>As U.S. budget fight looms, Republicans flip t...</td>\n",
       "      <td>WASHINGTON (Reuters) - The head of a conservat...</td>\n",
       "      <td>politicsNews</td>\n",
       "      <td>December 31, 2017</td>\n",
       "      <td>0</td>\n",
       "    </tr>\n",
       "    <tr>\n",
       "      <th>1</th>\n",
       "      <td>U.S. military to accept transgender recruits o...</td>\n",
       "      <td>WASHINGTON (Reuters) - Transgender people will...</td>\n",
       "      <td>politicsNews</td>\n",
       "      <td>December 29, 2017</td>\n",
       "      <td>0</td>\n",
       "    </tr>\n",
       "    <tr>\n",
       "      <th>2</th>\n",
       "      <td>Senior U.S. Republican senator: 'Let Mr. Muell...</td>\n",
       "      <td>WASHINGTON (Reuters) - The special counsel inv...</td>\n",
       "      <td>politicsNews</td>\n",
       "      <td>December 31, 2017</td>\n",
       "      <td>0</td>\n",
       "    </tr>\n",
       "    <tr>\n",
       "      <th>3</th>\n",
       "      <td>FBI Russia probe helped by Australian diplomat...</td>\n",
       "      <td>WASHINGTON (Reuters) - Trump campaign adviser ...</td>\n",
       "      <td>politicsNews</td>\n",
       "      <td>December 30, 2017</td>\n",
       "      <td>0</td>\n",
       "    </tr>\n",
       "    <tr>\n",
       "      <th>4</th>\n",
       "      <td>Trump wants Postal Service to charge 'much mor...</td>\n",
       "      <td>SEATTLE/WASHINGTON (Reuters) - President Donal...</td>\n",
       "      <td>politicsNews</td>\n",
       "      <td>December 29, 2017</td>\n",
       "      <td>0</td>\n",
       "    </tr>\n",
       "  </tbody>\n",
       "</table>\n",
       "</div>"
      ],
      "text/plain": [
       "                                               title  \\\n",
       "0  As U.S. budget fight looms, Republicans flip t...   \n",
       "1  U.S. military to accept transgender recruits o...   \n",
       "2  Senior U.S. Republican senator: 'Let Mr. Muell...   \n",
       "3  FBI Russia probe helped by Australian diplomat...   \n",
       "4  Trump wants Postal Service to charge 'much mor...   \n",
       "\n",
       "                                                text       subject  \\\n",
       "0  WASHINGTON (Reuters) - The head of a conservat...  politicsNews   \n",
       "1  WASHINGTON (Reuters) - Transgender people will...  politicsNews   \n",
       "2  WASHINGTON (Reuters) - The special counsel inv...  politicsNews   \n",
       "3  WASHINGTON (Reuters) - Trump campaign adviser ...  politicsNews   \n",
       "4  SEATTLE/WASHINGTON (Reuters) - President Donal...  politicsNews   \n",
       "\n",
       "                 date  label  \n",
       "0  December 31, 2017       0  \n",
       "1  December 29, 2017       0  \n",
       "2  December 31, 2017       0  \n",
       "3  December 30, 2017       0  \n",
       "4  December 29, 2017       0  "
      ]
     },
     "execution_count": 59,
     "metadata": {},
     "output_type": "execute_result"
    }
   ],
   "source": [
    "isot_data = isot_data_true.append(isot_data_fake, ignore_index=True)\n",
    "isot_data.head()"
   ]
  },
  {
   "cell_type": "code",
   "execution_count": 60,
   "metadata": {},
   "outputs": [
    {
     "data": {
      "text/plain": [
       "title      0\n",
       "text       0\n",
       "subject    0\n",
       "date       0\n",
       "label      0\n",
       "dtype: int64"
      ]
     },
     "execution_count": 60,
     "metadata": {},
     "output_type": "execute_result"
    }
   ],
   "source": [
    "# This data set doesn't have any missing data\n",
    "\n",
    "isot_data.isna().sum()"
   ]
  },
  {
   "cell_type": "code",
   "execution_count": 71,
   "metadata": {},
   "outputs": [
    {
     "data": {
      "image/png": "[encoded data removed]",
      "text/plain": [
       "<Figure size 720x432 with 1 Axes>"
      ]
     },
     "metadata": {},
     "output_type": "display_data"
    }
   ],
   "source": [
    "plt.figure(figsize=(10,6))\n",
    "sns.countplot(x='subject',data=isot_data)\n",
    "plt.title('Data distributed across Subjects')\n",
    "plt.show()"
   ]
  },
  {
   "cell_type": "code",
   "execution_count": 77,
   "metadata": {},
   "outputs": [],
   "source": [
    "# Dropping columns that we won't be needing and renaming the remaining features as per standard convention\n",
    "\n",
    "isot_data = isot_data.rename(columns={'text':'body'})\n",
    "# While time information would have been really useful in helping us understand the model's performance because of time based splitting, we'll have to drop it as the other\n",
    "# datasets do not contain time information\n",
    "isot_data.drop(['subject', 'date'], axis=1, inplace=True)"
   ]
  },
  {
   "cell_type": "code",
   "execution_count": 78,
   "metadata": {},
   "outputs": [],
   "source": [
    "# Adding lengths of the title and body features in the same way they were added for dataset 1\n",
    "\n",
    "title_num_words, title_num_letters = get_length(isot_data['title'])\n",
    "body_num_words, body_num_letters = get_length(isot_data['body'])\n",
    "\n",
    "isot_data['title_num_words'] = title_num_words\n",
    "isot_data['title_num_letters'] = title_num_letters\n",
    "isot_data['body_num_words'] = body_num_words\n",
    "isot_data['body_num_letters'] = body_num_letters"
   ]
  },
  {
   "cell_type": "code",
   "execution_count": 81,
   "metadata": {},
   "outputs": [
    {
     "data": {
      "text/html": [
       "<div>\n",
       "<style scoped>\n",
       "    .dataframe tbody tr th:only-of-type {\n",
       "        vertical-align: middle;\n",
       "    }\n",
       "\n",
       "    .dataframe tbody tr th {\n",
       "        vertical-align: top;\n",
       "    }\n",
       "\n",
       "    .dataframe thead th {\n",
       "        text-align: right;\n",
       "    }\n",
       "</style>\n",
       "<table border=\"1\" class=\"dataframe\">\n",
       "  <thead>\n",
       "    <tr style=\"text-align: right;\">\n",
       "      <th></th>\n",
       "      <th>title</th>\n",
       "      <th>body</th>\n",
       "      <th>label</th>\n",
       "      <th>title_num_words</th>\n",
       "      <th>title_num_letters</th>\n",
       "      <th>body_num_words</th>\n",
       "      <th>body_num_letters</th>\n",
       "    </tr>\n",
       "  </thead>\n",
       "  <tbody>\n",
       "    <tr>\n",
       "      <th>0</th>\n",
       "      <td>As U.S. budget fight looms, Republicans flip t...</td>\n",
       "      <td>WASHINGTON (Reuters) - The head of a conservat...</td>\n",
       "      <td>0</td>\n",
       "      <td>10</td>\n",
       "      <td>64</td>\n",
       "      <td>749</td>\n",
       "      <td>4659</td>\n",
       "    </tr>\n",
       "    <tr>\n",
       "      <th>1</th>\n",
       "      <td>U.S. military to accept transgender recruits o...</td>\n",
       "      <td>WASHINGTON (Reuters) - Transgender people will...</td>\n",
       "      <td>0</td>\n",
       "      <td>9</td>\n",
       "      <td>64</td>\n",
       "      <td>624</td>\n",
       "      <td>4077</td>\n",
       "    </tr>\n",
       "    <tr>\n",
       "      <th>2</th>\n",
       "      <td>Senior U.S. Republican senator: 'Let Mr. Muell...</td>\n",
       "      <td>WASHINGTON (Reuters) - The special counsel inv...</td>\n",
       "      <td>0</td>\n",
       "      <td>10</td>\n",
       "      <td>60</td>\n",
       "      <td>457</td>\n",
       "      <td>2789</td>\n",
       "    </tr>\n",
       "    <tr>\n",
       "      <th>3</th>\n",
       "      <td>FBI Russia probe helped by Australian diplomat...</td>\n",
       "      <td>WASHINGTON (Reuters) - Trump campaign adviser ...</td>\n",
       "      <td>0</td>\n",
       "      <td>9</td>\n",
       "      <td>59</td>\n",
       "      <td>376</td>\n",
       "      <td>2461</td>\n",
       "    </tr>\n",
       "    <tr>\n",
       "      <th>4</th>\n",
       "      <td>Trump wants Postal Service to charge 'much mor...</td>\n",
       "      <td>SEATTLE/WASHINGTON (Reuters) - President Donal...</td>\n",
       "      <td>0</td>\n",
       "      <td>11</td>\n",
       "      <td>69</td>\n",
       "      <td>852</td>\n",
       "      <td>5204</td>\n",
       "    </tr>\n",
       "  </tbody>\n",
       "</table>\n",
       "</div>"
      ],
      "text/plain": [
       "                                               title  \\\n",
       "0  As U.S. budget fight looms, Republicans flip t...   \n",
       "1  U.S. military to accept transgender recruits o...   \n",
       "2  Senior U.S. Republican senator: 'Let Mr. Muell...   \n",
       "3  FBI Russia probe helped by Australian diplomat...   \n",
       "4  Trump wants Postal Service to charge 'much mor...   \n",
       "\n",
       "                                                body  label  title_num_words  \\\n",
       "0  WASHINGTON (Reuters) - The head of a conservat...      0               10   \n",
       "1  WASHINGTON (Reuters) - Transgender people will...      0                9   \n",
       "2  WASHINGTON (Reuters) - The special counsel inv...      0               10   \n",
       "3  WASHINGTON (Reuters) - Trump campaign adviser ...      0                9   \n",
       "4  SEATTLE/WASHINGTON (Reuters) - President Donal...      0               11   \n",
       "\n",
       "   title_num_letters  body_num_words  body_num_letters  \n",
       "0                 64             749              4659  \n",
       "1                 64             624              4077  \n",
       "2                 60             457              2789  \n",
       "3                 59             376              2461  \n",
       "4                 69             852              5204  "
      ]
     },
     "execution_count": 81,
     "metadata": {},
     "output_type": "execute_result"
    }
   ],
   "source": [
    "isot_data.head()"
   ]
  },
  {
   "cell_type": "code",
   "execution_count": 82,
   "metadata": {},
   "outputs": [
    {
     "data": {
      "text/html": [
       "<div>\n",
       "<style scoped>\n",
       "    .dataframe tbody tr th:only-of-type {\n",
       "        vertical-align: middle;\n",
       "    }\n",
       "\n",
       "    .dataframe tbody tr th {\n",
       "        vertical-align: top;\n",
       "    }\n",
       "\n",
       "    .dataframe thead th {\n",
       "        text-align: right;\n",
       "    }\n",
       "</style>\n",
       "<table border=\"1\" class=\"dataframe\">\n",
       "  <thead>\n",
       "    <tr style=\"text-align: right;\">\n",
       "      <th></th>\n",
       "      <th>title_num_words</th>\n",
       "      <th>title_num_letters</th>\n",
       "      <th>body_num_words</th>\n",
       "      <th>body_num_letters</th>\n",
       "    </tr>\n",
       "  </thead>\n",
       "  <tbody>\n",
       "    <tr>\n",
       "      <th>count</th>\n",
       "      <td>44898.000000</td>\n",
       "      <td>44898.000000</td>\n",
       "      <td>44898.000000</td>\n",
       "      <td>44898.000000</td>\n",
       "    </tr>\n",
       "    <tr>\n",
       "      <th>mean</th>\n",
       "      <td>12.453472</td>\n",
       "      <td>80.111720</td>\n",
       "      <td>405.282284</td>\n",
       "      <td>2469.109693</td>\n",
       "    </tr>\n",
       "    <tr>\n",
       "      <th>std</th>\n",
       "      <td>4.111476</td>\n",
       "      <td>25.379685</td>\n",
       "      <td>351.265595</td>\n",
       "      <td>2171.617091</td>\n",
       "    </tr>\n",
       "    <tr>\n",
       "      <th>min</th>\n",
       "      <td>1.000000</td>\n",
       "      <td>8.000000</td>\n",
       "      <td>0.000000</td>\n",
       "      <td>1.000000</td>\n",
       "    </tr>\n",
       "    <tr>\n",
       "      <th>25%</th>\n",
       "      <td>10.000000</td>\n",
       "      <td>63.000000</td>\n",
       "      <td>203.000000</td>\n",
       "      <td>1234.000000</td>\n",
       "    </tr>\n",
       "    <tr>\n",
       "      <th>50%</th>\n",
       "      <td>11.000000</td>\n",
       "      <td>73.000000</td>\n",
       "      <td>362.000000</td>\n",
       "      <td>2186.000000</td>\n",
       "    </tr>\n",
       "    <tr>\n",
       "      <th>75%</th>\n",
       "      <td>14.000000</td>\n",
       "      <td>91.000000</td>\n",
       "      <td>513.000000</td>\n",
       "      <td>3105.000000</td>\n",
       "    </tr>\n",
       "    <tr>\n",
       "      <th>max</th>\n",
       "      <td>42.000000</td>\n",
       "      <td>286.000000</td>\n",
       "      <td>8135.000000</td>\n",
       "      <td>51794.000000</td>\n",
       "    </tr>\n",
       "  </tbody>\n",
       "</table>\n",
       "</div>"
      ],
      "text/plain": [
       "       title_num_words  title_num_letters  body_num_words  body_num_letters\n",
       "count     44898.000000       44898.000000    44898.000000      44898.000000\n",
       "mean         12.453472          80.111720      405.282284       2469.109693\n",
       "std           4.111476          25.379685      351.265595       2171.617091\n",
       "min           1.000000           8.000000        0.000000          1.000000\n",
       "25%          10.000000          63.000000      203.000000       1234.000000\n",
       "50%          11.000000          73.000000      362.000000       2186.000000\n",
       "75%          14.000000          91.000000      513.000000       3105.000000\n",
       "max          42.000000         286.000000     8135.000000      51794.000000"
      ]
     },
     "execution_count": 82,
     "metadata": {},
     "output_type": "execute_result"
    }
   ],
   "source": [
    "isot_data.drop('label', axis=1).describe()"
   ]
  },
  {
   "cell_type": "code",
   "execution_count": 83,
   "metadata": {},
   "outputs": [],
   "source": [
    "# Saving the data\n",
    "\n",
    "isot_data.to_csv('E:\\Major project\\data\\isot_complete', index=False)"
   ]
  },
  {
   "cell_type": "markdown",
   "metadata": {},
   "source": [
    "## Basic high level analysis of the three datasets\n",
    "\n",
    "   While we know that datasets 2 and 3 have no missing data, dataset 1 has 500+ missing articles which is quite a lot. It would make sense to have it filled. How to fill missing data in case of text is however tricky. \n",
    "    But before we go forward with combining the three dataset, we can check whether the distributions of the datasets are the same or different. This will come in handy when deciding if we want to fill the missing data in dataset 1\n",
    "    using only dataset 1 data or using the combined data"
   ]
  },
  {
   "cell_type": "code",
   "execution_count": 2,
   "metadata": {},
   "outputs": [],
   "source": [
    "# Reading all three datafile. \n",
    "# Here, data1 --> Kaggle_1 data\n",
    "#       data2 --> Kaggle_2 data\n",
    "#       data3 --> Isot data\n",
    "\n",
    "data1 = pd.read_csv('E:\\Major project\\data\\kaggle_1_filtered')\n",
    "data2 = pd.read_csv('E:\\Major project\\data\\kaggle_2_filtered')\n",
    "data3 = pd.read_csv('E:\\Major project\\data\\isot_complete')"
   ]
  },
  {
   "cell_type": "code",
   "execution_count": 3,
   "metadata": {},
   "outputs": [
    {
     "data": {
      "image/png": "[encoded data removed]",
      "text/plain": [
       "<Figure size 720x432 with 1 Axes>"
      ]
     },
     "metadata": {},
     "output_type": "display_data"
    }
   ],
   "source": [
    "plt.figure(figsize=(10,6))\n",
    "sns.kdeplot(data1['body_num_words'], label='data1')\n",
    "sns.kdeplot(data2['body_num_words'], label='data2')\n",
    "sns.kdeplot(data3['body_num_words'], label='data3')\n",
    "plt.xlim(0,5000)\n",
    "plt.xlabel('Number of words in an article')\n",
    "plt.title('Distribution of number of words in articles')\n",
    "plt.legend()\n",
    "plt.show()"
   ]
  },
  {
   "cell_type": "markdown",
   "metadata": {},
   "source": [
    "These distributions are pretty skewed. Thus it'd make sense to use median as the measure of central tendency for the three datasets"
   ]
  },
  {
   "cell_type": "code",
   "execution_count": 60,
   "metadata": {},
   "outputs": [
    {
     "name": "stdout",
     "output_type": "stream",
     "text": [
      "The median number of words in each article in dataset 1 is: 567.0\n",
      "The median number of words in each article in dataset 2 is: 351.5\n",
      "The median number of words in each article in dataset 3 is: 362.0\n"
     ]
    }
   ],
   "source": [
    "# Compaing the medians of the number of words present in the articles in the three datasets\n",
    "\n",
    "print(f\"The median number of words in each article in dataset 1 is: {data1['body_num_words'].median()}\")\n",
    "print(f\"The median number of words in each article in dataset 2 is: {data2['body_num_words'].median()}\")\n",
    "print(f\"The median number of words in each article in dataset 3 is: {data3['body_num_words'].median()}\")"
   ]
  },
  {
   "cell_type": "code",
   "execution_count": 61,
   "metadata": {},
   "outputs": [
    {
     "data": {
      "image/png": "[encoded data removed]",
      "text/plain": [
       "<Figure size 720x432 with 1 Axes>"
      ]
     },
     "metadata": {},
     "output_type": "display_data"
    }
   ],
   "source": [
    "# We can carry out a similar analysis on the lengths of the titles\n",
    "\n",
    "plt.figure(figsize=(10,6))\n",
    "sns.kdeplot(data1['title_num_words'], label='data1')\n",
    "sns.kdeplot(data2['title_num_words'], label='data2')\n",
    "sns.kdeplot(data3['title_num_words'], label='data3')\n",
    "plt.xlim(0,60)\n",
    "plt.xlabel('Number of words in a Title')\n",
    "plt.title('Distribution of number of words in Titles')\n",
    "plt.legend()\n",
    "plt.show()"
   ]
  },
  {
   "cell_type": "markdown",
   "metadata": {},
   "source": [
    "As compared to the distributions that we see for the articles, the distributions of title lengths is not skewed and guassian in nature to a great extent. Thus for this, we can use Mean as a measure of central tendency"
   ]
  },
  {
   "cell_type": "code",
   "execution_count": 62,
   "metadata": {},
   "outputs": [
    {
     "name": "stdout",
     "output_type": "stream",
     "text": [
      "The average number of words in each article in dataset 1 is: 12.477749619868222\n",
      "The average number of words in each article in dataset 2 is: 9.78986960882648\n",
      "The average number of words in each article in dataset 3 is: 12.453472315025168\n"
     ]
    }
   ],
   "source": [
    "# Compaing the average number of words present in the titles in the three datasets\n",
    "\n",
    "print(f\"The average number of words in each article in dataset 1 is: {data1['title_num_words'].mean()}\")\n",
    "print(f\"The average number of words in each article in dataset 2 is: {data2['title_num_words'].mean()}\")\n",
    "print(f\"The average number of words in each article in dataset 3 is: {data3['title_num_words'].mean()}\")"
   ]
  },
  {
   "cell_type": "markdown",
   "metadata": {},
   "source": [
    "### Observations:\n",
    "* Its clear that the datasets differ in the lengths of articles\n",
    "* While datasets 2 and 3 have similar sized articles, articles coming from dataset 1 are much longer\n",
    "* The titles however are around the same size in all of three datasets"
   ]
  },
  {
   "cell_type": "markdown",
   "metadata": {},
   "source": [
    "## Filling missing data \n",
    "\n",
    "    We had about 528 missing datapoints in dataset 1. Now one way to deal with missing data is to drop them. But we would lose information from 528 articles. One thing to notice is that it is the title of the articles that is missing for these 528 datapoints. And since the titles are usually much smaller when compared to articles, we can try coming up with a workaround to this missing data problem. "
   ]
  },
  {
   "cell_type": "code",
   "execution_count": 63,
   "metadata": {},
   "outputs": [
    {
     "data": {
      "text/plain": [
       "title                528\n",
       "body                   0\n",
       "label                  0\n",
       "title_num_words      528\n",
       "title_num_letters    528\n",
       "body_num_words         0\n",
       "body_num_letters       0\n",
       "dtype: int64"
      ]
     },
     "execution_count": 63,
     "metadata": {},
     "output_type": "execute_result"
    }
   ],
   "source": [
    "# Missing data in the first dataset\n",
    "\n",
    "data1.isna().sum()"
   ]
  },
  {
   "cell_type": "code",
   "execution_count": 64,
   "metadata": {},
   "outputs": [],
   "source": [
    "# Adding a column that signifies whether the datapoint has any missing value\n",
    "\n",
    "data1['missing_data'] = data1['title'].apply(pd.isna).map({True:1, False:0})"
   ]
  },
  {
   "cell_type": "code",
   "execution_count": 65,
   "metadata": {},
   "outputs": [
    {
     "data": {
      "text/plain": [
       "1    528\n",
       "Name: label, dtype: int64"
      ]
     },
     "execution_count": 65,
     "metadata": {},
     "output_type": "execute_result"
    }
   ],
   "source": [
    "# Now that we have information about what datapoints have missing data, we can check what class does this missing data comes from.\n",
    "# The idea behind this is what if more missing data comes from fake articles?\n",
    "\n",
    "data1[data1['missing_data']==1]['label'].value_counts()"
   ]
  },
  {
   "cell_type": "markdown",
   "metadata": {},
   "source": [
    " This tells us that all the missing data present in the dataset belongs to class 1 which are Fake articles. "
   ]
  },
  {
   "cell_type": "markdown",
   "metadata": {},
   "source": [
    "#### An idea that we'll try using to fill missing titles is as follows: \n",
    "\n",
    "* Often title is a short summary of what the article is about in a few words. Its used to capture the attention of the reader and thus holds decent amount of information\n",
    "* What can be seen in a lot of datapoints is that often the title has words that occur at the start of the article\n",
    "* The idea is what if we use the starting few words from the body of these missing examples to fill in for the title. Its obviously better than discarding the datapoints altogether\n",
    "* Next logical question would be how many words to pick up? For this we can use the median/mean number or words present in titles in dataset 1\n",
    "* Also since we saw that all these missing points come from fake articles, we can try using the mean/median of number of words present in the fake articles"
   ]
  },
  {
   "cell_type": "code",
   "execution_count": 66,
   "metadata": {},
   "outputs": [],
   "source": [
    "avg_letter_num_title = data1[data1['label'] == 1]['title_num_letters'].mean()\n",
    "avg_word_num_title = data1[data1['label'] == 1]['title_num_words'].mean()"
   ]
  },
  {
   "cell_type": "code",
   "execution_count": 67,
   "metadata": {},
   "outputs": [
    {
     "name": "stdout",
     "output_type": "stream",
     "text": [
      "On average there are about 12.0 words in the titles\n",
      "On average there are about 69.0 letters in the titles\n"
     ]
    }
   ],
   "source": [
    "print(f'On average there are about {np.ceil(avg_word_num_title)} words in the titles')\n",
    "print(f'On average there are about {np.ceil(avg_letter_num_title)} letters in the titles')"
   ]
  },
  {
   "cell_type": "code",
   "execution_count": 68,
   "metadata": {},
   "outputs": [],
   "source": [
    "# lets use the first 70 letters from the articles of data having missing titles\n",
    "missing_idx = []  # To store all instances where titles were missing\n",
    "for idx_missing, bool_value in enumerate(data1['missing_data']):\n",
    "    if bool_value:  # If missing data\n",
    "        text_to_fill = ' '.join(data1['body'].iloc[idx_missing].split()[:12])   # Taking the first 12 words in the body\n",
    "        data1['title'].iloc[idx_missing] = text_to_fill\n",
    "        missing_idx.append(idx_missing)  # Append the index of the missing title"
   ]
  },
  {
   "cell_type": "code",
   "execution_count": 72,
   "metadata": {},
   "outputs": [],
   "source": [
    "# Now since all titles are filled, we can also fill the remaining\n",
    "\n",
    "data1['title_num_words'] = data1['title_num_words'].fillna(12)  # Filling with average length of words in title\n",
    "data1['title_num_letters'] = data1['title_num_letters'].fillna(69) # Filling with average length of letters in title"
   ]
  },
  {
   "cell_type": "code",
   "execution_count": 73,
   "metadata": {},
   "outputs": [
    {
     "data": {
      "text/plain": [
       "title                0\n",
       "body                 0\n",
       "label                0\n",
       "title_num_words      0\n",
       "title_num_letters    0\n",
       "body_num_words       0\n",
       "body_num_letters     0\n",
       "missing_data         0\n",
       "dtype: int64"
      ]
     },
     "execution_count": 73,
     "metadata": {},
     "output_type": "execute_result"
    }
   ],
   "source": [
    "# Checking if missing titles have been filled\n",
    "\n",
    "data1.isna().sum()"
   ]
  },
  {
   "cell_type": "code",
   "execution_count": 85,
   "metadata": {},
   "outputs": [
    {
     "name": "stdout",
     "output_type": "stream",
     "text": [
      "\n",
      "Title 1: Sounds like he has our president pegged. What a shame, Obama's ineptness\n",
      "\n",
      "__________________________________________________________________________________________\n",
      "\n",
      "Title 2: Same people all the time , i dont know how you can\n",
      "\n",
      "__________________________________________________________________________________________\n",
      "\n",
      "Title 3: You know, outside of any morality arguments, it seems to me that\n",
      "\n",
      "__________________________________________________________________________________________\n",
      "\n",
      "Title 4: There is a lot more than meets the eye to this mob\n",
      "\n",
      "__________________________________________________________________________________________\n",
      "\n",
      "Title 5: They got the heater turned up on high.\n",
      "\n",
      "__________________________________________________________________________________________\n",
      "\n",
      "Title 6: If I were one of those Guardsmen and the Spetsnaz came parachuting\n",
      "\n",
      "__________________________________________________________________________________________\n",
      "\n",
      "Title 7: The way he's doing business there seems he'll be a daisy pusher\n",
      "\n",
      "__________________________________________________________________________________________\n",
      "\n",
      "Title 8: If so, then Hillary and Obama will end up being among the\n",
      "\n",
      "__________________________________________________________________________________________\n",
      "\n",
      "Title 9: $4 Billion even after they are known to be keeping all supposedly\n",
      "\n",
      "__________________________________________________________________________________________\n",
      "\n",
      "Title 10: When the people fear their government there’s Tyranny , when the government\n",
      "\n",
      "__________________________________________________________________________________________\n"
     ]
    }
   ],
   "source": [
    "# Checking the titles that were previously missing and were thus filled\n",
    "\n",
    "for i,title in enumerate(data1[data1['missing_data'] == 1]['title']):\n",
    "    if i > 9:\n",
    "        break\n",
    "    print(f'\\nTitle {i+1}: {title}\\n')\n",
    "    print('_' * 90)"
   ]
  },
  {
   "cell_type": "markdown",
   "metadata": {},
   "source": [
    "## Combining the three datasets\n",
    "\n",
    "   Now that we've dealt with the basic issues with the datsets, we can combine them. Once we have the combined data, we can further move on to exploring and cleaning the data"
   ]
  },
  {
   "cell_type": "code",
   "execution_count": 87,
   "metadata": {},
   "outputs": [],
   "source": [
    "# Dropping 'missing_data' column from dataset 1\n",
    "\n",
    "data1.drop('missing_data', axis=1, inplace=True)"
   ]
  },
  {
   "cell_type": "code",
   "execution_count": 88,
   "metadata": {},
   "outputs": [],
   "source": [
    "# Concatenating all the datasets\n",
    "\n",
    "data = pd.concat([data1, data2, data3], ignore_index=True)"
   ]
  },
  {
   "cell_type": "code",
   "execution_count": 100,
   "metadata": {},
   "outputs": [
    {
     "data": {
      "text/html": [
       "<div>\n",
       "<style scoped>\n",
       "    .dataframe tbody tr th:only-of-type {\n",
       "        vertical-align: middle;\n",
       "    }\n",
       "\n",
       "    .dataframe tbody tr th {\n",
       "        vertical-align: top;\n",
       "    }\n",
       "\n",
       "    .dataframe thead th {\n",
       "        text-align: right;\n",
       "    }\n",
       "</style>\n",
       "<table border=\"1\" class=\"dataframe\">\n",
       "  <thead>\n",
       "    <tr style=\"text-align: right;\">\n",
       "      <th></th>\n",
       "      <th>title</th>\n",
       "      <th>body</th>\n",
       "      <th>label</th>\n",
       "      <th>title_num_words</th>\n",
       "      <th>title_num_letters</th>\n",
       "      <th>body_num_words</th>\n",
       "      <th>body_num_letters</th>\n",
       "    </tr>\n",
       "  </thead>\n",
       "  <tbody>\n",
       "    <tr>\n",
       "      <th>0</th>\n",
       "      <td>House Dem Aide: We Didn’t Even See Comey’s Let...</td>\n",
       "      <td>House Dem Aide: We Didn’t Even See Comey’s Let...</td>\n",
       "      <td>1</td>\n",
       "      <td>14.0</td>\n",
       "      <td>81.0</td>\n",
       "      <td>820.0</td>\n",
       "      <td>4930.0</td>\n",
       "    </tr>\n",
       "    <tr>\n",
       "      <th>1</th>\n",
       "      <td>FLYNN: Hillary Clinton, Big Woman on Campus - ...</td>\n",
       "      <td>Ever get the feeling your life circles the rou...</td>\n",
       "      <td>0</td>\n",
       "      <td>9.0</td>\n",
       "      <td>55.0</td>\n",
       "      <td>710.0</td>\n",
       "      <td>4160.0</td>\n",
       "    </tr>\n",
       "    <tr>\n",
       "      <th>2</th>\n",
       "      <td>Why the Truth Might Get You Fired</td>\n",
       "      <td>Why the Truth Might Get You Fired October 29, ...</td>\n",
       "      <td>1</td>\n",
       "      <td>7.0</td>\n",
       "      <td>33.0</td>\n",
       "      <td>1266.0</td>\n",
       "      <td>7692.0</td>\n",
       "    </tr>\n",
       "    <tr>\n",
       "      <th>3</th>\n",
       "      <td>15 Civilians Killed In Single US Airstrike Hav...</td>\n",
       "      <td>Videos 15 Civilians Killed In Single US Airstr...</td>\n",
       "      <td>1</td>\n",
       "      <td>10.0</td>\n",
       "      <td>63.0</td>\n",
       "      <td>557.0</td>\n",
       "      <td>3237.0</td>\n",
       "    </tr>\n",
       "    <tr>\n",
       "      <th>4</th>\n",
       "      <td>Iranian woman jailed for fictional unpublished...</td>\n",
       "      <td>Print \\nAn Iranian woman has been sentenced to...</td>\n",
       "      <td>1</td>\n",
       "      <td>14.0</td>\n",
       "      <td>93.0</td>\n",
       "      <td>154.0</td>\n",
       "      <td>938.0</td>\n",
       "    </tr>\n",
       "  </tbody>\n",
       "</table>\n",
       "</div>"
      ],
      "text/plain": [
       "                                               title  \\\n",
       "0  House Dem Aide: We Didn’t Even See Comey’s Let...   \n",
       "1  FLYNN: Hillary Clinton, Big Woman on Campus - ...   \n",
       "2                  Why the Truth Might Get You Fired   \n",
       "3  15 Civilians Killed In Single US Airstrike Hav...   \n",
       "4  Iranian woman jailed for fictional unpublished...   \n",
       "\n",
       "                                                body  label  title_num_words  \\\n",
       "0  House Dem Aide: We Didn’t Even See Comey’s Let...      1             14.0   \n",
       "1  Ever get the feeling your life circles the rou...      0              9.0   \n",
       "2  Why the Truth Might Get You Fired October 29, ...      1              7.0   \n",
       "3  Videos 15 Civilians Killed In Single US Airstr...      1             10.0   \n",
       "4  Print \\nAn Iranian woman has been sentenced to...      1             14.0   \n",
       "\n",
       "   title_num_letters  body_num_words  body_num_letters  \n",
       "0               81.0           820.0            4930.0  \n",
       "1               55.0           710.0            4160.0  \n",
       "2               33.0          1266.0            7692.0  \n",
       "3               63.0           557.0            3237.0  \n",
       "4               93.0           154.0             938.0  "
      ]
     },
     "execution_count": 100,
     "metadata": {},
     "output_type": "execute_result"
    }
   ],
   "source": [
    "data.head()"
   ]
  },
  {
   "cell_type": "code",
   "execution_count": 98,
   "metadata": {},
   "outputs": [
    {
     "name": "stdout",
     "output_type": "stream",
     "text": [
      "We have a total of 69144 datapoints in the final dataset\n"
     ]
    }
   ],
   "source": [
    "print(f\"We have a total of {data.shape[0]} datapoints in the final dataset\")"
   ]
  },
  {
   "cell_type": "code",
   "execution_count": 4,
   "metadata": {},
   "outputs": [
    {
     "data": {
      "text/html": [
       "<div>\n",
       "<style scoped>\n",
       "    .dataframe tbody tr th:only-of-type {\n",
       "        vertical-align: middle;\n",
       "    }\n",
       "\n",
       "    .dataframe tbody tr th {\n",
       "        vertical-align: top;\n",
       "    }\n",
       "\n",
       "    .dataframe thead th {\n",
       "        text-align: right;\n",
       "    }\n",
       "</style>\n",
       "<table border=\"1\" class=\"dataframe\">\n",
       "  <thead>\n",
       "    <tr style=\"text-align: right;\">\n",
       "      <th></th>\n",
       "      <th>title</th>\n",
       "      <th>body</th>\n",
       "      <th>label</th>\n",
       "    </tr>\n",
       "  </thead>\n",
       "  <tbody>\n",
       "    <tr>\n",
       "      <th>0</th>\n",
       "      <td>House Dem Aide: We Didn’t Even See Comey’s Let...</td>\n",
       "      <td>House Dem Aide: We Didn’t Even See Comey’s Let...</td>\n",
       "      <td>1</td>\n",
       "    </tr>\n",
       "    <tr>\n",
       "      <th>1</th>\n",
       "      <td>FLYNN: Hillary Clinton, Big Woman on Campus - ...</td>\n",
       "      <td>Ever get the feeling your life circles the rou...</td>\n",
       "      <td>0</td>\n",
       "    </tr>\n",
       "    <tr>\n",
       "      <th>2</th>\n",
       "      <td>Why the Truth Might Get You Fired</td>\n",
       "      <td>Why the Truth Might Get You Fired October 29, ...</td>\n",
       "      <td>1</td>\n",
       "    </tr>\n",
       "    <tr>\n",
       "      <th>3</th>\n",
       "      <td>15 Civilians Killed In Single US Airstrike Hav...</td>\n",
       "      <td>Videos 15 Civilians Killed In Single US Airstr...</td>\n",
       "      <td>1</td>\n",
       "    </tr>\n",
       "    <tr>\n",
       "      <th>4</th>\n",
       "      <td>Iranian woman jailed for fictional unpublished...</td>\n",
       "      <td>Print \\nAn Iranian woman has been sentenced to...</td>\n",
       "      <td>1</td>\n",
       "    </tr>\n",
       "  </tbody>\n",
       "</table>\n",
       "</div>"
      ],
      "text/plain": [
       "                                               title  \\\n",
       "0  House Dem Aide: We Didn’t Even See Comey’s Let...   \n",
       "1  FLYNN: Hillary Clinton, Big Woman on Campus - ...   \n",
       "2                  Why the Truth Might Get You Fired   \n",
       "3  15 Civilians Killed In Single US Airstrike Hav...   \n",
       "4  Iranian woman jailed for fictional unpublished...   \n",
       "\n",
       "                                                body  label  \n",
       "0  House Dem Aide: We Didn’t Even See Comey’s Let...      1  \n",
       "1  Ever get the feeling your life circles the rou...      0  \n",
       "2  Why the Truth Might Get You Fired October 29, ...      1  \n",
       "3  Videos 15 Civilians Killed In Single US Airstr...      1  \n",
       "4  Print \\nAn Iranian woman has been sentenced to...      1  "
      ]
     },
     "execution_count": 4,
     "metadata": {},
     "output_type": "execute_result"
    }
   ],
   "source": [
    "# Dropping everthing except title and body\n",
    "\n",
    "data.drop(['title_num_words','title_num_letters','body_num_words', 'body_num_letters'], axis=1,inplace=True)\n",
    "data.head()"
   ]
  },
  {
   "cell_type": "code",
   "execution_count": 101,
   "metadata": {},
   "outputs": [],
   "source": [
    "# Saving the data\n",
    "\n",
    "data.to_csv('E:\\Major project\\data\\complete_data', index=False)"
   ]
  },
  {
   "cell_type": "markdown",
   "metadata": {},
   "source": [
    "# Data Cleaning\n",
    "\n",
    "Now that we have combined all the data, the next important part is to clean the Data itself. <br>\n",
    "We mainly have titles and the body which would need cleaning. Cleaning the data could involve various steps. For example, getting rid of the html tags, if present in the data. Similarly, we could get rid of the stuff like stop words, punctuation, etc <br>\n",
    "Once we've cleaned the data, we can try using techniques like stemming / lemmatization so that words like <em>'study'</em> and <em>'studying'</em> are not treated differently. <br>\n",
    "The text also contains stuff like emojis that can be taken care of\n"
   ]
  },
  {
   "cell_type": "code",
   "execution_count": 134,
   "metadata": {},
   "outputs": [],
   "source": [
    "# Reading the data\n",
    "\n",
    "data = pd.read_csv('E:\\Major project\\data\\complete_data')"
   ]
  },
  {
   "cell_type": "code",
   "execution_count": 15,
   "metadata": {},
   "outputs": [
    {
     "data": {
      "text/plain": [
       "'Bill Clinton’s Lover: He Called Ruthless Hillary ‘The Warden’'"
      ]
     },
     "execution_count": 15,
     "metadata": {},
     "output_type": "execute_result"
    }
   ],
   "source": [
    "# Checking random titles\n",
    "\n",
    "data['title'][600]"
   ]
  },
  {
   "cell_type": "code",
   "execution_count": 16,
   "metadata": {},
   "outputs": [
    {
     "data": {
      "text/plain": [
       "'West covering up crimes of Bahraini regime: Analyst'"
      ]
     },
     "execution_count": 16,
     "metadata": {},
     "output_type": "execute_result"
    }
   ],
   "source": [
    "data['title'][1606]"
   ]
  },
  {
   "cell_type": "code",
   "execution_count": 17,
   "metadata": {},
   "outputs": [
    {
     "data": {
      "text/plain": [
       "'NFL players may soon get a reminder of how the “other half” lives, at least when it comes to travel. [According to Forbes, American Airlines suspended its charter arrangements with six NFL teams. The teams that will no longer fly American are the Cardinals, Ravens, Colts, Jaguars, Dolphins, and Steelers.  However, weirdly, American will continue to provide charters for the Cowboys, Panthers, and Eagles. American cites a lack of machinery as the reason for the discontinuation of service. According to Pro Football Talk, the charter suspension issue, “  …    extends beyond American Airlines. Delta is believed to be doing the same thing, and United could be next. The source said that roughly 20 teams currently don’t have a charter provider for the coming season, and that it could become a ‘real issue’ for the league. ” How amazing that in a league where every owner, and even some athletes, use their own private planes, that chartering flights when traveling for work could become an issue. However, it seems that’s the case. There is no question that players will have hard time making the adjustment from charter travel to commercial. Just wait until they find out about United’s “reaccomodation” policy.  Follow Dylan Gwinn on Twitter: @themightygwinn'"
      ]
     },
     "execution_count": 17,
     "metadata": {},
     "output_type": "execute_result"
    }
   ],
   "source": [
    "# Checking random articles\n",
    "\n",
    "data['body'][5666]"
   ]
  },
  {
   "cell_type": "code",
   "execution_count": 18,
   "metadata": {},
   "outputs": [
    {
     "data": {
      "text/plain": [
       "'A week before Michael T. Flynn resigned as national security adviser, a sealed proposal was   to his office, outlining a way for President Trump to lift sanctions against Russia. Mr. Flynn is gone, having been caught lying about his own discussion of sanctions with the Russian ambassador. But the proposal, a peace plan for Ukraine and Russia, remains, along with those pushing it: Michael D. Cohen, the president’s personal lawyer, who delivered the document Felix H. Sater, a business associate who helped Mr. Trump scout deals in Russia and a Ukrainian lawmaker trying to rise in a political opposition movement shaped in part by Mr. Trump’s former campaign manager Paul Manafort. At a time when Mr. Trump’s ties to Russia, and the people connected to him, are under heightened scrutiny  —   with investigations by American intelligence agencies, the F. B. I. and Congress  —   some of his associates remain willing and eager to wade into   efforts behind the scenes. Mr. Trump has confounded Democrats and Republicans alike with his repeated praise for the Russian president, Vladimir V. Putin, and his desire to forge an   alliance. While there is nothing illegal about such unofficial efforts, a proposal that seems to tip toward Russian interests may set off alarms. The amateur diplomats say their goal is simply to help settle a grueling,   conflict that has cost 10, 000 lives. “Who doesn’t want to help bring about peace?” Mr. Cohen asked. But the proposal contains more than just a peace plan. Andrii V. Artemenko, the Ukrainian lawmaker, who sees himself as a   leader of a future Ukraine, claims to have evidence  —   “names of companies, wire transfers”  —   showing corruption by the Ukrainian president, Petro O. Poroshenko, that could help oust him. And Mr. Artemenko said he had received encouragement for his plans from top aides to Mr. Putin. “A lot of people will call me a Russian agent, a U. S. agent, a C. I. A. agent,” Mr. Artemenko said. “But how can you find a good solution between our countries if we do not talk?” Mr. Cohen and Mr. Sater said they had not spoken to Mr. Trump about the proposal, and have no experience in foreign policy. Mr. Cohen is one of several Trump associates under scrutiny in an F. B. I. counterintelligence examination of links with Russia, according to law enforcement officials he has denied any illicit connections. The two others involved in the effort have somewhat questionable pasts: Mr. Sater, 50, a   pleaded guilty to a role in a stock manipulation scheme decades ago that involved the Mafia. Mr. Artemenko spent two and a half years in jail in Kiev in the early 2000s on embezzlement charges, later dropped, which he said had been politically motivated. While it is unclear if the White House will take the proposal seriously, the diplomatic freelancing has infuriated Ukrainian officials. Ukraine’s ambassador to the United States, Valeriy Chaly, said Mr. Artemenko “is not entitled to present any alternative peace plans on behalf of Ukraine to any foreign government, including the U. S. administration. ” At a security conference in Munich on Friday, Mr. Poroshenko warned the West against “appeasement” of Russia, and some American experts say offering Russia any alternative to a    international agreement on Ukraine would be a mistake. The Trump administration has sent mixed signals about the conflict in Ukraine. But given Mr. Trump’s praise for Mr. Putin, John Herbst, a former American ambassador to Ukraine, said he feared the new president might be too eager to mend relations with Russia at Ukraine’s expense  —   potentially with a plan like Mr. Artemenko’s. It was late January when the three men associated with the proposed plan converged on the Loews Regency, a luxury hotel on Park Avenue in Manhattan where business deals are made in a lobby furnished with leather couches, over martinis at the restaurant bar and in private conference rooms on upper floors. Mr. Cohen, 50, lives two blocks up the street, in Trump Park Avenue. A lawyer who joined the Trump Organization in 2007 as special counsel, he has worked on many deals, including a   tower in the republic of Georgia and a   mixed martial arts venture starring a Russian fighter. He is considered a loyal lieutenant whom Mr. Trump trusts to fix difficult problems. The F. B. I. is reviewing an unverified dossier, compiled by a former British intelligence agent and funded by Mr. Trump’s political opponents, that claims Mr. Cohen met with a Russian representative in Prague during the presidential campaign to discuss Russia’s hacking of Democratic targets. But the Russian official named in the report told The New York Times that he had never met Mr. Cohen. Mr. Cohen insists that he has never visited Prague and that the dossier’s assertions are fabrications. (Mr. Manafort is also under investigation by the F. B. I. for his connections to Russia and Ukraine.) Mr. Cohen has a personal connection to Ukraine: He is married to a Ukrainian woman and once worked with relatives there to establish an ethanol business. Mr. Artemenko, tall and burly, arrived at the Manhattan hotel between visits to Washington. (His wife, he said, met the first lady, Melania Trump, years ago during their modeling careers, but he did not try to meet Mr. Trump.) He had attended the inauguration and visited Congress, posting on Facebook his admiration for Mr. Trump and talking up his peace plan in meetings with American lawmakers. He entered Parliament in 2014, the year that the former Ukrainian president Viktor Yanukovych fled to Moscow amid protests over his economic alignment with Russia and corruption. Mr. Manafort, who had been instrumental in getting Mr. Yanukovych elected, helped shape a political bloc that sprang up to oppose the new president, Mr. Poroshenko, a wealthy businessman who has taken a far tougher stance toward Russia and accused Mr. Putin of wanting to absorb Ukraine into a new Russian Empire. Mr. Artemenko, 48, emerged from the opposition that Mr. Manafort nurtured. (The two men have never met, Mr. Artemenko said.) Before entering politics, Mr. Artemenko had business ventures in the Middle East and real estate deals in the Miami area, and had worked as an agent representing top Ukrainian athletes. Some colleagues in Parliament describe him as corrupt, untrustworthy or simply insignificant, but he appears to have amassed considerable wealth. He has fashioned himself in the image of Mr. Trump, presenting himself as Ukraine’s answer to a rising class of nationalist leaders in the West. He even traveled to Cleveland last summer for the Republican National Convention, seizing on the chance to meet with members of Mr. Trump’s campaign. “It’s time for new leaders, new approaches to the governance of the country, new principles and new negotiators in international politics,” he wrote on Facebook on Jan. 27. “Our time has come!” Mr. Artemenko said he saw in Mr. Trump an opportunity to advocate a plan for peace in Ukraine  —   and help advance his own political career. Essentially, his plan would require the withdrawal of all Russian forces from eastern Ukraine. Ukrainian voters would decide in a referendum whether Crimea, the Ukrainian territory seized by Russia in 2014, would be leased to Russia for a term of 50 or 100 years. The Ukrainian ambassador, Mr. Chaly, rejected a lease of that kind. “It is a gross violation of the Constitution,” he said in written answers to questions from The Times. “Such ideas can be pitched or pushed through only by those openly or covertly representing Russian interests. ” The reaction suggested why Mr. Artemenko’s project also includes the dissemination of “kompromat,” or compromising material, purportedly showing that Mr. Poroshenko and his closest associates are corrupt. Only a new government, presumably one less hostile to Russia, might take up his plan. Mr. Sater, a longtime business associate of Mr. Trump’s with connections in Russia, was willing to help Mr. Artemenko’s proposal reach the White House. Mr. Trump has sought to distance himself from Mr. Sater in recent years. If Mr. Sater “were sitting in the room right now,” Mr. Trump said in a 2013 deposition, “I really wouldn’t know what he looked like. ” But Mr. Sater worked on real estate development deals with the Trump Organization on and off for at least a decade, even after his role in the stock manipulation scheme came to light. Mr. Sater, who was born in the Soviet Union and grew up in New York, served as an executive at a firm called Bayrock Group, two floors below the Trump Organization in Trump Tower, and was later a senior adviser to Mr. Trump. He said he had been working on a plan for a Trump Tower in Moscow with a Russian real estate developer as recently as the fall of 2015, one that he said had come to a halt because of Mr. Trump’s presidential campaign. (Mr. Cohen said the Trump Organization had received a letter of intent for a project in Moscow from a Russian real estate developer at that time but determined that the project was not feasible.) Mr. Artemenko said a mutual friend had put him in touch with Mr. Sater. Helping to advance the proposal, Mr. Sater said, made sense. “I want to stop a war, number one,” he said. “Number two, I absolutely believe that the U. S. and Russia need to be allies, not enemies. If I could achieve both in one stroke, it would be a home run. ” After speaking with Mr. Sater and Mr. Artemenko in person, Mr. Cohen said he would deliver the plan to the White House. Mr. Cohen said he did not know who in the Russian government had offered encouragement on it, as Mr. Artemenko claims, but he understood there was a promise of proof of corruption by the Ukrainian president. “Fraud is never good, right?” Mr. Cohen said. He said Mr. Sater had given him the written proposal in a sealed envelope. When Mr. Cohen met with Mr. Trump in the Oval Office in early February, he said, he left the proposal in Mr. Flynn’s office. Mr. Cohen said he was waiting for a response when Mr. Flynn was forced from his post. Now Mr. Cohen, Mr. Sater and Mr. Artemenko are hoping a new national security adviser will take up their cause. On Friday the president wrote on Twitter that he had four new candidates for the job.'"
      ]
     },
     "execution_count": 18,
     "metadata": {},
     "output_type": "execute_result"
    }
   ],
   "source": [
    "data['body'][9]"
   ]
  },
  {
   "cell_type": "code",
   "execution_count": 20,
   "metadata": {},
   "outputs": [],
   "source": [
    "# Referenced from: https://stackoverflow.com/a/47091490/4084039\n",
    "# This will replace words like \"won't\" with \"will not\" and so on\n",
    "\n",
    "def decontracted(phrase):\n",
    "    # specific\n",
    "    phrase = re.sub(r\"won't\", \"will not\", phrase)\n",
    "    phrase = re.sub(r\"can\\'t\", \"can not\", phrase)\n",
    "\n",
    "    # general\n",
    "    phrase = re.sub(r\"n\\'t\", \" not\", phrase)\n",
    "    phrase = re.sub(r\"\\'re\", \" are\", phrase)\n",
    "    phrase = re.sub(r\"\\'s\", \" is\", phrase)\n",
    "    phrase = re.sub(r\"\\'d\", \" would\", phrase)\n",
    "    phrase = re.sub(r\"\\'ll\", \" will\", phrase)\n",
    "    phrase = re.sub(r\"\\'t\", \" not\", phrase)\n",
    "    phrase = re.sub(r\"\\'ve\", \" have\", phrase)\n",
    "    phrase = re.sub(r\"\\'m\", \" am\", phrase)\n",
    "    \n",
    "    return phrase"
   ]
  },
  {
   "cell_type": "code",
   "execution_count": 32,
   "metadata": {},
   "outputs": [],
   "source": [
    "stop_words = set(stopwords.words('English'))  # Loading in the stop words"
   ]
  },
  {
   "cell_type": "code",
   "execution_count": 33,
   "metadata": {},
   "outputs": [
    {
     "name": "stdout",
     "output_type": "stream",
     "text": [
      "{'out', 'haven', 'am', 'before', 'did', \"aren't\", 'if', 'up', 'can', \"couldn't\", 'yours', 'themselves', 'until', 'was', 'few', 'further', 'it', 'd', 'doesn', 'be', 'each', 'ours', 'then', 's', 'isn', 'were', \"doesn't\", \"that'll\", 'which', 'with', 'at', 'who', 'you', 'its', 'that', 'their', \"weren't\", \"mightn't\", 'through', 'during', 'after', 'why', 'under', 'most', 'doing', 'as', 'but', 'some', \"you'd\", 'our', 'an', 'they', 'on', 'more', 'once', 'your', 'own', 'o', \"shouldn't\", 'over', 'weren', 'll', 'she', 'because', 'about', 'hers', 'while', \"needn't\", 'so', \"don't\", 'my', \"you'll\", 'couldn', 'against', 'in', 'ourselves', 'should', 'aren', 'them', 'this', 'her', 'again', 'do', \"haven't\", 'only', 'wasn', 'him', 'have', \"shan't\", 'all', 'i', 'same', 'when', \"you've\", 're', 'we', 'didn', \"won't\", \"it's\", 'his', 'he', 'herself', 'from', 'for', 'very', 'are', 'has', 'too', 'don', 'won', 'wouldn', 'and', 'how', 'mustn', 'himself', 't', 'itself', 'a', 'yourselves', 'any', 'between', 'does', 'by', 'into', 'just', 'those', 'm', 'is', \"hasn't\", 'or', 'what', 'been', 'hasn', 'down', 'than', 'ma', 'ain', 'hadn', 'myself', 'other', 'below', 'shouldn', \"didn't\", 'here', \"mustn't\", 'shan', \"wasn't\", 'both', 'such', \"she's\", 'whom', 'being', 've', 'will', 'the', \"hadn't\", \"wouldn't\", 'above', 'yourself', \"you're\", 'now', 'having', 'off', 'where', 'of', \"should've\", 'to', 'theirs', 'y', 'mightn', 'these', 'needn', 'me', 'there', \"isn't\", 'had'}\n"
     ]
    }
   ],
   "source": [
    "# Removing words like no, nor and not from the stopwords dict\n",
    "\n",
    "stop_words.remove('no')\n",
    "stop_words.remove('not')\n",
    "stop_words.remove('nor')\n",
    "print(stop_words)"
   ]
  },
  {
   "cell_type": "code",
   "execution_count": 34,
   "metadata": {},
   "outputs": [
    {
     "name": "stdout",
     "output_type": "stream",
     "text": [
      "This is a smiley face 😂\n",
      "This is a smiley face \n"
     ]
    }
   ],
   "source": [
    "# To get rid of emojis \n",
    "# Refernce: https://stackoverflow.com/questions/33404752/removing-emojis-from-a-string-in-python\n",
    "\n",
    "text = u'This is a smiley face \\U0001f602'\n",
    "print(text) # with emoji\n",
    "\n",
    "def deEmojify(text):\n",
    "    regrex_pattern = re.compile(pattern = \"[\"\n",
    "        u\"\\U0001F600-\\U0001F64F\"  # emoticons\n",
    "        u\"\\U0001F300-\\U0001F5FF\"  # symbols & pictographs\n",
    "        u\"\\U0001F680-\\U0001F6FF\"  # transport & map symbols\n",
    "        u\"\\U0001F1E0-\\U0001F1FF\"  # flags (iOS)\n",
    "                           \"]+\", flags = re.UNICODE)\n",
    "    return regrex_pattern.sub(r'',text)\n",
    "\n",
    "print(deEmojify(text))"
   ]
  },
  {
   "cell_type": "code",
   "execution_count": 1,
   "metadata": {},
   "outputs": [],
   "source": [
    "def clean_data(text, stem=False, lemmatize=False):\n",
    "    \n",
    "    \"\"\"\n",
    "    Given some text, this function cleans the text data\n",
    "    \n",
    "    Parameters: \n",
    "        text: A list / series containing text data\n",
    "        stem: If stem == True, the cleaned text is also stemmed\n",
    "        lemmatize: If lematize == True, the cleaned text is also lemmatized\n",
    "        \n",
    "        If both stem == False and lemmatize == False, text is only cleaned\n",
    "        \n",
    "    Output:\n",
    "        The function returns a list containing the cleaned text\n",
    "        \n",
    "    \"\"\"\n",
    "    \n",
    "    lemmatizer = WordNetLemmatizer()   \n",
    "    stemmer = SnowballStemmer('english')\n",
    "    \n",
    "    cleaned_text = []\n",
    "    for line in tqdm(text):\n",
    "        \n",
    "        cleaned_line = decontracted(line)\n",
    "        cleaned_line = deEmojify(cleaned_line)  # Removing any emojis\n",
    "        cleaned_line = cleaned_line.replace('\\n',' ').replace('\\t',' ')  # Replacing any tab or new line indicators\n",
    "        cleaned_line = re.sub('[^A-Za-z0-9]+', ' ', cleaned_line)\n",
    "        cleaned_line = ' '.join(word for word in cleaned_line.split() if word.lower() not in stop_words)  # Removing stop words\n",
    "        cleaned_line = cleaned_line.lower().strip() # Append the cleaned text and convert all text to lower case letters and remove any whitespace \n",
    "        \n",
    "        if stem:\n",
    "            stemmed = []\n",
    "            for word in cleaned_line.split():\n",
    "                stemmed.append(stemmer.stem(word))\n",
    "            cleaned_text.append(' '.join(stemmed))\n",
    "                \n",
    "        \n",
    "        if lemmatize:\n",
    "            lemmatized = []\n",
    "            for word in cleaned_line.split():\n",
    "                lemmatized.append(lemmatizer.lemmatize(word))\n",
    "            cleaned_text.append(' '.join(lemmatized))\n",
    "            \n",
    "        if not stem and not lemmatize:\n",
    "            cleaned_text.append(cleaned_line)\n",
    "        \n",
    "    return cleaned_text"
   ]
  },
  {
   "cell_type": "code",
   "execution_count": 160,
   "metadata": {},
   "outputs": [
    {
     "name": "stderr",
     "output_type": "stream",
     "text": [
      "100%|██████████████████████████████████████████████████████████████████████████| 69144/69144 [00:09<00:00, 7642.73it/s]\n"
     ]
    }
   ],
   "source": [
    "data['title'] = clean_data(text=data['title'], stem=True)"
   ]
  },
  {
   "cell_type": "code",
   "execution_count": 161,
   "metadata": {},
   "outputs": [
    {
     "name": "stderr",
     "output_type": "stream",
     "text": [
      "100%|███████████████████████████████████████████████████████████████████████████| 69144/69144 [04:34<00:00, 251.61it/s]\n"
     ]
    }
   ],
   "source": [
    "data['body'] = clean_data(text=data['body'], stem=True)"
   ]
  },
  {
   "cell_type": "code",
   "execution_count": 162,
   "metadata": {},
   "outputs": [
    {
     "data": {
      "text/html": [
       "<div>\n",
       "<style scoped>\n",
       "    .dataframe tbody tr th:only-of-type {\n",
       "        vertical-align: middle;\n",
       "    }\n",
       "\n",
       "    .dataframe tbody tr th {\n",
       "        vertical-align: top;\n",
       "    }\n",
       "\n",
       "    .dataframe thead th {\n",
       "        text-align: right;\n",
       "    }\n",
       "</style>\n",
       "<table border=\"1\" class=\"dataframe\">\n",
       "  <thead>\n",
       "    <tr style=\"text-align: right;\">\n",
       "      <th></th>\n",
       "      <th>title</th>\n",
       "      <th>body</th>\n",
       "      <th>label</th>\n",
       "    </tr>\n",
       "  </thead>\n",
       "  <tbody>\n",
       "    <tr>\n",
       "      <th>0</th>\n",
       "      <td>hous dem aid even see comey letter jason chaff...</td>\n",
       "      <td>hous dem aid even see comey letter jason chaff...</td>\n",
       "      <td>1</td>\n",
       "    </tr>\n",
       "    <tr>\n",
       "      <th>1</th>\n",
       "      <td>flynn hillari clinton big woman campus breitbart</td>\n",
       "      <td>ever get feel life circl roundabout rather hea...</td>\n",
       "      <td>0</td>\n",
       "    </tr>\n",
       "    <tr>\n",
       "      <th>2</th>\n",
       "      <td>truth might get fire</td>\n",
       "      <td>truth might get fire octob 29 2016 tension int...</td>\n",
       "      <td>1</td>\n",
       "    </tr>\n",
       "    <tr>\n",
       "      <th>3</th>\n",
       "      <td>15 civilian kill singl us airstrik identifi</td>\n",
       "      <td>video 15 civilian kill singl us airstrik ident...</td>\n",
       "      <td>1</td>\n",
       "    </tr>\n",
       "    <tr>\n",
       "      <th>4</th>\n",
       "      <td>iranian woman jail fiction unpublish stori wom...</td>\n",
       "      <td>print iranian woman sentenc six year prison ir...</td>\n",
       "      <td>1</td>\n",
       "    </tr>\n",
       "  </tbody>\n",
       "</table>\n",
       "</div>"
      ],
      "text/plain": [
       "                                               title  \\\n",
       "0  hous dem aid even see comey letter jason chaff...   \n",
       "1   flynn hillari clinton big woman campus breitbart   \n",
       "2                               truth might get fire   \n",
       "3        15 civilian kill singl us airstrik identifi   \n",
       "4  iranian woman jail fiction unpublish stori wom...   \n",
       "\n",
       "                                                body  label  \n",
       "0  hous dem aid even see comey letter jason chaff...      1  \n",
       "1  ever get feel life circl roundabout rather hea...      0  \n",
       "2  truth might get fire octob 29 2016 tension int...      1  \n",
       "3  video 15 civilian kill singl us airstrik ident...      1  \n",
       "4  print iranian woman sentenc six year prison ir...      1  "
      ]
     },
     "execution_count": 162,
     "metadata": {},
     "output_type": "execute_result"
    }
   ],
   "source": [
    "data.head()"
   ]
  },
  {
   "cell_type": "code",
   "execution_count": 163,
   "metadata": {},
   "outputs": [],
   "source": [
    "data.to_csv('E:\\Major project\\data\\stemmed_clean_data', index=False)  # Saving the stemmed data"
   ]
  },
  {
   "cell_type": "code",
   "execution_count": 164,
   "metadata": {},
   "outputs": [],
   "source": [
    "# Creating lemmatized data\n",
    "\n",
    "data = pd.read_csv('E:\\Major project\\data\\complete_data')  # Uncleaned complete data"
   ]
  },
  {
   "cell_type": "code",
   "execution_count": 165,
   "metadata": {},
   "outputs": [
    {
     "name": "stderr",
     "output_type": "stream",
     "text": [
      "100%|█████████████████████████████████████████████████████████████████████████| 69144/69144 [00:03<00:00, 18673.19it/s]\n"
     ]
    }
   ],
   "source": [
    "data['title'] = clean_data(text=data['title'], lemmatize=True)"
   ]
  },
  {
   "cell_type": "code",
   "execution_count": 166,
   "metadata": {},
   "outputs": [
    {
     "name": "stderr",
     "output_type": "stream",
     "text": [
      "100%|███████████████████████████████████████████████████████████████████████████| 69144/69144 [01:37<00:00, 708.58it/s]\n"
     ]
    }
   ],
   "source": [
    "data['body'] = clean_data(text=data['body'], lemmatize=True)"
   ]
  },
  {
   "cell_type": "code",
   "execution_count": 167,
   "metadata": {},
   "outputs": [],
   "source": [
    "data.to_csv('E:\\Major project\\data\\lemmatized_clean_data', index=False)  # Saving the lemmatized data"
   ]
  },
  {
   "cell_type": "code",
   "execution_count": 168,
   "metadata": {},
   "outputs": [
    {
     "data": {
      "text/html": [
       "<div>\n",
       "<style scoped>\n",
       "    .dataframe tbody tr th:only-of-type {\n",
       "        vertical-align: middle;\n",
       "    }\n",
       "\n",
       "    .dataframe tbody tr th {\n",
       "        vertical-align: top;\n",
       "    }\n",
       "\n",
       "    .dataframe thead th {\n",
       "        text-align: right;\n",
       "    }\n",
       "</style>\n",
       "<table border=\"1\" class=\"dataframe\">\n",
       "  <thead>\n",
       "    <tr style=\"text-align: right;\">\n",
       "      <th></th>\n",
       "      <th>title</th>\n",
       "      <th>body</th>\n",
       "      <th>label</th>\n",
       "    </tr>\n",
       "  </thead>\n",
       "  <tbody>\n",
       "    <tr>\n",
       "      <th>0</th>\n",
       "      <td>house dem aide even see comey letter jason cha...</td>\n",
       "      <td>house dem aide even see comey letter jason cha...</td>\n",
       "      <td>1</td>\n",
       "    </tr>\n",
       "    <tr>\n",
       "      <th>1</th>\n",
       "      <td>flynn hillary clinton big woman campus breitbart</td>\n",
       "      <td>ever get feeling life circle roundabout rather...</td>\n",
       "      <td>0</td>\n",
       "    </tr>\n",
       "    <tr>\n",
       "      <th>2</th>\n",
       "      <td>truth might get fired</td>\n",
       "      <td>truth might get fired october 29 2016 tension ...</td>\n",
       "      <td>1</td>\n",
       "    </tr>\n",
       "    <tr>\n",
       "      <th>3</th>\n",
       "      <td>15 civilian killed single u airstrike identified</td>\n",
       "      <td>video 15 civilian killed single u airstrike id...</td>\n",
       "      <td>1</td>\n",
       "    </tr>\n",
       "    <tr>\n",
       "      <th>4</th>\n",
       "      <td>iranian woman jailed fictional unpublished sto...</td>\n",
       "      <td>print iranian woman sentenced six year prison ...</td>\n",
       "      <td>1</td>\n",
       "    </tr>\n",
       "  </tbody>\n",
       "</table>\n",
       "</div>"
      ],
      "text/plain": [
       "                                               title  \\\n",
       "0  house dem aide even see comey letter jason cha...   \n",
       "1   flynn hillary clinton big woman campus breitbart   \n",
       "2                              truth might get fired   \n",
       "3   15 civilian killed single u airstrike identified   \n",
       "4  iranian woman jailed fictional unpublished sto...   \n",
       "\n",
       "                                                body  label  \n",
       "0  house dem aide even see comey letter jason cha...      1  \n",
       "1  ever get feeling life circle roundabout rather...      0  \n",
       "2  truth might get fired october 29 2016 tension ...      1  \n",
       "3  video 15 civilian killed single u airstrike id...      1  \n",
       "4  print iranian woman sentenced six year prison ...      1  "
      ]
     },
     "execution_count": 168,
     "metadata": {},
     "output_type": "execute_result"
    }
   ],
   "source": [
    "data.head()"
   ]
  },
  {
   "cell_type": "markdown",
   "metadata": {},
   "source": [
    "## Comparing the cleaned stemmed and cleaned lemmatized data"
   ]
  },
  {
   "cell_type": "code",
   "execution_count": 176,
   "metadata": {},
   "outputs": [],
   "source": [
    "uncleaned = pd.read_csv('E:\\Major project\\data\\complete_data')\n",
    "stemmed = pd.read_csv('E:\\Major project\\data\\stemmed_clean_data')\n",
    "lemmatized = pd.read_csv('E:\\Major project\\data\\lemmatized_clean_data')"
   ]
  },
  {
   "cell_type": "code",
   "execution_count": 189,
   "metadata": {},
   "outputs": [
    {
     "name": "stdout",
     "output_type": "stream",
     "text": [
      "Original-uncleaned title:\n",
      "\n",
      " House Dem Aide: We Didn’t Even See Comey’s Letter Until Jason Chaffetz Tweeted It\n",
      "_____________________________________________________________________________________\n",
      "\n",
      "Cleaned-Lemmatized title:\n",
      "\n",
      " house dem aide even see comey letter jason chaffetz tweeted\n",
      "_____________________________________________________________________________________\n",
      "\n",
      "Cleaned-Stemmed title:\n",
      "\n",
      " hous dem aid even see comey letter jason chaffetz tweet\n",
      "_____________________________________________________________________________________\n"
     ]
    }
   ],
   "source": [
    "# comparing the titles for the first datapoint\n",
    "\n",
    "print(f\"Original-uncleaned title:\\n\\n {uncleaned['title'][0]}\")\n",
    "print('_'*85)\n",
    "print(f\"\\nCleaned-Lemmatized title:\\n\\n {lemmatized['title'][0]}\")\n",
    "print('_'*85)\n",
    "print(f\"\\nCleaned-Stemmed title:\\n\\n {stemmed['title'][0]}\")\n",
    "print('_'*85)"
   ]
  },
  {
   "cell_type": "code",
   "execution_count": 190,
   "metadata": {},
   "outputs": [
    {
     "name": "stdout",
     "output_type": "stream",
     "text": [
      "Original-uncleaned title:\n",
      "\n",
      " Hillary Clinton Builds $150 Million War Chest, Doubling Donald Trump - The New York Times\n",
      "_____________________________________________________________________________________\n",
      "\n",
      "Cleaned-Lemmatized title:\n",
      "\n",
      " hillary clinton build 150 million war chest doubling donald trump new york time\n",
      "_____________________________________________________________________________________\n",
      "\n",
      "Cleaned-Stemmed title:\n",
      "\n",
      " hillari clinton build 150 million war chest doubl donald trump new york time\n",
      "_____________________________________________________________________________________\n"
     ]
    }
   ],
   "source": [
    "# comparing the titles for the hundredth datapoint\n",
    "\n",
    "print(f\"Original-uncleaned title:\\n\\n {uncleaned['title'][100]}\")\n",
    "print('_'*85)\n",
    "print(f\"\\nCleaned-Lemmatized title:\\n\\n {lemmatized['title'][100]}\")\n",
    "print('_'*85)\n",
    "print(f\"\\nCleaned-Stemmed title:\\n\\n {stemmed['title'][100]}\")\n",
    "print('_'*85)"
   ]
  },
  {
   "cell_type": "code",
   "execution_count": null,
   "metadata": {},
   "outputs": [],
   "source": []
  }
 ],
 "metadata": {
  "kernelspec": {
   "display_name": "Python 3",
   "language": "python",
   "name": "python3"
  },
  "language_info": {
   "codemirror_mode": {
    "name": "ipython",
    "version": 3
   },
   "file_extension": ".py",
   "mimetype": "text/x-python",
   "name": "python",
   "nbconvert_exporter": "python",
   "pygments_lexer": "ipython3",
   "version": "3.8.5"
  }
 },
 "nbformat": 4,
 "nbformat_minor": 4
}
