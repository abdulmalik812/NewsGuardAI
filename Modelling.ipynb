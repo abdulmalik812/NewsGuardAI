{
 "cells": [
  {
   "cell_type": "markdown",
   "metadata": {},
   "source": [
    "<h1> Using Machine Learning Models </h1>\n",
    "\n",
    "Now that the data has been cleaned by stemming and lemmatizing the words, explored and featurized using techniques like TFIDF and Word2Vec, the last and final stage in the pipeline is to train a Machine Learning model on the data. The data was initially in the form of title and body which was then converted to a combined sparse matrix representation. <br>\n",
    "\n",
    "The task is to classify news articles as <em>Fake</em> or not. Here,<br>\n",
    "* Class 0 --> <em>Not Fake</em><br>\n",
    "* Class  1 --> <em>Fake</em> <br>\n",
    "\n",
    "In the process of data cleaning, a stemmed and lemmatized version of cleaned data was extracted. The stemmed data has been used along with TFIDF to featurize the data whereas the lemmatized data has been used with W2V as lemmatized data works better with W2V. Also, along with TFIDF vectorization, we will be experimenting with unigrams and bigrams to see if bigrams capture information better. Before moving onto trainng models on the data, it is important to establish some business constraints and objectives."
   ]
  },
  {
   "cell_type": "markdown",
   "metadata": {},
   "source": [
    "## Real World / Business constraints\n",
    "\n",
    "1) __Model Interpretability__ - Interpretability is not really important for our use case here since we only want to know if an article is Fake or Legit. Since labelling incorrectly doesn't have consequences that are severe, model interpretability is not a priority. <br>\n",
    "2) __Latency Constraint__ - There is no latency constrain at hand as we don't have to predict whether an article is <em>Fake</em> or <em>Legit</em> in a span of few microseconds or seconds. Thus, even if the model takes a few seconds or minutes it is fine. <br>\n",
    "3) __Cost of Misclassication__ - The cost of misclassification isn't very high. Sure, we'd like it if legitimate articles aren't marked as Fake and vice versa as that could discredit an author of their work but the cost of misclassification isn't as severe as say, diagnosing someone of some medical disease or detecting fraud. Thus we can say that the cost of misclassification is not high or low but moderate."
   ]
  },
  {
   "cell_type": "markdown",
   "metadata": {},
   "source": [
    "## Evaluation Metrics\n",
    "\n",
    "Firstly its good to have an understanding of what False negatives and False positives would mean for this case.<br>\n",
    "\n",
    "__False Positive__ : Model classifies an article as <em>Fake</em> but it wasn't <em>Fake</em> <br>\n",
    "__False Negative__ : Model classifies an article as <em>Not Fake</em> but it was actually <em>Fake</em><br>\n",
    "\n",
    "**Tradeoff between False Positives and False Negatives**: <br>\n",
    "If the model is having more False positives, it would be bad as we would be wrongly classifying an author's article as Fake and that would completely discredit their work. This would thus lead to bad user experience for an author. <br>\n",
    "Similarly, if the model is having more False negatives, it woulld perhaps be a little worse than previous case since we'll be letting False information through and we don't want that at all. <br>\n",
    "Typically, if we want to focus more on the False Negatives, we would use Recall as the metric and precision if we want to focus on False Positives.<br>\n",
    "\n",
    "**Understanding difference between Recall and Precision for the use case**:\n",
    "* <em>Precision</em> : Of all the points that the model has classified as Fake (class 1), how many points were actually Fake?\n",
    "* <em>Recall</em> : Of all the points that were Fake, how many points did the model actually classify as Fake?\n",
    "\n",
    "However, since we would want to penalize both False negatives and False positives, a metric that gives both precision and Recall importance is the <em>**F1 Score**</em><br>\n",
    "The <em>**F1 Score**</em> is the harmonic mean of precision and recall. <br>\n",
    "Also, since the dataset is pretty balanced, another good metric that can be used and is fairly easy to interpret is **<em>Accuracy</em>** paired with the **<em>Confusion Matrix</em>**<br>\n",
    "\n",
    "Thus the evatuation metrics are as follows:<br>\n",
    "1)  <em>**F1 Score**</em><br>\n",
    "2)  <em>**Accuracy**</em> and <em>**Confusion Matrix**</em>"
   ]
  },
  {
   "cell_type": "markdown",
   "metadata": {},
   "source": [
    "### Importing Libraries "
   ]
  },
  {
   "cell_type": "code",
   "execution_count": 2,
   "metadata": {},
   "outputs": [],
   "source": [
    "import numpy as np\n",
    "import pandas as pd\n",
    "import scipy as sp\n",
    "from scipy import sparse\n",
    "from sklearn.model_selection import train_test_split, GridSearchCV, cross_val_score\n",
    "from sklearn.metrics import accuracy_score, f1_score, confusion_matrix, classification_report, plot_confusion_matrix\n",
    "from sklearn.linear_model import LogisticRegression\n",
    "from sklearn.naive_bayes import MultinomialNB\n",
    "from sklearn.naive_bayes import GaussianNB\n",
    "from sklearn.ensemble import RandomForestClassifier\n",
    "from sklearn.calibration import CalibratedClassifierCV\n",
    "from xgboost import XGBClassifier\n",
    "import matplotlib.pyplot as plt\n",
    "import seaborn as sns\n",
    "import pickle\n",
    "import warnings\n",
    "warnings.filterwarnings('ignore')"
   ]
  },
  {
   "cell_type": "code",
   "execution_count": 3,
   "metadata": {},
   "outputs": [
    {
     "name": "stdout",
     "output_type": "stream",
     "text": [
      "y_train shape: (54744,)\n",
      "y_test shape: (13686,)\n"
     ]
    }
   ],
   "source": [
    "# Since we dropped the y-labels during train test split, we can simply mimic the process of train test split with same random_seed as used before to get the same splits as done before\n",
    "# We can use the stemmed data as before and drop the NA values just like it was done previously\n",
    "\n",
    "stemmed_data = pd.read_csv('data/stemmed_clean_data')\n",
    "stemmed_data = stemmed_data.dropna() # Dropping the NaN values\n",
    "\n",
    "x = stemmed_data.drop('label', axis=1)\n",
    "y = stemmed_data['label']\n",
    "\n",
    "_,_, y_train, y_test = train_test_split(x, y, test_size=0.2, random_state=42, stratify=y)\n",
    "\n",
    "print(f\"y_train shape: {y_train.shape}\")\n",
    "print(f\"y_test shape: {y_test.shape}\")"
   ]
  },
  {
   "cell_type": "code",
   "execution_count": 3,
   "metadata": {},
   "outputs": [],
   "source": [
    "# Defining a function that trains a model on the data using default hyper-params annd returns their performance on the test set. Whichever model is performing best, we'll try tuning the hyper-params for that model only\n",
    "\n",
    "def train_model(clf, X_train, y_train, X_test, y_test):\n",
    "    \n",
    "    \"\"\"\n",
    "    Trains the model on the training data and prints the classification report and confusion matrix on test data\n",
    "    \n",
    "    Input: \n",
    "        clf: classifier object\n",
    "        X_train: Training data\n",
    "        y_train: Training labels\n",
    "        X_test: Test data\n",
    "        y_test: Test labels\n",
    "    \n",
    "    \"\"\"\n",
    "    \n",
    "    clf.fit(X_train, y_train)  # Training the model\n",
    "    \n",
    "    # Getting predictions on both the train and test set\n",
    "    y_train_pred = clf.predict(X_train)\n",
    "    y_test_pred = clf.predict(X_test)\n",
    "    \n",
    "    print('_'*60)\n",
    "    print()\n",
    "    print('Train set report:\\n')\n",
    "    print(classification_report(y_train,  y_train_pred))\n",
    "    print()\n",
    "    \n",
    "    print('*'*60)\n",
    "    print()\n",
    "    \n",
    "    print('Test set report:\\n')\n",
    "    print(classification_report(y_test, y_test_pred))\n",
    "    print('_'*60)\n",
    "    print('\\n\\n')\n",
    "    \n",
    "    print(f\"Train F1 score: {round(f1_score(y_train, y_train_pred),3)}\")\n",
    "    print(f\"Test F1 score: {round(f1_score(y_test, y_test_pred),3)}\\n\")\n",
    "    \n",
    "    print(f\"Train Accuracy: {round(accuracy_score(y_train, y_train_pred),3)}\")\n",
    "    print(f\"Test Accuracy: {round(accuracy_score(y_test, y_test_pred),3)}\\n\")\n",
    "    \n",
    "    print('_'*60)\n",
    "    print()\n",
    "    \n",
    "    \n",
    "    # Plotting the heatmap of the confusion matrix for TEST data \n",
    "    # Reference: # https://stackoverflow.com/questions/19233771/sklearn-plot-confusion-matrix-with-labels\n",
    "    \n",
    "    ax= plt.subplot()\n",
    "    sns.heatmap(confusion_matrix(y_test, y_test_pred), annot=True, cmap='BuGn', ax = ax, fmt='d'); #annot=True to annotate cells\n",
    "\n",
    "    # labels, title and ticks\n",
    "    ax.set_xlabel('Predicted labels');ax.set_ylabel('True labels'); \n",
    "    ax.set_title('Confusion Matrix'); \n",
    "    ax.xaxis.set_ticklabels(['Not Fake', 'Fake']); ax.yaxis.set_ticklabels(['Not Fake', 'Fake']);\n",
    "    plt.show()"
   ]
  },
  {
   "cell_type": "markdown",
   "metadata": {},
   "source": [
    "## TFIDF with Unigrams\n",
    "\n",
    "Since we're using TFIDF the dimensionality of data is high. Two Machine Learning models that are known to perform well with high dimensional data are Naive Bayes classifier and Logistic Regression. <br>\n",
    "We'll specifically be using Multinomial Naive Bayes as it is known to work really well with text data (sparse datasets)."
   ]
  },
  {
   "cell_type": "code",
   "execution_count": 9,
   "metadata": {},
   "outputs": [],
   "source": [
    "# Loading in the data\n",
    "\n",
    "train_tfidf_unigram = sp.sparse.load_npz('featurizations/tfidf_features2.npz')\n",
    "test_tfidf_unigram = sp.sparse.load_npz('featurizations/test_tfidf_features2.npz')"
   ]
  },
  {
   "cell_type": "code",
   "execution_count": 10,
   "metadata": {},
   "outputs": [
    {
     "name": "stdout",
     "output_type": "stream",
     "text": [
      "Shape of train data with unigrams: (54744, 3159)\n",
      "Shape of test data with unigrams: (13686, 3159)\n"
     ]
    }
   ],
   "source": [
    "# Checking the shape\n",
    "\n",
    "print(f\"Shape of train data with unigrams: {train_tfidf_unigram.shape}\")\n",
    "print(f\"Shape of test data with unigrams: {test_tfidf_unigram.shape}\")"
   ]
  },
  {
   "cell_type": "markdown",
   "metadata": {},
   "source": [
    "* With unigrams and TFIDF, there are about 3159 features that were extracted from the titles and articles totally"
   ]
  },
  {
   "cell_type": "markdown",
   "metadata": {},
   "source": [
    "#### Multinomial Naive Bayes"
   ]
  },
  {
   "cell_type": "code",
   "execution_count": 65,
   "metadata": {},
   "outputs": [],
   "source": [
    "clf_nb = MultinomialNB()"
   ]
  },
  {
   "cell_type": "code",
   "execution_count": 66,
   "metadata": {},
   "outputs": [
    {
     "name": "stdout",
     "output_type": "stream",
     "text": [
      "____________________________________________________________\n",
      "\n",
      "Train set report:\n",
      "\n",
      "              precision    recall  f1-score   support\n",
      "\n",
      "           0       0.90      0.90      0.90     26936\n",
      "           1       0.90      0.90      0.90     27808\n",
      "\n",
      "    accuracy                           0.90     54744\n",
      "   macro avg       0.90      0.90      0.90     54744\n",
      "weighted avg       0.90      0.90      0.90     54744\n",
      "\n",
      "\n",
      "************************************************************\n",
      "\n",
      "Test set report:\n",
      "\n",
      "              precision    recall  f1-score   support\n",
      "\n",
      "           0       0.90      0.90      0.90      6734\n",
      "           1       0.90      0.90      0.90      6952\n",
      "\n",
      "    accuracy                           0.90     13686\n",
      "   macro avg       0.90      0.90      0.90     13686\n",
      "weighted avg       0.90      0.90      0.90     13686\n",
      "\n",
      "____________________________________________________________\n",
      "\n",
      "\n",
      "\n",
      "Train F1 score: 0.901\n",
      "Test F1 score: 0.9\n",
      "\n",
      "Train Accuracy: 0.9\n",
      "Test Accuracy: 0.898\n",
      "\n",
      "____________________________________________________________\n",
      "\n"
     ]
    },
    {
     "data": {
      "image/png": "[encoded data removed]",
      "text/plain": [
       "<Figure size 432x288 with 2 Axes>"
      ]
     },
     "metadata": {
      "needs_background": "light"
     },
     "output_type": "display_data"
    }
   ],
   "source": [
    "train_model(clf_nb, train_tfidf_unigram, y_train, test_tfidf_unigram, y_test)"
   ]
  },
  {
   "cell_type": "markdown",
   "metadata": {},
   "source": [
    "#### Logistic Regression"
   ]
  },
  {
   "cell_type": "code",
   "execution_count": 59,
   "metadata": {},
   "outputs": [],
   "source": [
    "clf_lr = LogisticRegression()"
   ]
  },
  {
   "cell_type": "code",
   "execution_count": 60,
   "metadata": {},
   "outputs": [
    {
     "name": "stdout",
     "output_type": "stream",
     "text": [
      "____________________________________________________________\n",
      "\n",
      "Train set report:\n",
      "\n",
      "              precision    recall  f1-score   support\n",
      "\n",
      "           0       0.98      0.97      0.97     26936\n",
      "           1       0.97      0.98      0.97     27808\n",
      "\n",
      "    accuracy                           0.97     54744\n",
      "   macro avg       0.97      0.97      0.97     54744\n",
      "weighted avg       0.97      0.97      0.97     54744\n",
      "\n",
      "\n",
      "************************************************************\n",
      "\n",
      "Test set report:\n",
      "\n",
      "              precision    recall  f1-score   support\n",
      "\n",
      "           0       0.97      0.96      0.97      6734\n",
      "           1       0.96      0.97      0.97      6952\n",
      "\n",
      "    accuracy                           0.97     13686\n",
      "   macro avg       0.97      0.97      0.97     13686\n",
      "weighted avg       0.97      0.97      0.97     13686\n",
      "\n",
      "____________________________________________________________\n",
      "\n",
      "\n",
      "\n",
      "Train F1 score: 0.972\n",
      "Test F1 score: 0.968\n",
      "\n",
      "Train Accuracy: 0.972\n",
      "Test Accuracy: 0.967\n",
      "\n",
      "____________________________________________________________\n",
      "\n"
     ]
    },
    {
     "data": {
      "image/png": "[encoded data removed]",
      "text/plain": [
       "<Figure size 432x288 with 2 Axes>"
      ]
     },
     "metadata": {
      "needs_background": "light"
     },
     "output_type": "display_data"
    }
   ],
   "source": [
    "train_model(clf_lr, train_tfidf_unigram, y_train, test_tfidf_unigram, y_test)"
   ]
  },
  {
   "cell_type": "markdown",
   "metadata": {},
   "source": [
    "#### Conclusion and Takeaways:\n",
    "* Logistic Regression outperforms the Multinomial Naive Bayes model by a huge margin.\n",
    "* With Naive Bayes we are getting a test accuracy of about 89.8% and a test F1 score of 0.9\n",
    "* With Logistic Regression we are getting a test accuracy of about 96.7% and a test F1 score of 0.968\n",
    "* There is no overfitting at all for both the models"
   ]
  },
  {
   "cell_type": "markdown",
   "metadata": {},
   "source": [
    "## TFIDF with Bigrams\n",
    "The models are doing pretty well already with Unigrams. The idea of using Bigrams comes from the fact that words like 'Donald Trump' and 'Hilary Clinton' occur a lot. But with unigrams we aren't able to capture that semantic information.<br>\n",
    "Also, by using bi-grams, the number of dimensions increase dramatically to over 46k. Compared to unigrams, where we had just a little over 3k features, bigrams have 12x more features."
   ]
  },
  {
   "cell_type": "code",
   "execution_count": 4,
   "metadata": {},
   "outputs": [],
   "source": [
    "# Loading the data\n",
    "\n",
    "train_tfidf_bigram = sp.sparse.load_npz('featurizations/tfidf_features.npz')\n",
    "test_tfidf_bigram = sp.sparse.load_npz('featurizations/test_tfidf_features.npz')"
   ]
  },
  {
   "cell_type": "markdown",
   "metadata": {},
   "source": [
    "#### Multinomial Naive Bayes"
   ]
  },
  {
   "cell_type": "code",
   "execution_count": 68,
   "metadata": {},
   "outputs": [],
   "source": [
    "clf_nb = MultinomialNB()"
   ]
  },
  {
   "cell_type": "code",
   "execution_count": 69,
   "metadata": {},
   "outputs": [
    {
     "name": "stdout",
     "output_type": "stream",
     "text": [
      "____________________________________________________________\n",
      "\n",
      "Train set report:\n",
      "\n",
      "              precision    recall  f1-score   support\n",
      "\n",
      "           0       0.93      0.92      0.93     26936\n",
      "           1       0.92      0.93      0.93     27808\n",
      "\n",
      "    accuracy                           0.93     54744\n",
      "   macro avg       0.93      0.93      0.93     54744\n",
      "weighted avg       0.93      0.93      0.93     54744\n",
      "\n",
      "\n",
      "************************************************************\n",
      "\n",
      "Test set report:\n",
      "\n",
      "              precision    recall  f1-score   support\n",
      "\n",
      "           0       0.92      0.92      0.92      6734\n",
      "           1       0.92      0.93      0.92      6952\n",
      "\n",
      "    accuracy                           0.92     13686\n",
      "   macro avg       0.92      0.92      0.92     13686\n",
      "weighted avg       0.92      0.92      0.92     13686\n",
      "\n",
      "____________________________________________________________\n",
      "\n",
      "\n",
      "\n",
      "Train F1 score: 0.929\n",
      "Test F1 score: 0.922\n",
      "\n",
      "Train Accuracy: 0.928\n",
      "Test Accuracy: 0.921\n",
      "\n",
      "____________________________________________________________\n",
      "\n"
     ]
    },
    {
     "data": {
      "image/png": "[encoded data removed]",
      "text/plain": [
       "<Figure size 432x288 with 2 Axes>"
      ]
     },
     "metadata": {
      "needs_background": "light"
     },
     "output_type": "display_data"
    }
   ],
   "source": [
    "train_model(clf_nb, train_tfidf_bigram, y_train, test_tfidf_bigram, y_test)"
   ]
  },
  {
   "cell_type": "markdown",
   "metadata": {},
   "source": [
    "#### Logistic Regression"
   ]
  },
  {
   "cell_type": "code",
   "execution_count": 72,
   "metadata": {},
   "outputs": [],
   "source": [
    "clf_lr = LogisticRegression()"
   ]
  },
  {
   "cell_type": "code",
   "execution_count": 73,
   "metadata": {},
   "outputs": [
    {
     "name": "stdout",
     "output_type": "stream",
     "text": [
      "____________________________________________________________\n",
      "\n",
      "Train set report:\n",
      "\n",
      "              precision    recall  f1-score   support\n",
      "\n",
      "           0       0.99      0.99      0.99     26936\n",
      "           1       0.99      0.99      0.99     27808\n",
      "\n",
      "    accuracy                           0.99     54744\n",
      "   macro avg       0.99      0.99      0.99     54744\n",
      "weighted avg       0.99      0.99      0.99     54744\n",
      "\n",
      "\n",
      "************************************************************\n",
      "\n",
      "Test set report:\n",
      "\n",
      "              precision    recall  f1-score   support\n",
      "\n",
      "           0       0.98      0.97      0.98      6734\n",
      "           1       0.97      0.98      0.98      6952\n",
      "\n",
      "    accuracy                           0.98     13686\n",
      "   macro avg       0.98      0.98      0.98     13686\n",
      "weighted avg       0.98      0.98      0.98     13686\n",
      "\n",
      "____________________________________________________________\n",
      "\n",
      "\n",
      "\n",
      "Train F1 score: 0.989\n",
      "Test F1 score: 0.979\n",
      "\n",
      "Train Accuracy: 0.989\n",
      "Test Accuracy: 0.979\n",
      "\n",
      "____________________________________________________________\n",
      "\n"
     ]
    },
    {
     "data": {
      "image/png": "[encoded data removed]",
      "text/plain": [
       "<Figure size 432x288 with 2 Axes>"
      ]
     },
     "metadata": {
      "needs_background": "light"
     },
     "output_type": "display_data"
    }
   ],
   "source": [
    "train_model(clf_lr, train_tfidf_bigram, y_train, test_tfidf_bigram, y_test)"
   ]
  },
  {
   "cell_type": "markdown",
   "metadata": {},
   "source": [
    "#### Conclusion and Takeaways:\n",
    "* Here too, Logistic Regression outperforms the Multinomial Naive Bayes model by a huge margin\n",
    "* Its clear that the model are certainly performing better with bigrams\n",
    "* With naive bayes we are getting a test accuracy of 92.1% and a test F1 score of 0.922\n",
    "* With Logistic Regression we are getting a test accuracy of 97.9% (98% approx) and a test F1 score of 0.979\n",
    "* Test accuracy for logistic regression with Unigrams was 96.7% and with Bigrams it is 97.9%\n",
    "* While the jump in accuracy is not significant, it is enough as the model with unigrams was already performing really good.<br> Since there aren't any latency constraints, its okay to use Bigrams with 46k dimensions"
   ]
  },
  {
   "cell_type": "markdown",
   "metadata": {},
   "source": [
    "<h1> Pre-trained Google-news-Word2Vec on Title"
   ]
  },
  {
   "cell_type": "markdown",
   "metadata": {},
   "source": [
    "With respect to Word2Vec, there are two approaches that can be taken. <br>\n",
    "* Pre-trained Word2Vec on a big corpus\n",
    "* Avg-Word2Vec trained on our corpus <br>\n",
    "\n",
    "The pre-trained model that we've used here is the *Gensim Word2Vec model trained on Google News Data* <br>\n",
    "We use this to calculate avg-word2Vec features(300 dimentions) on our corpus.\n",
    "This is only done on the title, article and finally a combination of both to get a sense of how important and useful these features can be\n",
    "<br>\n",
    "We have tried some Machine Learning Models on these features and tried to compare it with the results we got using other features"
   ]
  },
  {
   "cell_type": "code",
   "execution_count": 16,
   "metadata": {},
   "outputs": [],
   "source": [
    "# Loading in the data\n",
    "\n",
    "train_googlew2v = sp.sparse.load_npz('D:/MajorProject_Code/Data/title_w2vgoogle.npz')\n",
    "test_googlew2v = sp.sparse.load_npz('D:/MajorProject_Code/Data/test_title_w2vgoogle.npz')"
   ]
  },
  {
   "cell_type": "code",
   "execution_count": 18,
   "metadata": {},
   "outputs": [
    {
     "name": "stdout",
     "output_type": "stream",
     "text": [
      "Shape of train title data with Pre-trained Word2Vec Features: (54744, 300)\n",
      "Shape of test title data with Pre-trained Word2Vec Features: (13686, 300)\n"
     ]
    }
   ],
   "source": [
    "# Checking the shape\n",
    "\n",
    "print(f\"Shape of train title data with Pre-trained Word2Vec Features: {train_googlew2v.shape}\")\n",
    "print(f\"Shape of test title data with Pre-trained Word2Vec Features: {test_googlew2v.shape}\")"
   ]
  },
  {
   "cell_type": "markdown",
   "metadata": {},
   "source": [
    "* When we use pre-trained Word2vec features, we end up with 300 dimensions, which is a lot lesser than that of Tf-idf. "
   ]
  },
  {
   "cell_type": "markdown",
   "metadata": {},
   "source": [
    "<h4> Gaussian Naive Bayes"
   ]
  },
  {
   "cell_type": "markdown",
   "metadata": {},
   "source": [
    "* *Gaussian Naive Bayes* is used instead of multinomial to tackle the negative feature values as a result of word2vec "
   ]
  },
  {
   "cell_type": "code",
   "execution_count": 25,
   "metadata": {},
   "outputs": [],
   "source": [
    "clf_nb2 = GaussianNB()"
   ]
  },
  {
   "cell_type": "code",
   "execution_count": 29,
   "metadata": {},
   "outputs": [
    {
     "name": "stdout",
     "output_type": "stream",
     "text": [
      "____________________________________________________________\n",
      "\n",
      "Train set report:\n",
      "\n",
      "              precision    recall  f1-score   support\n",
      "\n",
      "           0       0.79      0.81      0.80     26936\n",
      "           1       0.81      0.79      0.80     27808\n",
      "\n",
      "    accuracy                           0.80     54744\n",
      "   macro avg       0.80      0.80      0.80     54744\n",
      "weighted avg       0.80      0.80      0.80     54744\n",
      "\n",
      "\n",
      "************************************************************\n",
      "\n",
      "Test set report:\n",
      "\n",
      "              precision    recall  f1-score   support\n",
      "\n",
      "           0       0.79      0.82      0.80      6734\n",
      "           1       0.82      0.79      0.80      6952\n",
      "\n",
      "    accuracy                           0.80     13686\n",
      "   macro avg       0.80      0.80      0.80     13686\n",
      "weighted avg       0.80      0.80      0.80     13686\n",
      "\n",
      "____________________________________________________________\n",
      "\n",
      "\n",
      "\n",
      "Train F1 score: 0.804\n",
      "Test F1 score: 0.802\n",
      "\n",
      "Train Accuracy: 0.803\n",
      "Test Accuracy: 0.802\n",
      "\n",
      "____________________________________________________________\n",
      "\n"
     ]
    },
    {
     "data": {
      "image/png": "[encoded data removed]",
      "text/plain": [
       "<Figure size 432x288 with 2 Axes>"
      ]
     },
     "metadata": {
      "needs_background": "light"
     },
     "output_type": "display_data"
    },
    {
     "name": "stdout",
     "output_type": "stream",
     "text": [
      "Wall time: 725 ms\n"
     ]
    }
   ],
   "source": [
    "%%time\n",
    "\n",
    "train_model(clf_nb2, train_googlew2v.toarray(), y_train, test_googlew2v.toarray(), y_test)"
   ]
  },
  {
   "cell_type": "markdown",
   "metadata": {},
   "source": [
    "<h4> Logistic Regression"
   ]
  },
  {
   "cell_type": "code",
   "execution_count": 27,
   "metadata": {},
   "outputs": [],
   "source": [
    "clf_lr2 = LogisticRegression()"
   ]
  },
  {
   "cell_type": "code",
   "execution_count": 28,
   "metadata": {},
   "outputs": [
    {
     "name": "stdout",
     "output_type": "stream",
     "text": [
      "____________________________________________________________\n",
      "\n",
      "Train set report:\n",
      "\n",
      "              precision    recall  f1-score   support\n",
      "\n",
      "           0       0.84      0.83      0.84     26936\n",
      "           1       0.84      0.85      0.85     27808\n",
      "\n",
      "    accuracy                           0.84     54744\n",
      "   macro avg       0.84      0.84      0.84     54744\n",
      "weighted avg       0.84      0.84      0.84     54744\n",
      "\n",
      "\n",
      "************************************************************\n",
      "\n",
      "Test set report:\n",
      "\n",
      "              precision    recall  f1-score   support\n",
      "\n",
      "           0       0.85      0.84      0.84      6734\n",
      "           1       0.85      0.85      0.85      6952\n",
      "\n",
      "    accuracy                           0.85     13686\n",
      "   macro avg       0.85      0.85      0.85     13686\n",
      "weighted avg       0.85      0.85      0.85     13686\n",
      "\n",
      "____________________________________________________________\n",
      "\n",
      "\n",
      "\n",
      "Train F1 score: 0.846\n",
      "Test F1 score: 0.849\n",
      "\n",
      "Train Accuracy: 0.842\n",
      "Test Accuracy: 0.846\n",
      "\n",
      "____________________________________________________________\n",
      "\n"
     ]
    },
    {
     "data": {
      "image/png": "[encoded data removed]",
      "text/plain": [
       "<Figure size 432x288 with 2 Axes>"
      ]
     },
     "metadata": {
      "needs_background": "light"
     },
     "output_type": "display_data"
    },
    {
     "name": "stdout",
     "output_type": "stream",
     "text": [
      "Wall time: 2.72 s\n"
     ]
    }
   ],
   "source": [
    "%%time\n",
    "\n",
    "train_model(clf_lr2, train_googlew2v, y_train, test_googlew2v, y_test)"
   ]
  },
  {
   "cell_type": "markdown",
   "metadata": {},
   "source": [
    "<h4> Random Forest"
   ]
  },
  {
   "cell_type": "code",
   "execution_count": 32,
   "metadata": {},
   "outputs": [],
   "source": [
    "clf_rf = RandomForestClassifier()"
   ]
  },
  {
   "cell_type": "code",
   "execution_count": 33,
   "metadata": {},
   "outputs": [
    {
     "name": "stdout",
     "output_type": "stream",
     "text": [
      "____________________________________________________________\n",
      "\n",
      "Train set report:\n",
      "\n",
      "              precision    recall  f1-score   support\n",
      "\n",
      "           0       1.00      1.00      1.00     26936\n",
      "           1       1.00      1.00      1.00     27808\n",
      "\n",
      "    accuracy                           1.00     54744\n",
      "   macro avg       1.00      1.00      1.00     54744\n",
      "weighted avg       1.00      1.00      1.00     54744\n",
      "\n",
      "\n",
      "************************************************************\n",
      "\n",
      "Test set report:\n",
      "\n",
      "              precision    recall  f1-score   support\n",
      "\n",
      "           0       0.84      0.87      0.85      6734\n",
      "           1       0.87      0.84      0.85      6952\n",
      "\n",
      "    accuracy                           0.85     13686\n",
      "   macro avg       0.85      0.85      0.85     13686\n",
      "weighted avg       0.86      0.85      0.85     13686\n",
      "\n",
      "____________________________________________________________\n",
      "\n",
      "\n",
      "\n",
      "Train F1 score: 1.0\n",
      "Test F1 score: 0.854\n",
      "\n",
      "Train Accuracy: 1.0\n",
      "Test Accuracy: 0.855\n",
      "\n",
      "____________________________________________________________\n",
      "\n"
     ]
    },
    {
     "data": {
      "image/png": "[encoded data removed]",
      "text/plain": [
       "<Figure size 432x288 with 2 Axes>"
      ]
     },
     "metadata": {
      "needs_background": "light"
     },
     "output_type": "display_data"
    },
    {
     "name": "stdout",
     "output_type": "stream",
     "text": [
      "Wall time: 7min 23s\n"
     ]
    }
   ],
   "source": [
    "%%time\n",
    "\n",
    "train_model(clf_rf, train_googlew2v, y_train, test_googlew2v, y_test)"
   ]
  },
  {
   "cell_type": "markdown",
   "metadata": {},
   "source": [
    "#### Conclusion and Takeaways:\n",
    "* Logistic Regression performs better than the Guassian Naive Bayes\n",
    "* With Naive Bayes we are getting a test accuracy of about 80% and a test F1 score of 0.802\n",
    "* With Logistic Regression we are getting a test accuracy of about 84% and a test F1 score of 0.849\n",
    "* With the Random Forest Model, we do see some overfitting and also proves a point that Random Forest doesn't work well with high dimensional data"
   ]
  },
  {
   "cell_type": "markdown",
   "metadata": {},
   "source": [
    "<h1> Pre-trained Google-news-Word2Vec on Article body"
   ]
  },
  {
   "cell_type": "markdown",
   "metadata": {},
   "source": [
    "* Just like the models were trained on the *Pretrained-Word2Vec-Title* feature. We try the same on the *Pretrained-Word2Vec-Body* feature in this segment\n",
    "* These Body features should do better than the title as they contain way more information than the title and are 10times bigger than the title on average"
   ]
  },
  {
   "cell_type": "code",
   "execution_count": 6,
   "metadata": {},
   "outputs": [],
   "source": [
    "# Loading in the data\n",
    "\n",
    "train_body_googlew2v = sp.sparse.load_npz('D:/MajorProject_Code/Data/body_w2vgoogle.npz')\n",
    "test_body_googlew2v = sp.sparse.load_npz('D:/MajorProject_Code/Data/test_body_w2vgoogle.npz')"
   ]
  },
  {
   "cell_type": "code",
   "execution_count": 7,
   "metadata": {},
   "outputs": [
    {
     "name": "stdout",
     "output_type": "stream",
     "text": [
      "Shape of train title data with Pre-trained Word2Vec Features: (54744, 300)\n",
      "Shape of test title data with Pre-trained Word2Vec Features: (13686, 300)\n"
     ]
    }
   ],
   "source": [
    "# Checking the shape\n",
    "\n",
    "print(f\"Shape of train title data with Pre-trained Word2Vec Features: {train_body_googlew2v.shape}\")\n",
    "print(f\"Shape of test title data with Pre-trained Word2Vec Features: {test_body_googlew2v.shape}\")"
   ]
  },
  {
   "cell_type": "markdown",
   "metadata": {},
   "source": [
    "<h4> Gaussian Naive Bayes"
   ]
  },
  {
   "cell_type": "code",
   "execution_count": 8,
   "metadata": {},
   "outputs": [
    {
     "name": "stdout",
     "output_type": "stream",
     "text": [
      "____________________________________________________________\n",
      "\n",
      "Train set report:\n",
      "\n",
      "              precision    recall  f1-score   support\n",
      "\n",
      "           0       0.70      0.82      0.76     26936\n",
      "           1       0.79      0.66      0.72     27808\n",
      "\n",
      "    accuracy                           0.74     54744\n",
      "   macro avg       0.75      0.74      0.74     54744\n",
      "weighted avg       0.75      0.74      0.74     54744\n",
      "\n",
      "\n",
      "************************************************************\n",
      "\n",
      "Test set report:\n",
      "\n",
      "              precision    recall  f1-score   support\n",
      "\n",
      "           0       0.70      0.82      0.76      6734\n",
      "           1       0.79      0.66      0.72      6952\n",
      "\n",
      "    accuracy                           0.74     13686\n",
      "   macro avg       0.75      0.74      0.74     13686\n",
      "weighted avg       0.75      0.74      0.74     13686\n",
      "\n",
      "____________________________________________________________\n",
      "\n",
      "\n",
      "\n",
      "Train F1 score: 0.722\n",
      "Test F1 score: 0.721\n",
      "\n",
      "Train Accuracy: 0.741\n",
      "Test Accuracy: 0.74\n",
      "\n",
      "____________________________________________________________\n",
      "\n"
     ]
    },
    {
     "data": {
      "image/png": "[encoded data removed]",
      "text/plain": [
       "<Figure size 432x288 with 2 Axes>"
      ]
     },
     "metadata": {
      "needs_background": "light"
     },
     "output_type": "display_data"
    },
    {
     "name": "stdout",
     "output_type": "stream",
     "text": [
      "Wall time: 820 ms\n"
     ]
    }
   ],
   "source": [
    "%%time\n",
    "\n",
    "clf_nb = GaussianNB()\n",
    "train_model(clf_nb, train_body_googlew2v.toarray(), y_train, test_body_googlew2v.toarray(), y_test)"
   ]
  },
  {
   "cell_type": "markdown",
   "metadata": {},
   "source": [
    "<h4> Logistic Regression"
   ]
  },
  {
   "cell_type": "code",
   "execution_count": 11,
   "metadata": {},
   "outputs": [
    {
     "name": "stdout",
     "output_type": "stream",
     "text": [
      "____________________________________________________________\n",
      "\n",
      "Train set report:\n",
      "\n",
      "              precision    recall  f1-score   support\n",
      "\n",
      "           0       0.88      0.88      0.88     26936\n",
      "           1       0.88      0.89      0.89     27808\n",
      "\n",
      "    accuracy                           0.88     54744\n",
      "   macro avg       0.88      0.88      0.88     54744\n",
      "weighted avg       0.88      0.88      0.88     54744\n",
      "\n",
      "\n",
      "************************************************************\n",
      "\n",
      "Test set report:\n",
      "\n",
      "              precision    recall  f1-score   support\n",
      "\n",
      "           0       0.89      0.88      0.88      6734\n",
      "           1       0.88      0.89      0.89      6952\n",
      "\n",
      "    accuracy                           0.88     13686\n",
      "   macro avg       0.88      0.88      0.88     13686\n",
      "weighted avg       0.88      0.88      0.88     13686\n",
      "\n",
      "____________________________________________________________\n",
      "\n",
      "\n",
      "\n",
      "Train F1 score: 0.885\n",
      "Test F1 score: 0.887\n",
      "\n",
      "Train Accuracy: 0.883\n",
      "Test Accuracy: 0.885\n",
      "\n",
      "____________________________________________________________\n",
      "\n"
     ]
    },
    {
     "data": {
      "image/png": "[encoded data removed]",
      "text/plain": [
       "<Figure size 432x288 with 2 Axes>"
      ]
     },
     "metadata": {
      "needs_background": "light"
     },
     "output_type": "display_data"
    },
    {
     "name": "stdout",
     "output_type": "stream",
     "text": [
      "Wall time: 3.98 s\n"
     ]
    }
   ],
   "source": [
    "%%time\n",
    "\n",
    "clf_lr = LogisticRegression(max_iter = 1000)\n",
    "train_model(clf_lr, train_body_googlew2v, y_train, test_body_googlew2v, y_test)"
   ]
  },
  {
   "cell_type": "markdown",
   "metadata": {},
   "source": [
    "#### Conclusion and Takeaways:\n",
    "* With naive bayes on the article body, we see that there is a dip in performance as comapared to naive bayes on the titles\n",
    "* Logistic Regression's accuracy when we use article body goes up to 88.5% from previous accuracy of 85.5%"
   ]
  },
  {
   "cell_type": "markdown",
   "metadata": {},
   "source": [
    "<h1> Pre-trained Google-news-Word2Vec on Title and body combined"
   ]
  },
  {
   "cell_type": "code",
   "execution_count": 4,
   "metadata": {},
   "outputs": [],
   "source": [
    "# Loading in the data\n",
    "\n",
    "train_w2vgoogle = sp.sparse.load_npz('featurizations/w2vgoogle.npz')\n",
    "test_w2vgoogle = sp.sparse.load_npz('featurizations/test_w2vgoogle.npz')"
   ]
  },
  {
   "cell_type": "code",
   "execution_count": 12,
   "metadata": {},
   "outputs": [
    {
     "name": "stdout",
     "output_type": "stream",
     "text": [
      "Shape of train title data with Pre-trained Word2Vec Features: (54744, 600)\n",
      "Shape of test title data with Pre-trained Word2Vec Features: (13686, 600)\n"
     ]
    }
   ],
   "source": [
    "# Checking the shape\n",
    "\n",
    "print(f\"Shape of train title data with Pre-trained Word2Vec Features: {train_w2vgoogle.shape}\")\n",
    "print(f\"Shape of test title data with Pre-trained Word2Vec Features: {test_w2vgoogle.shape}\")"
   ]
  },
  {
   "cell_type": "markdown",
   "metadata": {},
   "source": [
    "<h4> Gaussian Naive Bayes"
   ]
  },
  {
   "cell_type": "code",
   "execution_count": 9,
   "metadata": {},
   "outputs": [
    {
     "name": "stdout",
     "output_type": "stream",
     "text": [
      "____________________________________________________________\n",
      "\n",
      "Train set report:\n",
      "\n",
      "              precision    recall  f1-score   support\n",
      "\n",
      "           0       0.75      0.84      0.79     26936\n",
      "           1       0.83      0.72      0.77     27808\n",
      "\n",
      "    accuracy                           0.78     54744\n",
      "   macro avg       0.79      0.78      0.78     54744\n",
      "weighted avg       0.79      0.78      0.78     54744\n",
      "\n",
      "\n",
      "************************************************************\n",
      "\n",
      "Test set report:\n",
      "\n",
      "              precision    recall  f1-score   support\n",
      "\n",
      "           0       0.74      0.84      0.79      6734\n",
      "           1       0.82      0.72      0.77      6952\n",
      "\n",
      "    accuracy                           0.78     13686\n",
      "   macro avg       0.78      0.78      0.78     13686\n",
      "weighted avg       0.78      0.78      0.78     13686\n",
      "\n",
      "____________________________________________________________\n",
      "\n",
      "\n",
      "\n",
      "Train F1 score: 0.772\n",
      "Test F1 score: 0.767\n",
      "\n",
      "Train Accuracy: 0.782\n",
      "Test Accuracy: 0.779\n",
      "\n",
      "____________________________________________________________\n",
      "\n"
     ]
    },
    {
     "data": {
      "image/png": "[encoded data removed]",
      "text/plain": [
       "<Figure size 432x288 with 2 Axes>"
      ]
     },
     "metadata": {
      "needs_background": "light"
     },
     "output_type": "display_data"
    },
    {
     "name": "stdout",
     "output_type": "stream",
     "text": [
      "Wall time: 1.41 s\n"
     ]
    }
   ],
   "source": [
    "%%time\n",
    "\n",
    "clf_nb = GaussianNB()\n",
    "train_model(clf_nb, train_w2vgoogle.toarray(), y_train, test_w2vgoogle.toarray(), y_test)"
   ]
  },
  {
   "cell_type": "markdown",
   "metadata": {},
   "source": [
    "<h4> Logistic Regression"
   ]
  },
  {
   "cell_type": "code",
   "execution_count": 10,
   "metadata": {},
   "outputs": [
    {
     "name": "stdout",
     "output_type": "stream",
     "text": [
      "____________________________________________________________\n",
      "\n",
      "Train set report:\n",
      "\n",
      "              precision    recall  f1-score   support\n",
      "\n",
      "           0       0.92      0.90      0.91     26936\n",
      "           1       0.91      0.92      0.91     27808\n",
      "\n",
      "    accuracy                           0.91     54744\n",
      "   macro avg       0.91      0.91      0.91     54744\n",
      "weighted avg       0.91      0.91      0.91     54744\n",
      "\n",
      "\n",
      "************************************************************\n",
      "\n",
      "Test set report:\n",
      "\n",
      "              precision    recall  f1-score   support\n",
      "\n",
      "           0       0.92      0.90      0.91      6734\n",
      "           1       0.91      0.92      0.91      6952\n",
      "\n",
      "    accuracy                           0.91     13686\n",
      "   macro avg       0.91      0.91      0.91     13686\n",
      "weighted avg       0.91      0.91      0.91     13686\n",
      "\n",
      "____________________________________________________________\n",
      "\n",
      "\n",
      "\n",
      "Train F1 score: 0.915\n",
      "Test F1 score: 0.915\n",
      "\n",
      "Train Accuracy: 0.912\n",
      "Test Accuracy: 0.913\n",
      "\n",
      "____________________________________________________________\n",
      "\n"
     ]
    },
    {
     "data": {
      "image/png": "[encoded data removed]",
      "text/plain": [
       "<Figure size 432x288 with 2 Axes>"
      ]
     },
     "metadata": {
      "needs_background": "light"
     },
     "output_type": "display_data"
    },
    {
     "name": "stdout",
     "output_type": "stream",
     "text": [
      "Wall time: 10.2 s\n"
     ]
    }
   ],
   "source": [
    "%%time\n",
    "\n",
    "clf_lr = LogisticRegression(max_iter = 1000)\n",
    "train_model(clf_lr, train_w2vgoogle, y_train, test_w2vgoogle, y_test)"
   ]
  },
  {
   "cell_type": "markdown",
   "metadata": {},
   "source": [
    "<h4> XGBoost Classifier"
   ]
  },
  {
   "cell_type": "code",
   "execution_count": 13,
   "metadata": {},
   "outputs": [
    {
     "name": "stdout",
     "output_type": "stream",
     "text": [
      "[15:40:16] WARNING: C:/Users/Administrator/workspace/xgboost-win64_release_1.3.0/src/learner.cc:1061: Starting in XGBoost 1.3.0, the default evaluation metric used with the objective 'binary:logistic' was changed from 'error' to 'logloss'. Explicitly set eval_metric if you'd like to restore the old behavior.\n",
      "____________________________________________________________\n",
      "\n",
      "Train set report:\n",
      "\n",
      "              precision    recall  f1-score   support\n",
      "\n",
      "           0       1.00      1.00      1.00     26936\n",
      "           1       1.00      1.00      1.00     27808\n",
      "\n",
      "    accuracy                           1.00     54744\n",
      "   macro avg       1.00      1.00      1.00     54744\n",
      "weighted avg       1.00      1.00      1.00     54744\n",
      "\n",
      "\n",
      "************************************************************\n",
      "\n",
      "Test set report:\n",
      "\n",
      "              precision    recall  f1-score   support\n",
      "\n",
      "           0       0.94      0.92      0.93      6734\n",
      "           1       0.92      0.94      0.93      6952\n",
      "\n",
      "    accuracy                           0.93     13686\n",
      "   macro avg       0.93      0.93      0.93     13686\n",
      "weighted avg       0.93      0.93      0.93     13686\n",
      "\n",
      "____________________________________________________________\n",
      "\n",
      "\n",
      "\n",
      "Train F1 score: 0.997\n",
      "Test F1 score: 0.932\n",
      "\n",
      "Train Accuracy: 0.997\n",
      "Test Accuracy: 0.931\n",
      "\n",
      "____________________________________________________________\n",
      "\n"
     ]
    },
    {
     "data": {
      "image/png": "[encoded data removed]",
      "text/plain": [
       "<Figure size 432x288 with 2 Axes>"
      ]
     },
     "metadata": {
      "needs_background": "light"
     },
     "output_type": "display_data"
    },
    {
     "name": "stdout",
     "output_type": "stream",
     "text": [
      "Wall time: 2min 11s\n"
     ]
    }
   ],
   "source": [
    "%%time\n",
    "\n",
    "clf_xgb = XGBClassifier(n_jobs=-1)\n",
    "train_model(clf_xgb, train_w2vgoogle, y_train, test_w2vgoogle, y_test)"
   ]
  },
  {
   "cell_type": "markdown",
   "metadata": {},
   "source": [
    "#### Conclusion and Takeaways:\n",
    "* With Logistic Regression, with default hyperparameters we're able to achieve an accuracy of 91.3%\n",
    "* XGBoost achieves a test accuracy of 93.1% and train accuracy of 99.7%. Tuning the XGBoost can very well yield amazing results"
   ]
  },
  {
   "cell_type": "markdown",
   "metadata": {},
   "source": [
    "<h1> Extracted Avg-Word2Vec features from our corpus"
   ]
  },
  {
   "cell_type": "markdown",
   "metadata": {},
   "source": [
    "In the previous section, we experimented with the features extracted from a pre-trained Word2Vec model which was originally trained on Google-news Data. <br>\n",
    "Now, in this section we are going to work with Word2Vec features that we extracted from our data by training a Word2Vec model and tuning the parameters according to our needs.<br>\n",
    "The same is available in the *feature extraction* notebook.\n",
    "\n",
    "* These features are a combination of title and article body features\n",
    "* We do not work on the title and body word2Vec seperately because it doesn't have the same dimensions and information as the pre-trained google news word2Vec features had\n",
    "* This is the reason we directly combine them and use them and try to see if they add any value by training some simple Machine Learning models on them"
   ]
  },
  {
   "cell_type": "code",
   "execution_count": 36,
   "metadata": {},
   "outputs": [],
   "source": [
    "# Loading in the data\n",
    "\n",
    "train_avgw2v = sp.sparse.load_npz('D:/MajorProject_Code/Data/avg_w2v.npz')\n",
    "test_avgw2v = sp.sparse.load_npz('D:/MajorProject_Code/Data/test_avgw2v.npz')"
   ]
  },
  {
   "cell_type": "code",
   "execution_count": 37,
   "metadata": {},
   "outputs": [
    {
     "name": "stdout",
     "output_type": "stream",
     "text": [
      "Shape of train title data with Pre-trained Word2Vec Features: (54744, 200)\n",
      "Shape of test title data with Pre-trained Word2Vec Features: (13686, 200)\n"
     ]
    }
   ],
   "source": [
    "# Checking the shape\n",
    "\n",
    "print(f\"Shape of train title data with Pre-trained Word2Vec Features: {train_avgw2v.shape}\")\n",
    "print(f\"Shape of test title data with Pre-trained Word2Vec Features: {test_avgw2v.shape}\")"
   ]
  },
  {
   "cell_type": "markdown",
   "metadata": {},
   "source": [
    "* The hyper-parameter for number of dimensions was set to 100 for title and body when the Word2Vec feratures were extracted. Hence we get 200 dimentional data when we combine the w2v-features of title and body"
   ]
  },
  {
   "cell_type": "markdown",
   "metadata": {},
   "source": [
    "<h4> Logistic Regression"
   ]
  },
  {
   "cell_type": "code",
   "execution_count": 56,
   "metadata": {},
   "outputs": [],
   "source": [
    "clf_lr = LogisticRegression(max_iter = 1000)"
   ]
  },
  {
   "cell_type": "code",
   "execution_count": 57,
   "metadata": {},
   "outputs": [
    {
     "name": "stdout",
     "output_type": "stream",
     "text": [
      "____________________________________________________________\n",
      "\n",
      "Train set report:\n",
      "\n",
      "              precision    recall  f1-score   support\n",
      "\n",
      "           0       0.85      0.81      0.83     26936\n",
      "           1       0.82      0.86      0.84     27808\n",
      "\n",
      "    accuracy                           0.83     54744\n",
      "   macro avg       0.83      0.83      0.83     54744\n",
      "weighted avg       0.83      0.83      0.83     54744\n",
      "\n",
      "\n",
      "************************************************************\n",
      "\n",
      "Test set report:\n",
      "\n",
      "              precision    recall  f1-score   support\n",
      "\n",
      "           0       0.86      0.79      0.82      6734\n",
      "           1       0.81      0.87      0.84      6952\n",
      "\n",
      "    accuracy                           0.83     13686\n",
      "   macro avg       0.83      0.83      0.83     13686\n",
      "weighted avg       0.83      0.83      0.83     13686\n",
      "\n",
      "____________________________________________________________\n",
      "\n",
      "\n",
      "\n",
      "Train F1 score: 0.84\n",
      "Test F1 score: 0.841\n",
      "\n",
      "Train Accuracy: 0.834\n",
      "Test Accuracy: 0.832\n",
      "\n",
      "____________________________________________________________\n",
      "\n"
     ]
    },
    {
     "data": {
      "image/png": "[encoded data removed]",
      "text/plain": [
       "<Figure size 432x288 with 2 Axes>"
      ]
     },
     "metadata": {
      "needs_background": "light"
     },
     "output_type": "display_data"
    }
   ],
   "source": [
    "train_model(clf_lr, train_avgw2v, y_train, test_avgw2v, y_test)"
   ]
  },
  {
   "cell_type": "markdown",
   "metadata": {},
   "source": [
    "<h4> Random Forest"
   ]
  },
  {
   "cell_type": "code",
   "execution_count": 58,
   "metadata": {},
   "outputs": [],
   "source": [
    "clf_rf = RandomForestClassifier()"
   ]
  },
  {
   "cell_type": "code",
   "execution_count": 59,
   "metadata": {},
   "outputs": [
    {
     "name": "stdout",
     "output_type": "stream",
     "text": [
      "____________________________________________________________\n",
      "\n",
      "Train set report:\n",
      "\n",
      "              precision    recall  f1-score   support\n",
      "\n",
      "           0       1.00      1.00      1.00     26936\n",
      "           1       1.00      1.00      1.00     27808\n",
      "\n",
      "    accuracy                           1.00     54744\n",
      "   macro avg       1.00      1.00      1.00     54744\n",
      "weighted avg       1.00      1.00      1.00     54744\n",
      "\n",
      "\n",
      "************************************************************\n",
      "\n",
      "Test set report:\n",
      "\n",
      "              precision    recall  f1-score   support\n",
      "\n",
      "           0       0.88      0.85      0.86      6734\n",
      "           1       0.86      0.89      0.87      6952\n",
      "\n",
      "    accuracy                           0.87     13686\n",
      "   macro avg       0.87      0.87      0.87     13686\n",
      "weighted avg       0.87      0.87      0.87     13686\n",
      "\n",
      "____________________________________________________________\n",
      "\n",
      "\n",
      "\n",
      "Train F1 score: 1.0\n",
      "Test F1 score: 0.872\n",
      "\n",
      "Train Accuracy: 1.0\n",
      "Test Accuracy: 0.868\n",
      "\n",
      "____________________________________________________________\n",
      "\n"
     ]
    },
    {
     "data": {
      "image/png": "[encoded data removed]",
      "text/plain": [
       "<Figure size 432x288 with 2 Axes>"
      ]
     },
     "metadata": {
      "needs_background": "light"
     },
     "output_type": "display_data"
    }
   ],
   "source": [
    "train_model(clf_rf, train_avgw2v, y_train, test_avgw2v, y_test)"
   ]
  },
  {
   "cell_type": "markdown",
   "metadata": {},
   "source": [
    "#### Conclusion and Takeaways:\n",
    "* With Logistic Regression we are getting a test accuracy of about 83% and a test F1 score of 0.84\n",
    "* With the Random Forest Model, we do see overfitting with the train score hitting a 100% and the test giving 0.87. The overfitting can be tuned by hyper parameter tuning"
   ]
  },
  {
   "cell_type": "markdown",
   "metadata": {},
   "source": [
    "##  Hyper-Parameter Tuning for the Logistic Regression Model with Bigrams and TFIDF"
   ]
  },
  {
   "cell_type": "code",
   "execution_count": 10,
   "metadata": {},
   "outputs": [],
   "source": [
    "# Initializing the Model\n",
    "\n",
    "model = LogisticRegression()"
   ]
  },
  {
   "cell_type": "code",
   "execution_count": 11,
   "metadata": {},
   "outputs": [
    {
     "name": "stdout",
     "output_type": "stream",
     "text": [
      "Wall time: 2min 44s\n"
     ]
    },
    {
     "data": {
      "text/plain": [
       "GridSearchCV(cv=5, estimator=LogisticRegression(), n_jobs=-1,\n",
       "             param_grid={'C': [0.01, 0.1, 1.0, 10, 100],\n",
       "                         'penalty': ['l1', 'l2', 'elasticnet', 'none'],\n",
       "                         'solver': ['newton-cg', 'lbfgs', 'liblinear']},\n",
       "             scoring='f1')"
      ]
     },
     "execution_count": 11,
     "metadata": {},
     "output_type": "execute_result"
    }
   ],
   "source": [
    "%%time\n",
    "# Defining the param dictionary for Grid Search\n",
    "\n",
    "params = {'penalty': ['l1', 'l2', 'elasticnet', 'none'], \n",
    "         'C' : [0.01, 0.1, 1.0, 10, 100], \n",
    "         'solver' : ['newton-cg', 'lbfgs', 'liblinear']}\n",
    "\n",
    "# Optimizing the grid search on f1-score\n",
    "clf = GridSearchCV(estimator=model, param_grid=params, scoring='f1', cv=5, n_jobs=-1)\n",
    "\n",
    "clf.fit(train_tfidf_bigram, y_train)"
   ]
  },
  {
   "cell_type": "code",
   "execution_count": 13,
   "metadata": {},
   "outputs": [
    {
     "data": {
      "text/plain": [
       "{'C': 100, 'penalty': 'l1', 'solver': 'liblinear'}"
      ]
     },
     "execution_count": 13,
     "metadata": {},
     "output_type": "execute_result"
    }
   ],
   "source": [
    "# Printing the best parameters\n",
    "\n",
    "clf.best_params_"
   ]
  },
  {
   "cell_type": "code",
   "execution_count": 5,
   "metadata": {},
   "outputs": [
    {
     "name": "stdout",
     "output_type": "stream",
     "text": [
      "____________________________________________________________\n",
      "\n",
      "Train set report:\n",
      "\n",
      "              precision    recall  f1-score   support\n",
      "\n",
      "           0       1.00      1.00      1.00     26936\n",
      "           1       1.00      1.00      1.00     27808\n",
      "\n",
      "    accuracy                           1.00     54744\n",
      "   macro avg       1.00      1.00      1.00     54744\n",
      "weighted avg       1.00      1.00      1.00     54744\n",
      "\n",
      "\n",
      "************************************************************\n",
      "\n",
      "Test set report:\n",
      "\n",
      "              precision    recall  f1-score   support\n",
      "\n",
      "           0       0.99      0.98      0.98      6734\n",
      "           1       0.98      0.99      0.99      6952\n",
      "\n",
      "    accuracy                           0.98     13686\n",
      "   macro avg       0.98      0.98      0.98     13686\n",
      "weighted avg       0.98      0.98      0.98     13686\n",
      "\n",
      "____________________________________________________________\n",
      "\n",
      "\n",
      "\n",
      "Train F1 score: 1.0\n",
      "Test F1 score: 0.985\n",
      "\n",
      "Train Accuracy: 1.0\n",
      "Test Accuracy: 0.985\n",
      "\n",
      "____________________________________________________________\n",
      "\n"
     ]
    },
    {
     "data": {
      "image/png": "[encoded data removed]",
      "text/plain": [
       "<Figure size 432x288 with 2 Axes>"
      ]
     },
     "metadata": {
      "needs_background": "light"
     },
     "output_type": "display_data"
    }
   ],
   "source": [
    "# Training a logistic Regression Model with the best parameters \n",
    "\n",
    "tuned_clf = LogisticRegression(penalty='l1', C=100, solver='liblinear')\n",
    "\n",
    "train_model(tuned_clf, train_tfidf_bigram, y_train, test_tfidf_bigram, y_test)"
   ]
  },
  {
   "cell_type": "markdown",
   "metadata": {},
   "source": [
    "## Comparing cross_val scores for Tuned LR Model and Untuned Model"
   ]
  },
  {
   "cell_type": "code",
   "execution_count": 15,
   "metadata": {},
   "outputs": [],
   "source": [
    "# Measuring performance on a 5-Fold CV for untuned model\n",
    "\n",
    "model = LogisticRegression()\n",
    "\n",
    "scores_lr_acc = cross_val_score(estimator=model, X=train_tfidf_bigram, y=y_train, scoring='accuracy', cv=5, n_jobs=-1)\n",
    "scores_lr_f1 = cross_val_score(estimator=model, X=train_tfidf_bigram, y=y_train, scoring='f1', cv=5, n_jobs=-1)"
   ]
  },
  {
   "cell_type": "code",
   "execution_count": 16,
   "metadata": {},
   "outputs": [
    {
     "name": "stdout",
     "output_type": "stream",
     "text": [
      "5-Fold Accuracy for the untuned model: 97.55 %\n",
      "5-Fold F1 for the untuned model: 0.976\n"
     ]
    }
   ],
   "source": [
    "print(f\"5-Fold Accuracy for the untuned model: {np.round(scores_lr_acc.mean()*100, 2)} %\")\n",
    "print(f\"5-Fold F1 for the untuned model: {np.round(scores_lr_f1.mean(),4)}\")"
   ]
  },
  {
   "cell_type": "code",
   "execution_count": 17,
   "metadata": {},
   "outputs": [],
   "source": [
    "# Measuring performance on a 5-Fold CV for tuned model\n",
    "\n",
    "model_tuned = LogisticRegression(penalty='l1', C=100, solver='liblinear')\n",
    "\n",
    "scores_tuned_lr_acc = cross_val_score(estimator=model_tuned, X=train_tfidf_bigram, y=y_train, scoring='accuracy', cv=5, n_jobs=-1)\n",
    "scores_tuned_lr_f1 = cross_val_score(estimator=model_tuned, X=train_tfidf_bigram, y=y_train, scoring='f1', cv=5, n_jobs=-1)"
   ]
  },
  {
   "cell_type": "code",
   "execution_count": 18,
   "metadata": {},
   "outputs": [
    {
     "name": "stdout",
     "output_type": "stream",
     "text": [
      "5-Fold Accuracy for the tuned model: 98.45 %\n",
      "5-Fold F1 for the tuned model: 0.9846\n"
     ]
    }
   ],
   "source": [
    "print(f\"5-Fold Accuracy for the tuned model: {np.round(scores_tuned_lr_acc.mean()*100, 2)} %\")\n",
    "print(f\"5-Fold F1 for the tuned model: {np.round(scores_tuned_lr_f1.mean(),4)}\")"
   ]
  },
  {
   "cell_type": "code",
   "execution_count": 7,
   "metadata": {},
   "outputs": [],
   "source": [
    "# Saving the classifer\n",
    "\n",
    "file_name = 'model.pkl'\n",
    " \n",
    "with open(file_name, 'wb') as file:\n",
    "    pickle.dump(tuned_clf, file)"
   ]
  },
  {
   "cell_type": "markdown",
   "metadata": {},
   "source": [
    "##  Hyper-Parameter Tuning for the XGBoost classifier with W2V"
   ]
  },
  {
   "cell_type": "code",
   "execution_count": 5,
   "metadata": {},
   "outputs": [],
   "source": [
    "# Initializing the model \n",
    "\n",
    "xgb_model = XGBClassifier(n_jobs=6)"
   ]
  },
  {
   "cell_type": "code",
   "execution_count": 6,
   "metadata": {},
   "outputs": [
    {
     "name": "stdout",
     "output_type": "stream",
     "text": [
      "[18:51:40] WARNING: C:/Users/Administrator/workspace/xgboost-win64_release_1.3.0/src/learner.cc:1061: Starting in XGBoost 1.3.0, the default evaluation metric used with the objective 'binary:logistic' was changed from 'error' to 'logloss'. Explicitly set eval_metric if you'd like to restore the old behavior.\n",
      "Wall time: 2h 56min 18s\n"
     ]
    },
    {
     "data": {
      "text/plain": [
       "GridSearchCV(cv=3,\n",
       "             estimator=XGBClassifier(base_score=None, booster=None,\n",
       "                                     colsample_bylevel=None,\n",
       "                                     colsample_bynode=None,\n",
       "                                     colsample_bytree=None, gamma=None,\n",
       "                                     gpu_id=None, importance_type='gain',\n",
       "                                     interaction_constraints=None,\n",
       "                                     learning_rate=None, max_delta_step=None,\n",
       "                                     max_depth=None, min_child_weight=None,\n",
       "                                     missing=nan, monotone_constraints=None,\n",
       "                                     n_estimators=100, n_jobs=6,\n",
       "                                     num_parallel_tree=None, random_state=None,\n",
       "                                     reg_alpha=None, reg_lambda=None,\n",
       "                                     scale_pos_weight=None, subsample=None,\n",
       "                                     tree_method=None, validate_parameters=None,\n",
       "                                     verbosity=None),\n",
       "             n_jobs=6,\n",
       "             param_grid={'gamma': [0.0, 0.2, 0.4],\n",
       "                         'learning_rate': [0.1, 0.2, 0.3],\n",
       "                         'max_depth': [3, 6, 9, 12]},\n",
       "             scoring='f1')"
      ]
     },
     "execution_count": 6,
     "metadata": {},
     "output_type": "execute_result"
    }
   ],
   "source": [
    "%%time\n",
    "# Defining the param dictionary for Grid Search\n",
    "\n",
    "params = {\"learning_rate\"    : [0.1, 0.2, 0.3] ,\n",
    "          \"max_depth\"        : [3, 6, 9, 12],\n",
    "          \"gamma\"            : [ 0.0, 0.2, 0.4 ]}\n",
    "\n",
    "# Optimizing the grid search on f1-score\n",
    "clf = GridSearchCV(estimator=xgb_model, param_grid=params, scoring='f1', cv=3, n_jobs=6)\n",
    "\n",
    "clf.fit(train_w2vgoogle, y_train)"
   ]
  },
  {
   "cell_type": "code",
   "execution_count": 7,
   "metadata": {},
   "outputs": [
    {
     "data": {
      "text/plain": [
       "{'gamma': 0.4, 'learning_rate': 0.3, 'max_depth': 6}"
      ]
     },
     "execution_count": 7,
     "metadata": {},
     "output_type": "execute_result"
    }
   ],
   "source": [
    "# Printing the best parameters \n",
    "\n",
    "clf.best_params_"
   ]
  },
  {
   "cell_type": "code",
   "execution_count": 8,
   "metadata": {},
   "outputs": [
    {
     "name": "stdout",
     "output_type": "stream",
     "text": [
      "[19:10:35] WARNING: C:/Users/Administrator/workspace/xgboost-win64_release_1.3.0/src/learner.cc:1061: Starting in XGBoost 1.3.0, the default evaluation metric used with the objective 'binary:logistic' was changed from 'error' to 'logloss'. Explicitly set eval_metric if you'd like to restore the old behavior.\n",
      "____________________________________________________________\n",
      "\n",
      "Train set report:\n",
      "\n",
      "              precision    recall  f1-score   support\n",
      "\n",
      "           0       1.00      1.00      1.00     26936\n",
      "           1       1.00      1.00      1.00     27808\n",
      "\n",
      "    accuracy                           1.00     54744\n",
      "   macro avg       1.00      1.00      1.00     54744\n",
      "weighted avg       1.00      1.00      1.00     54744\n",
      "\n",
      "\n",
      "************************************************************\n",
      "\n",
      "Test set report:\n",
      "\n",
      "              precision    recall  f1-score   support\n",
      "\n",
      "           0       0.94      0.92      0.93      6734\n",
      "           1       0.92      0.94      0.93      6952\n",
      "\n",
      "    accuracy                           0.93     13686\n",
      "   macro avg       0.93      0.93      0.93     13686\n",
      "weighted avg       0.93      0.93      0.93     13686\n",
      "\n",
      "____________________________________________________________\n",
      "\n",
      "\n",
      "\n",
      "Train F1 score: 0.998\n",
      "Test F1 score: 0.933\n",
      "\n",
      "Train Accuracy: 0.998\n",
      "Test Accuracy: 0.931\n",
      "\n",
      "____________________________________________________________\n",
      "\n"
     ]
    },
    {
     "data": {
      "image/png": "[encoded data removed]",
      "text/plain": [
       "<Figure size 432x288 with 2 Axes>"
      ]
     },
     "metadata": {
      "needs_background": "light"
     },
     "output_type": "display_data"
    }
   ],
   "source": [
    "# Training an XGBoost Model with the best parameters \n",
    "\n",
    "tuned_clf = XGBClassifier(gamma=0.4, learning_rate=0.3, max_depth=6)\n",
    "\n",
    "train_model(tuned_clf, train_w2vgoogle, y_train, test_w2vgoogle, y_test)"
   ]
  },
  {
   "cell_type": "markdown",
   "metadata": {},
   "source": [
    "### Conculusions and takeaways\n",
    "* Logistic Regession after tuning the parameters is able to achieve a test accuracy of 98.5% and a test F1 score of 0.933\n",
    "* XGBoost with a bit of hyperparameter tuning stays at 93.1 % test accuracy and is overfitting a bit. There can be further experimentation with the regularization parameters but the entire process is very time consuming\n",
    "* Since Logistic Regression is already giving us great results, we'll stick to Logistic Regression"
   ]
  },
  {
   "cell_type": "markdown",
   "metadata": {},
   "source": [
    "# Model Calibration"
   ]
  },
  {
   "cell_type": "code",
   "execution_count": 5,
   "metadata": {},
   "outputs": [],
   "source": [
    "# Reading the model pickle file to load the model\n",
    "\n",
    "with open('model.pkl', 'rb') as file:\n",
    "    model = pickle.load(file)"
   ]
  },
  {
   "cell_type": "code",
   "execution_count": 6,
   "metadata": {},
   "outputs": [],
   "source": [
    "calibrated_model = CalibratedClassifierCV(model, cv='prefit')"
   ]
  },
  {
   "cell_type": "code",
   "execution_count": 8,
   "metadata": {},
   "outputs": [
    {
     "data": {
      "text/plain": [
       "CalibratedClassifierCV(base_estimator=LogisticRegression(C=100, penalty='l1',\n",
       "                                                         solver='liblinear'),\n",
       "                       cv='prefit')"
      ]
     },
     "execution_count": 8,
     "metadata": {},
     "output_type": "execute_result"
    }
   ],
   "source": [
    "calibrated_model.fit(train_tfidf_bigram, y_train)"
   ]
  },
  {
   "cell_type": "code",
   "execution_count": 10,
   "metadata": {},
   "outputs": [],
   "source": [
    "# Saving the calibrated model\n",
    "\n",
    "file_name = 'calibrated_model.pkl'\n",
    " \n",
    "with open(file_name, 'wb') as file:\n",
    "    pickle.dump(calibrated_model, file)"
   ]
  },
  {
   "cell_type": "markdown",
   "metadata": {},
   "source": [
    "# Takeaways\n",
    "* Logistic Regression when paired with TFIDF and bigrams yields the best test scores.\n",
    "* The test F1 score obtained was 0.985 and test accuracy was 98.5%.\n",
    "* Its clear that linear models work really well with high dimensionality and can even outperform tree based classifiers."
   ]
  }
 ],
 "metadata": {
  "kernelspec": {
   "display_name": "Python 3",
   "language": "python",
   "name": "python3"
  },
  "language_info": {
   "codemirror_mode": {
    "name": "ipython",
    "version": 3
   },
   "file_extension": ".py",
   "mimetype": "text/x-python",
   "name": "python",
   "nbconvert_exporter": "python",
   "pygments_lexer": "ipython3",
   "version": "3.8.5"
  }
 },
 "nbformat": 4,
 "nbformat_minor": 4
}
